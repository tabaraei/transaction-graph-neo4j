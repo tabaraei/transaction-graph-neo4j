{
 "cells": [
  {
   "cell_type": "markdown",
   "id": "3cf86328-3d7c-4147-af16-386a0bc36ec4",
   "metadata": {},
   "source": [
    "# Experiments"
   ]
  },
  {
   "cell_type": "code",
   "execution_count": 1,
   "id": "814b59d0-27b3-452b-8561-f33fcdb3f47e",
   "metadata": {},
   "outputs": [],
   "source": [
    "from neo4j import GraphDatabase\n",
    "import pandas as pd"
   ]
  },
  {
   "cell_type": "code",
   "execution_count": 2,
   "id": "4fed8be1-7dc6-42dc-988d-47b2dd288464",
   "metadata": {},
   "outputs": [],
   "source": [
    "auth = {\n",
    "    \"uri\": \"bolt://localhost:7687\",\n",
    "    \"user\": \"neo4j\",\n",
    "    \"password\": \"12345678\"\n",
    "}"
   ]
  },
  {
   "cell_type": "code",
   "execution_count": 29,
   "id": "5e9ba85f-5284-4479-b42a-06ac5ca3135a",
   "metadata": {},
   "outputs": [],
   "source": [
    "def read_from_db(query, auth, db):\n",
    "    '''\n",
    "    This function allows us to query the active DB using the specified\n",
    "    authentication information, and return the results as a DataFrame\n",
    "    '''\n",
    "    driver = GraphDatabase.driver(auth['uri'], auth=(auth['user'], auth['password']))\n",
    "    records, summary, keys = driver.execute_query(query, database_=db)\n",
    "    driver.close()\n",
    "\n",
    "    print(f'The query returned {len(records)} records in {summary.result_available_after} ms.')\n",
    "    df = pd.DataFrame([dict(record) for record in records])\n",
    "    return df"
   ]
  },
  {
   "cell_type": "code",
   "execution_count": null,
   "id": "515fe13a-8cf6-4eb5-ba0c-e2dfa97721d9",
   "metadata": {},
   "outputs": [],
   "source": [
    "query = 'MATCH (n:Customer) RETURN n.customer_id, n.x_customer_id, n.y_customer_id'\n",
    "# query = 'MATCH (n) DETACH DELETE n'\n",
    "\n",
    "df = read_from_db(query, auth)\n",
    "df.head()"
   ]
  },
  {
   "cell_type": "markdown",
   "id": "3daf24d7-266d-4812-a29c-6e1bd2b3520f",
   "metadata": {},
   "source": [
    "## Query (A)"
   ]
  },
  {
   "cell_type": "markdown",
   "id": "ba9e1bf3-47c3-4958-8aba-0d807c5b79ba",
   "metadata": {},
   "source": [
    "**Query:** For each customer check that the spending frequency and the spending amounts of the last month are under the usual spending frequency and the spending amounts for the same period.\n",
    "\n",
    "**Assumptions:**\n",
    "\n",
    "- For this query, we should focus solely on transactions from the past month. As the generated dataset may span along various timeframes (past, present, and future), we can't simply use `today()`'s date as a reference point to capture transactions from the preceding month. Instead, we rely on the latest recorded transaction in the entire database, and we include transactions up to 31 days before that date.\n",
    "- For a given customer $c$ and customer's set of transactions $t \\in \\{transactions\\_last\\_month\\}$, we assume that:\n",
    "\n",
    "  $spending\\_frequency = count(t)$\n",
    "\n",
    "  $spending\\_amount = \\sum_{t} t.tx\\_amount$\n",
    "  \n",
    "- In order to compare such values with the *usual* spending frequency and amount of all customers $c \\in C$ in the same period, we will compute $avg\\_frequency$ and $avg\\_amount$ as reference values to perform the comparison:\n",
    "\n",
    "  $avg\\_frequency = \\frac{1}{|C|} \\sum_{c \\in C} c.spending\\_frequency$\n",
    "\n",
    "  $avg\\_amount = \\frac{1}{|C|} \\sum_{c \\in C} c.spending\\_amount$\n",
    "\n",
    "- In the end, for each $c \\in C$, we will report whether or not $(c.spending\\_frequency < avg\\_frequency)$ and $(c.spending\\_amount < avg\\_amount)$."
   ]
  },
  {
   "cell_type": "code",
   "execution_count": 4,
   "id": "02630748-f40c-47bb-ad19-2665992a2e92",
   "metadata": {},
   "outputs": [],
   "source": [
    "query_A = '''\n",
    "    MATCH ()-[t:TRANSACTION]->()\n",
    "    WITH max(datetime(t.tx_datetime)) AS last_date\n",
    "    \n",
    "    MATCH (c:Customer)-[t:TRANSACTION]->(:Terminal)\n",
    "    WHERE duration.inDays(datetime(t.tx_datetime), last_date).days < 31\n",
    "    WITH\n",
    "        c.customer_id AS customer_id,\n",
    "        round(sum(t.tx_amount), 3) AS customer_transaction_amount,\n",
    "        COUNT(t) AS customer_transaction_frequency\n",
    "    WITH\n",
    "        collect({\n",
    "            id: customer_id,\n",
    "            tx_amount: customer_transaction_amount,\n",
    "            tx_freq: customer_transaction_frequency\n",
    "        }) AS customer_details,\n",
    "        round(avg(customer_transaction_amount), 3) AS average_transaction_amount,\n",
    "        avg(customer_transaction_frequency) AS average_transaction_frequency\n",
    "    UNWIND customer_details as cd\n",
    "    RETURN\n",
    "        cd.id AS customer_id,\n",
    "        cd.tx_amount AS customer_transaction_amount,\n",
    "        average_transaction_amount,\n",
    "        cd.tx_freq AS customer_transaction_frequency,\n",
    "        average_transaction_frequency,\n",
    "        CASE\n",
    "            WHEN cd.tx_amount < average_transaction_amount\n",
    "            THEN 'Lower than average' ELSE 'Higher than average'\n",
    "            END AS amount_comparison,\n",
    "        CASE\n",
    "            WHEN cd.tx_freq < average_transaction_frequency\n",
    "            THEN 'Lower than average' ELSE 'Higher than average'\n",
    "            END AS frequency_comparison\n",
    "'''"
   ]
  },
  {
   "cell_type": "code",
   "execution_count": 33,
   "id": "c05ea853-0c91-433f-a879-14675a4ce310",
   "metadata": {},
   "outputs": [
    {
     "name": "stdout",
     "output_type": "stream",
     "text": [
      "The query returned 0 records in 2 ms.\n"
     ]
    },
    {
     "data": {
      "text/html": [
       "<div>\n",
       "<style scoped>\n",
       "    .dataframe tbody tr th:only-of-type {\n",
       "        vertical-align: middle;\n",
       "    }\n",
       "\n",
       "    .dataframe tbody tr th {\n",
       "        vertical-align: top;\n",
       "    }\n",
       "\n",
       "    .dataframe thead th {\n",
       "        text-align: right;\n",
       "    }\n",
       "</style>\n",
       "<table border=\"1\" class=\"dataframe\">\n",
       "  <thead>\n",
       "    <tr style=\"text-align: right;\">\n",
       "      <th></th>\n",
       "    </tr>\n",
       "  </thead>\n",
       "  <tbody>\n",
       "  </tbody>\n",
       "</table>\n",
       "</div>"
      ],
      "text/plain": [
       "Empty DataFrame\n",
       "Columns: []\n",
       "Index: []"
      ]
     },
     "execution_count": 33,
     "metadata": {},
     "output_type": "execute_result"
    }
   ],
   "source": [
    "df_A = read_from_db(query_A, auth, 'TG50')\n",
    "df_A.head()"
   ]
  },
  {
   "cell_type": "markdown",
   "id": "90ff5384-ab2a-4206-b9d0-1d3468b88cda",
   "metadata": {},
   "source": [
    "## Query (B)"
   ]
  },
  {
   "cell_type": "markdown",
   "id": "fab34cdc-7f25-4418-9e41-6be655dc8dcb",
   "metadata": {},
   "source": [
    "**Query:** For each terminal identify the possible fraudulent transactions. The fraudulent transactions are those whose import is higher than 20% of the maximum import of the transactions executed on the same terminal in the last month.\n",
    "\n",
    "**Assumptions:**\n",
    "- Similar to query (A), we obtain the latest transaction recorded in DB according to the previously mentioned reasons.\n",
    "- To implement the query, we need to establish a `fraud_threshold` for each terminal. Initially, the description suggests setting the threshold as $0.2 \\times \\text{max}(t)$, resulting in numerous transactions $t \\in \\{terminal\\_transactions\\}$ being flagged as fraudulent. Instead, we propose setting the threshold as $0.8 \\times \\text{max}(t)$ to obtain only transactions with abnormal amounts for each terminal in the last month."
   ]
  },
  {
   "cell_type": "code",
   "execution_count": 6,
   "id": "ba5573b4-5c65-4fda-a1a0-9b94d1682e88",
   "metadata": {},
   "outputs": [],
   "source": [
    "query_B = '''\n",
    "    MATCH ()-[t:TRANSACTION]->()\n",
    "    WITH max(datetime(t.tx_datetime)) AS last_date\n",
    "\n",
    "    MATCH (:Customer)-[t:TRANSACTION]->(terminal:Terminal)\n",
    "    WHERE duration.inDays(datetime(t.tx_datetime), last_date).days < 31\n",
    "    WITH terminal, round(0.8 * max(t.tx_amount), 3) AS fraud_threshold, collect(t) AS transactions\n",
    "    UNWIND transactions AS transaction\n",
    "    WITH terminal, transaction, fraud_threshold\n",
    "    WHERE transaction.tx_amount > fraud_threshold\n",
    "    RETURN\n",
    "        terminal.terminal_id AS terminal_id,\n",
    "        transaction.transaction_id AS transaction_id,\n",
    "        transaction.customer_id AS customer_id,\n",
    "        transaction.tx_amount AS transaction_amount,\n",
    "        fraud_threshold\n",
    "'''"
   ]
  },
  {
   "cell_type": "code",
   "execution_count": 7,
   "id": "9c66432f-6ff0-45bf-b97b-edc74ae4f369",
   "metadata": {},
   "outputs": [
    {
     "name": "stdout",
     "output_type": "stream",
     "text": [
      "The query returned 5 records in 272 ms.\n"
     ]
    },
    {
     "data": {
      "text/html": [
       "<div>\n",
       "<style scoped>\n",
       "    .dataframe tbody tr th:only-of-type {\n",
       "        vertical-align: middle;\n",
       "    }\n",
       "\n",
       "    .dataframe tbody tr th {\n",
       "        vertical-align: top;\n",
       "    }\n",
       "\n",
       "    .dataframe thead th {\n",
       "        text-align: right;\n",
       "    }\n",
       "</style>\n",
       "<table border=\"1\" class=\"dataframe\">\n",
       "  <thead>\n",
       "    <tr style=\"text-align: right;\">\n",
       "      <th></th>\n",
       "      <th>terminal_id</th>\n",
       "      <th>transaction_id</th>\n",
       "      <th>customer_id</th>\n",
       "      <th>transaction_amount</th>\n",
       "      <th>fraud_threshold</th>\n",
       "    </tr>\n",
       "  </thead>\n",
       "  <tbody>\n",
       "    <tr>\n",
       "      <th>0</th>\n",
       "      <td>0</td>\n",
       "      <td>26</td>\n",
       "      <td>1</td>\n",
       "      <td>1546.25</td>\n",
       "      <td>1237.0</td>\n",
       "    </tr>\n",
       "    <tr>\n",
       "      <th>1</th>\n",
       "      <td>0</td>\n",
       "      <td>20</td>\n",
       "      <td>1</td>\n",
       "      <td>1381.50</td>\n",
       "      <td>1237.0</td>\n",
       "    </tr>\n",
       "    <tr>\n",
       "      <th>2</th>\n",
       "      <td>3</td>\n",
       "      <td>44</td>\n",
       "      <td>1</td>\n",
       "      <td>7981.25</td>\n",
       "      <td>6385.0</td>\n",
       "    </tr>\n",
       "    <tr>\n",
       "      <th>3</th>\n",
       "      <td>4</td>\n",
       "      <td>40</td>\n",
       "      <td>4</td>\n",
       "      <td>1844.25</td>\n",
       "      <td>1475.4</td>\n",
       "    </tr>\n",
       "    <tr>\n",
       "      <th>4</th>\n",
       "      <td>4</td>\n",
       "      <td>43</td>\n",
       "      <td>4</td>\n",
       "      <td>1674.25</td>\n",
       "      <td>1475.4</td>\n",
       "    </tr>\n",
       "  </tbody>\n",
       "</table>\n",
       "</div>"
      ],
      "text/plain": [
       "   terminal_id  transaction_id  customer_id  transaction_amount  \\\n",
       "0            0              26            1             1546.25   \n",
       "1            0              20            1             1381.50   \n",
       "2            3              44            1             7981.25   \n",
       "3            4              40            4             1844.25   \n",
       "4            4              43            4             1674.25   \n",
       "\n",
       "   fraud_threshold  \n",
       "0           1237.0  \n",
       "1           1237.0  \n",
       "2           6385.0  \n",
       "3           1475.4  \n",
       "4           1475.4  "
      ]
     },
     "execution_count": 7,
     "metadata": {},
     "output_type": "execute_result"
    }
   ],
   "source": [
    "df_B = read_from_db(query_B, auth)\n",
    "df_B.head()"
   ]
  },
  {
   "cell_type": "markdown",
   "id": "d3296f84-b59a-4a03-a4ce-8a0978d4940f",
   "metadata": {},
   "source": [
    "## Query (C)"
   ]
  },
  {
   "cell_type": "markdown",
   "id": "8ada369d-b9a9-4088-b8cb-625b2703c4d2",
   "metadata": {},
   "source": [
    "**Query:** Given a user $u$, determine the “co-customer-relationships $CC$ of degree $k$”. A user $u’$ is a co-customer of $u$ if you can determine a chain “$u_1-t_1-u_2-t_2-…t_{k-1}-u_k$“ such that $u_1=u$, $u_k=u’$, and for each $1 \\leq i$ and $j \\leq k$, $u_i<>u_j$, and $t_1,..t_{k-1}$ are the terminals on which a transaction has been executed. Therefore, $CC_k(u)=\\{u’| \\text{ a chain exists between } u \\text{ and } u’ \\text{ of degree } k\\}$. Please, note that depending on the adopted model, the computation of $CC_k(u)$ could be quite complicated. Consider therefore at least the computation of $CC_3(u)$ (i.e. the co-costumer relationships of degree 3).\n",
    "\n",
    "**Assumptions:**\n",
    "- According to the query description, to identify $CC_3(u)$ on our graph database, we should look for subgraphs similar to the diagram drawn below, and identify such co-customers $c_1=u$, $c_3=u’$:\n",
    "  \n",
    "  ![CC3-diagram](images/CC3-diagram.png)\n",
    "\n",
    "- To compute $CC_k(u)$, it has been mentioned that each customer should be traversed once only ($u_i<>u_j$). However, nothing has been mentioned for the traverse of the terminals, hence we assume that they can be traversed repeatedly.\n",
    "- In most cases, there are several transactions present among each customer and the connected terminals (possibly hundreds or thousands). To make the query more efficient, since we are only interested in identifying $CC_3(u)$ relationships and not all the possible chains between $u$ and $u’$, we group our data by the start/end nodes of the chain and only report a single chain as a sample using `head(collect(...))`."
   ]
  },
  {
   "cell_type": "code",
   "execution_count": 8,
   "id": "2f34f6f5-7238-4eda-ba16-844046e95b49",
   "metadata": {},
   "outputs": [],
   "source": [
    "query_C = '''\n",
    "    MATCH\n",
    "        (c1:Customer)-[:TRANSACTION]->(t1:Terminal),\n",
    "        (t1)<-[:TRANSACTION]-(c2:Customer),\n",
    "        (c2)-[:TRANSACTION]->(t2:Terminal),\n",
    "        (t2)<-[:TRANSACTION]-(c3:Customer)\n",
    "    WHERE c1 <> c2 AND c1 <> c3 AND c2 <> c3\n",
    "    WITH\n",
    "        c1,\n",
    "        c3,\n",
    "        head(collect({\n",
    "            c2: c2.customer_id,\n",
    "            t1: t1.terminal_id,\n",
    "            t2: t2.terminal_id})\n",
    "        ) as sample_chain\n",
    "    RETURN\n",
    "        c1.customer_id AS customer,\n",
    "        c3.customer_id AS co_customer,\n",
    "            \"(c\" + c1.customer_id + \")->(t\" + sample_chain.t1\n",
    "            + \")<-(c\" + sample_chain.c2 + \")->(t\" + sample_chain.t2\n",
    "            + \")<-(c\" + c3.customer_id + \")\"\n",
    "        AS sample_chain\n",
    "'''"
   ]
  },
  {
   "cell_type": "code",
   "execution_count": 9,
   "id": "ce8aab36-1070-4cc7-8c28-99280dfd33e7",
   "metadata": {},
   "outputs": [
    {
     "name": "stdout",
     "output_type": "stream",
     "text": [
      "The query returned 12 records in 334 ms.\n"
     ]
    },
    {
     "data": {
      "text/html": [
       "<div>\n",
       "<style scoped>\n",
       "    .dataframe tbody tr th:only-of-type {\n",
       "        vertical-align: middle;\n",
       "    }\n",
       "\n",
       "    .dataframe tbody tr th {\n",
       "        vertical-align: top;\n",
       "    }\n",
       "\n",
       "    .dataframe thead th {\n",
       "        text-align: right;\n",
       "    }\n",
       "</style>\n",
       "<table border=\"1\" class=\"dataframe\">\n",
       "  <thead>\n",
       "    <tr style=\"text-align: right;\">\n",
       "      <th></th>\n",
       "      <th>customer</th>\n",
       "      <th>co_customer</th>\n",
       "      <th>sample_chain</th>\n",
       "    </tr>\n",
       "  </thead>\n",
       "  <tbody>\n",
       "    <tr>\n",
       "      <th>0</th>\n",
       "      <td>0</td>\n",
       "      <td>1</td>\n",
       "      <td>(c0)-&gt;(t4)&lt;-(c4)-&gt;(t0)&lt;-(c1)</td>\n",
       "    </tr>\n",
       "    <tr>\n",
       "      <th>1</th>\n",
       "      <td>0</td>\n",
       "      <td>3</td>\n",
       "      <td>(c0)-&gt;(t4)&lt;-(c4)-&gt;(t0)&lt;-(c3)</td>\n",
       "    </tr>\n",
       "    <tr>\n",
       "      <th>2</th>\n",
       "      <td>0</td>\n",
       "      <td>4</td>\n",
       "      <td>(c0)-&gt;(t4)&lt;-(c1)-&gt;(t0)&lt;-(c4)</td>\n",
       "    </tr>\n",
       "    <tr>\n",
       "      <th>3</th>\n",
       "      <td>1</td>\n",
       "      <td>4</td>\n",
       "      <td>(c1)-&gt;(t0)&lt;-(c0)-&gt;(t4)&lt;-(c4)</td>\n",
       "    </tr>\n",
       "    <tr>\n",
       "      <th>4</th>\n",
       "      <td>1</td>\n",
       "      <td>3</td>\n",
       "      <td>(c1)-&gt;(t0)&lt;-(c0)-&gt;(t0)&lt;-(c3)</td>\n",
       "    </tr>\n",
       "  </tbody>\n",
       "</table>\n",
       "</div>"
      ],
      "text/plain": [
       "   customer  co_customer                  sample_chain\n",
       "0         0            1  (c0)->(t4)<-(c4)->(t0)<-(c1)\n",
       "1         0            3  (c0)->(t4)<-(c4)->(t0)<-(c3)\n",
       "2         0            4  (c0)->(t4)<-(c1)->(t0)<-(c4)\n",
       "3         1            4  (c1)->(t0)<-(c0)->(t4)<-(c4)\n",
       "4         1            3  (c1)->(t0)<-(c0)->(t0)<-(c3)"
      ]
     },
     "execution_count": 9,
     "metadata": {},
     "output_type": "execute_result"
    }
   ],
   "source": [
    "df_C = read_from_db(query_C, auth)\n",
    "df_C.head()"
   ]
  },
  {
   "cell_type": "markdown",
   "id": "a28323a7-cf68-4e3d-8ae1-c53318aa2e7d",
   "metadata": {},
   "source": [
    "## Query (D)"
   ]
  },
  {
   "cell_type": "markdown",
   "id": "6352eec7-3eda-494c-bde0-920f37d15ca8",
   "metadata": {},
   "source": [
    "**Query:** Extend the logical model that you have stored in the NOSQL database by introducing the\n",
    "following information:\n",
    "- Each transaction should be extended with:\n",
    "    1. The period of the day {morning, afternoon, evening, night} in which the transaction has been executed.\n",
    "    2. The kind of products that have been bought through the transaction {hightech, food, clothing, consumable, other}\n",
    "    3. The feeling of security expressed by the user. This is an integer value between 1 and 5 expressed by the user when conclude the transaction. The values can be chosen randomly.\n",
    "- Customers that make more than three transactions from the same terminal expressing a similar average feeling of security should be connected as “buying_friends”. Therefore also this kind of relationship should be explicitly stored in the NOSQL database and can be queried. Note, two average feelings of security are considered similar when their difference is lower than 1.\n",
    "\n",
    "**Assumptions:**\n",
    "- To obtain the period of the day, we utlize the transaction hours such that transactions within \"06:00-12:00\" are tagged \"morning\", \"12:00-18:00\" as \"afternoon\", \"18:00-00:00\" as \"evening\", and \"00:00-06:00\" as \"night\".\n",
    "- For the kind of product purchased along the transaction, we assume that the products only belong to a single category among {\"high-tech\", \"food\", \"clothing\", \"consumable\", \"other\"}, which we randomly select and assign to each transaction. If we instead wanted to have a *list* of products for each transaction, we could create a list such that each entry (corresponding to a product) is randomly included or excluded. For example, `CASE WHEN rand()<0.5 THEN \"high-tech\" END`, and we repeat the same for all other products.\n",
    "- Security feeling of the transaction is also drawn randomly and distributed as an integer number from 1 to 5.\n",
    "- In a separate query, we attempt to add `BUYING_FRIEND` relationships. We find customers with +3 transactions on the same terminal, computing their average security feeling separately, and connect them if their feelings is similar.\n",
    "\n",
    "  ![buying_friends](images/buying-friends-diagram.png)"
   ]
  },
  {
   "cell_type": "code",
   "execution_count": 18,
   "id": "3ff0b4f4-7cfc-41ae-b3af-89d093bbf95b",
   "metadata": {},
   "outputs": [],
   "source": [
    "query_D1 = '''\n",
    "    MATCH (:Customer)-[t:TRANSACTION]->(:Terminal)\n",
    "    SET\n",
    "        t.period_of_day = \n",
    "            CASE\n",
    "                WHEN datetime(t.tx_datetime).hour >= 6 AND datetime(t.tx_datetime).hour < 12 THEN 'morning'\n",
    "                WHEN datetime(t.tx_datetime).hour >= 12 AND datetime(t.tx_datetime).hour < 18 THEN 'afternoon'\n",
    "                WHEN datetime(t.tx_datetime).hour >= 18 AND datetime(t.tx_datetime).hour < 24 THEN 'evening'\n",
    "                ELSE 'night'\n",
    "            END,\n",
    "        t.product = \n",
    "            [\"high-tech\", \"food\", \"clothing\", \"consumable\", \"other\"]\n",
    "            [toInteger(round(rand() * 4))],\n",
    "        t.security_feeling = toInteger(round(rand() * 4) + 1)\n",
    "\n",
    "    RETURN\n",
    "        t.transaction_id, t.customer_id, t.terminal_id, t.tx_datetime,\n",
    "        t.period_of_day, t.product, t.security_feeling\n",
    "    LIMIT 5\n",
    "'''"
   ]
  },
  {
   "cell_type": "code",
   "execution_count": 19,
   "id": "bf60eff3-373b-4ab1-be47-aa879f73ac9f",
   "metadata": {},
   "outputs": [
    {
     "name": "stdout",
     "output_type": "stream",
     "text": [
      "The query returned 5 records in 107 ms.\n"
     ]
    },
    {
     "data": {
      "text/html": [
       "<div>\n",
       "<style scoped>\n",
       "    .dataframe tbody tr th:only-of-type {\n",
       "        vertical-align: middle;\n",
       "    }\n",
       "\n",
       "    .dataframe tbody tr th {\n",
       "        vertical-align: top;\n",
       "    }\n",
       "\n",
       "    .dataframe thead th {\n",
       "        text-align: right;\n",
       "    }\n",
       "</style>\n",
       "<table border=\"1\" class=\"dataframe\">\n",
       "  <thead>\n",
       "    <tr style=\"text-align: right;\">\n",
       "      <th></th>\n",
       "      <th>t.transaction_id</th>\n",
       "      <th>t.customer_id</th>\n",
       "      <th>t.terminal_id</th>\n",
       "      <th>t.tx_datetime</th>\n",
       "      <th>t.period_of_day</th>\n",
       "      <th>t.product</th>\n",
       "      <th>t.security_feeling</th>\n",
       "    </tr>\n",
       "  </thead>\n",
       "  <tbody>\n",
       "    <tr>\n",
       "      <th>0</th>\n",
       "      <td>39</td>\n",
       "      <td>0</td>\n",
       "      <td>0</td>\n",
       "      <td>2018-04-04T01:15:35.000000000</td>\n",
       "      <td>night</td>\n",
       "      <td>clothing</td>\n",
       "      <td>3</td>\n",
       "    </tr>\n",
       "    <tr>\n",
       "      <th>1</th>\n",
       "      <td>55</td>\n",
       "      <td>4</td>\n",
       "      <td>0</td>\n",
       "      <td>2018-04-05T18:40:40.000000000</td>\n",
       "      <td>evening</td>\n",
       "      <td>food</td>\n",
       "      <td>5</td>\n",
       "    </tr>\n",
       "    <tr>\n",
       "      <th>2</th>\n",
       "      <td>41</td>\n",
       "      <td>1</td>\n",
       "      <td>0</td>\n",
       "      <td>2018-04-04T05:47:33.000000000</td>\n",
       "      <td>night</td>\n",
       "      <td>consumable</td>\n",
       "      <td>1</td>\n",
       "    </tr>\n",
       "    <tr>\n",
       "      <th>3</th>\n",
       "      <td>54</td>\n",
       "      <td>4</td>\n",
       "      <td>0</td>\n",
       "      <td>2018-04-05T17:23:34.000000000</td>\n",
       "      <td>afternoon</td>\n",
       "      <td>other</td>\n",
       "      <td>5</td>\n",
       "    </tr>\n",
       "    <tr>\n",
       "      <th>4</th>\n",
       "      <td>48</td>\n",
       "      <td>1</td>\n",
       "      <td>0</td>\n",
       "      <td>2018-04-05T12:16:56.000000000</td>\n",
       "      <td>afternoon</td>\n",
       "      <td>food</td>\n",
       "      <td>4</td>\n",
       "    </tr>\n",
       "  </tbody>\n",
       "</table>\n",
       "</div>"
      ],
      "text/plain": [
       "   t.transaction_id  t.customer_id  t.terminal_id  \\\n",
       "0                39              0              0   \n",
       "1                55              4              0   \n",
       "2                41              1              0   \n",
       "3                54              4              0   \n",
       "4                48              1              0   \n",
       "\n",
       "                   t.tx_datetime t.period_of_day   t.product  \\\n",
       "0  2018-04-04T01:15:35.000000000           night    clothing   \n",
       "1  2018-04-05T18:40:40.000000000         evening        food   \n",
       "2  2018-04-04T05:47:33.000000000           night  consumable   \n",
       "3  2018-04-05T17:23:34.000000000       afternoon       other   \n",
       "4  2018-04-05T12:16:56.000000000       afternoon        food   \n",
       "\n",
       "   t.security_feeling  \n",
       "0                   3  \n",
       "1                   5  \n",
       "2                   1  \n",
       "3                   5  \n",
       "4                   4  "
      ]
     },
     "execution_count": 19,
     "metadata": {},
     "output_type": "execute_result"
    }
   ],
   "source": [
    "df_D1 = read_from_db(query_D1, auth)\n",
    "df_D1.head()"
   ]
  },
  {
   "cell_type": "code",
   "execution_count": 20,
   "id": "c5944822-3944-46bc-98e4-1bb9e085cd8b",
   "metadata": {},
   "outputs": [],
   "source": [
    "query_D2 = '''\n",
    "    MATCH (c1:Customer)-[t1:TRANSACTION]->(tm1:Terminal)\n",
    "    WITH c1, tm1, COUNT(t1) AS n_transactions_c1, avg(t1.security_feeling) AS avg_security_t1\n",
    "    WHERE n_transactions_c1 > 3\n",
    "    \n",
    "    MATCH (c2:Customer)-[t2:TRANSACTION]->(tm2:Terminal)\n",
    "    WITH c2, tm2, COUNT(t2) AS n_transactions_c2, avg(t2.security_feeling) AS avg_security_t2, c1, tm1, avg_security_t1\n",
    "    WHERE n_transactions_c2 > 3 AND tm1=tm2 AND c1<>c2\n",
    "        AND ABS(avg_security_t2 - avg_security_t1) < 1\n",
    "    \n",
    "    MERGE (c1)-[:BUYING_FRIENDS]->(c2)\n",
    "    \n",
    "    RETURN\n",
    "        c1.customer_id, c2.customer_id,\n",
    "        tm2.terminal_id AS terminal,\n",
    "        avg_security_t1, avg_security_t2\n",
    "'''"
   ]
  },
  {
   "cell_type": "code",
   "execution_count": 21,
   "id": "d0651375-d844-4b4b-8af6-d06259fd64d6",
   "metadata": {},
   "outputs": [
    {
     "name": "stdout",
     "output_type": "stream",
     "text": [
      "The query returned 8 records in 23 ms.\n"
     ]
    },
    {
     "data": {
      "text/html": [
       "<div>\n",
       "<style scoped>\n",
       "    .dataframe tbody tr th:only-of-type {\n",
       "        vertical-align: middle;\n",
       "    }\n",
       "\n",
       "    .dataframe tbody tr th {\n",
       "        vertical-align: top;\n",
       "    }\n",
       "\n",
       "    .dataframe thead th {\n",
       "        text-align: right;\n",
       "    }\n",
       "</style>\n",
       "<table border=\"1\" class=\"dataframe\">\n",
       "  <thead>\n",
       "    <tr style=\"text-align: right;\">\n",
       "      <th></th>\n",
       "      <th>c1.customer_id</th>\n",
       "      <th>c2.customer_id</th>\n",
       "      <th>terminal</th>\n",
       "      <th>avg_security_t1</th>\n",
       "      <th>avg_security_t2</th>\n",
       "    </tr>\n",
       "  </thead>\n",
       "  <tbody>\n",
       "    <tr>\n",
       "      <th>0</th>\n",
       "      <td>0</td>\n",
       "      <td>4</td>\n",
       "      <td>0</td>\n",
       "      <td>2.500000</td>\n",
       "      <td>3.250000</td>\n",
       "    </tr>\n",
       "    <tr>\n",
       "      <th>1</th>\n",
       "      <td>0</td>\n",
       "      <td>1</td>\n",
       "      <td>0</td>\n",
       "      <td>2.500000</td>\n",
       "      <td>3.166667</td>\n",
       "    </tr>\n",
       "    <tr>\n",
       "      <th>2</th>\n",
       "      <td>4</td>\n",
       "      <td>0</td>\n",
       "      <td>0</td>\n",
       "      <td>3.250000</td>\n",
       "      <td>2.500000</td>\n",
       "    </tr>\n",
       "    <tr>\n",
       "      <th>3</th>\n",
       "      <td>4</td>\n",
       "      <td>1</td>\n",
       "      <td>0</td>\n",
       "      <td>3.250000</td>\n",
       "      <td>3.166667</td>\n",
       "    </tr>\n",
       "    <tr>\n",
       "      <th>4</th>\n",
       "      <td>1</td>\n",
       "      <td>0</td>\n",
       "      <td>0</td>\n",
       "      <td>3.166667</td>\n",
       "      <td>2.500000</td>\n",
       "    </tr>\n",
       "  </tbody>\n",
       "</table>\n",
       "</div>"
      ],
      "text/plain": [
       "   c1.customer_id  c2.customer_id  terminal  avg_security_t1  avg_security_t2\n",
       "0               0               4         0         2.500000         3.250000\n",
       "1               0               1         0         2.500000         3.166667\n",
       "2               4               0         0         3.250000         2.500000\n",
       "3               4               1         0         3.250000         3.166667\n",
       "4               1               0         0         3.166667         2.500000"
      ]
     },
     "execution_count": 21,
     "metadata": {},
     "output_type": "execute_result"
    }
   ],
   "source": [
    "df_D2 = read_from_db(query_D2, auth)\n",
    "df_D2.head()"
   ]
  },
  {
   "cell_type": "markdown",
   "id": "46eb5702-856e-41e4-a5ea-124f4a4bdf8a",
   "metadata": {},
   "source": [
    "![buying_friends](images/buying-friends.png)"
   ]
  },
  {
   "cell_type": "markdown",
   "id": "5eaa6629-7e51-44a5-bc5e-39d6bc169bdd",
   "metadata": {},
   "source": [
    "## Query (E)"
   ]
  },
  {
   "cell_type": "markdown",
   "id": "2fd941c2-c5a0-44d7-9d76-8ce581955758",
   "metadata": {},
   "source": [
    "**Query:** \n",
    "\n",
    "**Assumptions:**"
   ]
  },
  {
   "cell_type": "code",
   "execution_count": 25,
   "id": "056a66cf-7b66-40dc-b7b4-ad92cc84aba9",
   "metadata": {},
   "outputs": [],
   "source": [
    "query_E = '''\n",
    "    MATCH (:Customer)-[t:TRANSACTION]-(:Terminal)\n",
    "    RETURN\n",
    "        t.period_of_day AS period_of_day,\n",
    "        count(t) AS transaction_count,\n",
    "        round(avg(t.tx_fraud), 3) AS fraud_percentage\n",
    "'''"
   ]
  },
  {
   "cell_type": "code",
   "execution_count": 26,
   "id": "29e3c207-6e3e-4d48-8a24-d57ba45f2ea6",
   "metadata": {},
   "outputs": [
    {
     "name": "stdout",
     "output_type": "stream",
     "text": [
      "The query returned 4 records in 20 ms.\n"
     ]
    },
    {
     "data": {
      "text/html": [
       "<div>\n",
       "<style scoped>\n",
       "    .dataframe tbody tr th:only-of-type {\n",
       "        vertical-align: middle;\n",
       "    }\n",
       "\n",
       "    .dataframe tbody tr th {\n",
       "        vertical-align: top;\n",
       "    }\n",
       "\n",
       "    .dataframe thead th {\n",
       "        text-align: right;\n",
       "    }\n",
       "</style>\n",
       "<table border=\"1\" class=\"dataframe\">\n",
       "  <thead>\n",
       "    <tr style=\"text-align: right;\">\n",
       "      <th></th>\n",
       "      <th>period_of_day</th>\n",
       "      <th>transaction_count</th>\n",
       "      <th>fraud_percentage</th>\n",
       "    </tr>\n",
       "  </thead>\n",
       "  <tbody>\n",
       "    <tr>\n",
       "      <th>0</th>\n",
       "      <td>night</td>\n",
       "      <td>7</td>\n",
       "      <td>0.857</td>\n",
       "    </tr>\n",
       "    <tr>\n",
       "      <th>1</th>\n",
       "      <td>evening</td>\n",
       "      <td>6</td>\n",
       "      <td>0.667</td>\n",
       "    </tr>\n",
       "    <tr>\n",
       "      <th>2</th>\n",
       "      <td>afternoon</td>\n",
       "      <td>25</td>\n",
       "      <td>0.840</td>\n",
       "    </tr>\n",
       "    <tr>\n",
       "      <th>3</th>\n",
       "      <td>morning</td>\n",
       "      <td>18</td>\n",
       "      <td>0.889</td>\n",
       "    </tr>\n",
       "  </tbody>\n",
       "</table>\n",
       "</div>"
      ],
      "text/plain": [
       "  period_of_day  transaction_count  fraud_percentage\n",
       "0         night                  7             0.857\n",
       "1       evening                  6             0.667\n",
       "2     afternoon                 25             0.840\n",
       "3       morning                 18             0.889"
      ]
     },
     "execution_count": 26,
     "metadata": {},
     "output_type": "execute_result"
    }
   ],
   "source": [
    "df_E = read_from_db(query_E, auth)\n",
    "df_E.head()"
   ]
  },
  {
   "cell_type": "markdown",
   "id": "32702e66-b779-4b0f-b7a9-773131a4eca6",
   "metadata": {},
   "source": [
    "# Transaction Graph (50Mb)"
   ]
  },
  {
   "cell_type": "code",
   "execution_count": null,
   "id": "f2578157-ae5f-4626-9e36-1491a669c125",
   "metadata": {},
   "outputs": [],
   "source": []
  },
  {
   "cell_type": "markdown",
   "id": "f839e2c1-951f-4483-89bd-8a51505d1a13",
   "metadata": {},
   "source": [
    "# Transaction Graph (100Mb)"
   ]
  },
  {
   "cell_type": "code",
   "execution_count": null,
   "id": "20dda2a3-ce23-4796-8639-990b4bffb964",
   "metadata": {},
   "outputs": [],
   "source": []
  },
  {
   "cell_type": "markdown",
   "id": "584e9b42-ac0a-4a06-98ec-861fbaadb2a7",
   "metadata": {},
   "source": [
    "# Transaction Graph (200Mb)"
   ]
  },
  {
   "cell_type": "code",
   "execution_count": null,
   "id": "9cf1fad0-3a64-4f05-beb2-436e153dd561",
   "metadata": {},
   "outputs": [],
   "source": []
  }
 ],
 "metadata": {
  "kernelspec": {
   "display_name": "Python 3 (ipykernel)",
   "language": "python",
   "name": "python3"
  },
  "language_info": {
   "codemirror_mode": {
    "name": "ipython",
    "version": 3
   },
   "file_extension": ".py",
   "mimetype": "text/x-python",
   "name": "python",
   "nbconvert_exporter": "python",
   "pygments_lexer": "ipython3",
   "version": "3.9.13"
  }
 },
 "nbformat": 4,
 "nbformat_minor": 5
}
