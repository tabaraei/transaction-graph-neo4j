{
 "cells": [
  {
   "cell_type": "markdown",
   "metadata": {
    "id": "CtOntzaSuzTC"
   },
   "source": [
    "# Transaction Data Simulator"
   ]
  },
  {
   "cell_type": "markdown",
   "metadata": {
    "id": "S14sWU1wkAVN"
   },
   "source": [
    "This simulator serves as a tool for generating legitimate and fraudulent transactions and evaluating fraud detection techniques effectively. Despite its simple design, the simulator replicates many real-world data challenges, including class imbalance, mixed features, complex relationships, and time-dependent fraud scenarios. The simulation involves 6 main steps which we will cover in-depth in this section, as illustrated in the diagram below:\n",
    "\n",
    "![simulator](latex/images/simulator.png)"
   ]
  },
  {
   "cell_type": "code",
   "execution_count": 1,
   "metadata": {
    "id": "W0oH5J1z7gf7"
   },
   "outputs": [],
   "source": [
    "import os\n",
    "import numpy as np\n",
    "import pandas as pd\n",
    "import datetime\n",
    "import time\n",
    "import random\n",
    "import matplotlib.pyplot as plt\n",
    "import seaborn as sns\n",
    "from neo4j import GraphDatabase\n",
    "from tqdm.notebook import tqdm\n",
    "import warnings\n",
    "\n",
    "%matplotlib inline\n",
    "pd.set_option('display.notebook_repr_html', True)\n",
    "pd.DataFrame._repr_latex_ = lambda self: \"\\n\".join([r'\\begin{center}', self.to_latex(), r'\\end{center}'])\n",
    "sns.set_style('darkgrid', {'axes.facecolor': '0.9'})\n",
    "warnings.filterwarnings('ignore')"
   ]
  },
  {
   "cell_type": "markdown",
   "metadata": {
    "id": "pkALJkvd71Dk"
   },
   "source": [
    "## Customer Profiles Generation"
   ]
  },
  {
   "cell_type": "markdown",
   "metadata": {
    "id": "7sEkYPNwpn76"
   },
   "source": [
    "Unique spending habits are simulated through customer attributes such as location, spending frequency, and spending amount, organized into `customer_profiles_table`. Each customer is characterized by:\n",
    "\n",
    "- `CUSTOMER_ID`: A unique identifier for the customer.\n",
    "- `(x_customer_id, y_customer_id)`: Real coordinates representing the customer's geographical location on a 100 * 100 grid.\n",
    "- `(mean_amount, std_amount)`: The mean and standard deviation of transaction amounts for the customer\n",
    "- `mean_nb_tx_per_day`: The average number of transactions per day for the customer"
   ]
  },
  {
   "cell_type": "code",
   "execution_count": 2,
   "metadata": {
    "id": "2sG2bVpJrVRs"
   },
   "outputs": [],
   "source": [
    "def generate_customer_profiles_table(n_customers, random_state=0):\n",
    "    '''\n",
    "    This function provides an implementation for generating a table of customer\n",
    "    profiles. It takes as input the number of customers for which to generate a\n",
    "    profile and a random state for reproducibility. It returns a DataFrame\n",
    "    containing the properties for each customer.\n",
    "    '''\n",
    "    np.random.seed(random_state)\n",
    "    customer_id_properties=[]\n",
    "\n",
    "    # Generate customer properties from random distributions\n",
    "    for customer_id in range(n_customers):\n",
    "        x_customer_id = np.random.uniform(0,100)\n",
    "        y_customer_id = np.random.uniform(0,100)\n",
    "        # Arbitrary (but sensible) values\n",
    "        mean_amount = np.random.uniform(5,100)\n",
    "        std_amount = mean_amount/2\n",
    "        mean_nb_tx_per_day = np.random.uniform(0,4)\n",
    "        customer_id_properties.append([customer_id,\n",
    "                                      x_customer_id, y_customer_id,\n",
    "                                      mean_amount, std_amount,\n",
    "                                      mean_nb_tx_per_day])\n",
    "\n",
    "    customer_profiles_table = pd.DataFrame(customer_id_properties, columns= [\n",
    "            'CUSTOMER_ID',\n",
    "            'x_customer_id', 'y_customer_id',\n",
    "            'mean_amount', 'std_amount',\n",
    "            'mean_nb_tx_per_day'])\n",
    "    return customer_profiles_table"
   ]
  },
  {
   "cell_type": "code",
   "execution_count": 3,
   "metadata": {
    "colab": {
     "base_uri": "https://localhost:8080/",
     "height": 0
    },
    "id": "k1k1se_nnvHg",
    "outputId": "1fb14a94-5cfe-412b-8521-f9f594a33b67"
   },
   "outputs": [
    {
     "data": {
      "text/html": [
       "<div>\n",
       "<style scoped>\n",
       "    .dataframe tbody tr th:only-of-type {\n",
       "        vertical-align: middle;\n",
       "    }\n",
       "\n",
       "    .dataframe tbody tr th {\n",
       "        vertical-align: top;\n",
       "    }\n",
       "\n",
       "    .dataframe thead th {\n",
       "        text-align: right;\n",
       "    }\n",
       "</style>\n",
       "<table border=\"1\" class=\"dataframe\">\n",
       "  <thead>\n",
       "    <tr style=\"text-align: right;\">\n",
       "      <th></th>\n",
       "      <th>CUSTOMER-ID</th>\n",
       "      <th>x-customer-id</th>\n",
       "      <th>y-customer-id</th>\n",
       "      <th>mean-amount</th>\n",
       "      <th>std-amount</th>\n",
       "      <th>mean-nb-tx-per-day</th>\n",
       "    </tr>\n",
       "  </thead>\n",
       "  <tbody>\n",
       "    <tr>\n",
       "      <th>0</th>\n",
       "      <td>0</td>\n",
       "      <td>54.881350</td>\n",
       "      <td>71.518937</td>\n",
       "      <td>62.262521</td>\n",
       "      <td>31.131260</td>\n",
       "      <td>2.179533</td>\n",
       "    </tr>\n",
       "    <tr>\n",
       "      <th>1</th>\n",
       "      <td>1</td>\n",
       "      <td>42.365480</td>\n",
       "      <td>64.589411</td>\n",
       "      <td>46.570785</td>\n",
       "      <td>23.285393</td>\n",
       "      <td>3.567092</td>\n",
       "    </tr>\n",
       "    <tr>\n",
       "      <th>2</th>\n",
       "      <td>2</td>\n",
       "      <td>96.366276</td>\n",
       "      <td>38.344152</td>\n",
       "      <td>80.213879</td>\n",
       "      <td>40.106939</td>\n",
       "      <td>2.115580</td>\n",
       "    </tr>\n",
       "    <tr>\n",
       "      <th>3</th>\n",
       "      <td>3</td>\n",
       "      <td>56.804456</td>\n",
       "      <td>92.559664</td>\n",
       "      <td>11.748426</td>\n",
       "      <td>5.874213</td>\n",
       "      <td>0.348517</td>\n",
       "    </tr>\n",
       "    <tr>\n",
       "      <th>4</th>\n",
       "      <td>4</td>\n",
       "      <td>2.021840</td>\n",
       "      <td>83.261985</td>\n",
       "      <td>78.924891</td>\n",
       "      <td>39.462446</td>\n",
       "      <td>3.480049</td>\n",
       "    </tr>\n",
       "  </tbody>\n",
       "</table>\n",
       "</div>"
      ],
      "text/latex": [
       "\\begin{center}\n",
       "\\begin{tabular}{lrrrrrr}\n",
       "\\toprule\n",
       " & CUSTOMER-ID & x-customer-id & y-customer-id & mean-amount & std-amount & mean-nb-tx-per-day \\\\\n",
       "\\midrule\n",
       "0 & 0 & 54.881350 & 71.518937 & 62.262521 & 31.131260 & 2.179533 \\\\\n",
       "1 & 1 & 42.365480 & 64.589411 & 46.570785 & 23.285393 & 3.567092 \\\\\n",
       "2 & 2 & 96.366276 & 38.344152 & 80.213879 & 40.106939 & 2.115580 \\\\\n",
       "3 & 3 & 56.804456 & 92.559664 & 11.748426 & 5.874213 & 0.348517 \\\\\n",
       "4 & 4 & 2.021840 & 83.261985 & 78.924891 & 39.462446 & 3.480049 \\\\\n",
       "\\bottomrule\n",
       "\\end{tabular}\n",
       "\n",
       "\\end{center}"
      ],
      "text/plain": [
       "   CUSTOMER-ID  x-customer-id  y-customer-id  mean-amount  std-amount  \\\n",
       "0            0      54.881350      71.518937    62.262521   31.131260   \n",
       "1            1      42.365480      64.589411    46.570785   23.285393   \n",
       "2            2      96.366276      38.344152    80.213879   40.106939   \n",
       "3            3      56.804456      92.559664    11.748426    5.874213   \n",
       "4            4       2.021840      83.261985    78.924891   39.462446   \n",
       "\n",
       "   mean-nb-tx-per-day  \n",
       "0            2.179533  \n",
       "1            3.567092  \n",
       "2            2.115580  \n",
       "3            0.348517  \n",
       "4            3.480049  "
      ]
     },
     "execution_count": 3,
     "metadata": {},
     "output_type": "execute_result"
    }
   ],
   "source": [
    "customer_profiles_table = generate_customer_profiles_table(n_customers=5)\n",
    "customer_profiles_table.rename(columns=lambda x: x.replace('_', '-'))"
   ]
  },
  {
   "cell_type": "markdown",
   "metadata": {
    "id": "5UZ_pWl_91iC"
   },
   "source": [
    "## Terminal Profiles Generation"
   ]
  },
  {
   "cell_type": "markdown",
   "metadata": {
    "id": "cyOrJZ9srMe6"
   },
   "source": [
    "Terminal characteristics represented in `terminal_profiles_table`, focus solely on geographical location. Each terminal will be defined by the following properties:\n",
    "\n",
    "- `TERMINAL_ID`: The terminal ID\n",
    "- `(x_terminal_id, y_terminal_id)`: A pair of real coordinates defining the geographical location of the terminal"
   ]
  },
  {
   "cell_type": "code",
   "execution_count": 4,
   "metadata": {
    "id": "57KXl4by93HB"
   },
   "outputs": [],
   "source": [
    "def generate_terminal_profiles_table(n_terminals, random_state=0):\n",
    "    '''\n",
    "    This function provides an implementation for generating a table of terminal\n",
    "    profiles. It takes as input the number of terminals for which to generate a\n",
    "    profile and a random state for reproducibility. It returns a DataFrame\n",
    "    containing the properties for each terminal.\n",
    "    '''\n",
    "\n",
    "    np.random.seed(random_state)\n",
    "    terminal_id_properties=[]\n",
    "    # Generate terminal properties from random distributions\n",
    "    for terminal_id in range(n_terminals):\n",
    "        x_terminal_id = np.random.uniform(0,100)\n",
    "        y_terminal_id = np.random.uniform(0,100)\n",
    "        terminal_id_properties.append([terminal_id,\n",
    "                                      x_terminal_id, y_terminal_id])\n",
    "\n",
    "    terminal_profiles_table = pd.DataFrame(terminal_id_properties, columns=\n",
    "        ['TERMINAL_ID', 'x_terminal_id', 'y_terminal_id'])\n",
    "    return terminal_profiles_table"
   ]
  },
  {
   "cell_type": "code",
   "execution_count": 5,
   "metadata": {
    "colab": {
     "base_uri": "https://localhost:8080/",
     "height": 0
    },
    "id": "8A4oLbkp-Ry7",
    "outputId": "0e4ce374-6512-45a9-b310-b02d9b8e1b45"
   },
   "outputs": [
    {
     "data": {
      "text/html": [
       "<div>\n",
       "<style scoped>\n",
       "    .dataframe tbody tr th:only-of-type {\n",
       "        vertical-align: middle;\n",
       "    }\n",
       "\n",
       "    .dataframe tbody tr th {\n",
       "        vertical-align: top;\n",
       "    }\n",
       "\n",
       "    .dataframe thead th {\n",
       "        text-align: right;\n",
       "    }\n",
       "</style>\n",
       "<table border=\"1\" class=\"dataframe\">\n",
       "  <thead>\n",
       "    <tr style=\"text-align: right;\">\n",
       "      <th></th>\n",
       "      <th>TERMINAL-ID</th>\n",
       "      <th>x-terminal-id</th>\n",
       "      <th>y-terminal-id</th>\n",
       "    </tr>\n",
       "  </thead>\n",
       "  <tbody>\n",
       "    <tr>\n",
       "      <th>0</th>\n",
       "      <td>0</td>\n",
       "      <td>54.881350</td>\n",
       "      <td>71.518937</td>\n",
       "    </tr>\n",
       "    <tr>\n",
       "      <th>1</th>\n",
       "      <td>1</td>\n",
       "      <td>60.276338</td>\n",
       "      <td>54.488318</td>\n",
       "    </tr>\n",
       "    <tr>\n",
       "      <th>2</th>\n",
       "      <td>2</td>\n",
       "      <td>42.365480</td>\n",
       "      <td>64.589411</td>\n",
       "    </tr>\n",
       "    <tr>\n",
       "      <th>3</th>\n",
       "      <td>3</td>\n",
       "      <td>43.758721</td>\n",
       "      <td>89.177300</td>\n",
       "    </tr>\n",
       "    <tr>\n",
       "      <th>4</th>\n",
       "      <td>4</td>\n",
       "      <td>96.366276</td>\n",
       "      <td>38.344152</td>\n",
       "    </tr>\n",
       "  </tbody>\n",
       "</table>\n",
       "</div>"
      ],
      "text/latex": [
       "\\begin{center}\n",
       "\\begin{tabular}{lrrr}\n",
       "\\toprule\n",
       " & TERMINAL-ID & x-terminal-id & y-terminal-id \\\\\n",
       "\\midrule\n",
       "0 & 0 & 54.881350 & 71.518937 \\\\\n",
       "1 & 1 & 60.276338 & 54.488318 \\\\\n",
       "2 & 2 & 42.365480 & 64.589411 \\\\\n",
       "3 & 3 & 43.758721 & 89.177300 \\\\\n",
       "4 & 4 & 96.366276 & 38.344152 \\\\\n",
       "\\bottomrule\n",
       "\\end{tabular}\n",
       "\n",
       "\\end{center}"
      ],
      "text/plain": [
       "   TERMINAL-ID  x-terminal-id  y-terminal-id\n",
       "0            0      54.881350      71.518937\n",
       "1            1      60.276338      54.488318\n",
       "2            2      42.365480      64.589411\n",
       "3            3      43.758721      89.177300\n",
       "4            4      96.366276      38.344152"
      ]
     },
     "execution_count": 5,
     "metadata": {},
     "output_type": "execute_result"
    }
   ],
   "source": [
    "terminal_profiles_table = generate_terminal_profiles_table(n_terminals=5)\n",
    "terminal_profiles_table.rename(columns=lambda x: x.replace('_', '-'))"
   ]
  },
  {
   "cell_type": "markdown",
   "metadata": {
    "id": "QUkbYpBr-nZJ"
   },
   "source": [
    "## Association of Customer Profiles to Terminals"
   ]
  },
  {
   "cell_type": "markdown",
   "metadata": {},
   "source": [
    "Customers are assumed to transact only at terminals within a certain radius `r` of their geographical location, reflected in the `available_terminals` feature added to each customer profile. Comparing the terminal locations stored in `terminal_profiles_table` and the customer locations in `customer_profiles_table`, we can compute the list of available terminals for a given customer at a given radius. The plot below demonstrates how the radius can affect the inclusion of surrounding terminals.\n",
    "\n",
    "![available_terminals](latex/images/available_terminals.png)"
   ]
  },
  {
   "cell_type": "code",
   "execution_count": 6,
   "metadata": {
    "id": "21JDtE6I-xNa"
   },
   "outputs": [],
   "source": [
    "def get_list_terminals_within_radius(customer_profile, x_y_terminals, r):\n",
    "    '''\n",
    "    This function returns the list of terminals within a radius of r, given as\n",
    "    input a customer profile (any row in the customer profiles table), an array\n",
    "    containing the geographical location of all terminals, and the radius r.\n",
    "    '''\n",
    "    # Location (x,y) of customer as numpy array\n",
    "    x_y_customer = customer_profile[['x_customer_id','y_customer_id']].values.astype(float)\n",
    "\n",
    "    # Squared difference in coordinates between customer and terminal locations\n",
    "    squared_diff_x_y = np.square(x_y_customer - x_y_terminals)\n",
    "\n",
    "    # Sum along rows and compute suared root to get distance\n",
    "    dist_x_y = np.sqrt(np.sum(squared_diff_x_y, axis=1))\n",
    "\n",
    "    # Get the indices of terminals which are at a distance less than r\n",
    "    available_terminals = list(np.where(dist_x_y<r)[0])\n",
    "\n",
    "    # Return the list of terminal IDs\n",
    "    return available_terminals"
   ]
  },
  {
   "cell_type": "markdown",
   "metadata": {
    "id": "7bW-Yrdn4kaH"
   },
   "source": [
    "Calculating the available terminals for each customer can be performed using the pandas `apply` function. The results are stored as a new column named `available_terminals` in the customer profiles table."
   ]
  },
  {
   "cell_type": "code",
   "execution_count": 7,
   "metadata": {
    "colab": {
     "base_uri": "https://localhost:8080/",
     "height": 206
    },
    "id": "wAAOQgHCj7CK",
    "outputId": "a050ede1-2cb6-4c97-a48c-a6cbbf9d01c8"
   },
   "outputs": [
    {
     "data": {
      "text/html": [
       "<div>\n",
       "<style scoped>\n",
       "    .dataframe tbody tr th:only-of-type {\n",
       "        vertical-align: middle;\n",
       "    }\n",
       "\n",
       "    .dataframe tbody tr th {\n",
       "        vertical-align: top;\n",
       "    }\n",
       "\n",
       "    .dataframe thead th {\n",
       "        text-align: right;\n",
       "    }\n",
       "</style>\n",
       "<table border=\"1\" class=\"dataframe\">\n",
       "  <thead>\n",
       "    <tr style=\"text-align: right;\">\n",
       "      <th></th>\n",
       "      <th>CUSTOMER-ID</th>\n",
       "      <th>x-customer-id</th>\n",
       "      <th>y-customer-id</th>\n",
       "      <th>mean-amount</th>\n",
       "      <th>std-amount</th>\n",
       "      <th>mean-nb-tx-per-day</th>\n",
       "      <th>available-terminals</th>\n",
       "    </tr>\n",
       "  </thead>\n",
       "  <tbody>\n",
       "    <tr>\n",
       "      <th>0</th>\n",
       "      <td>0</td>\n",
       "      <td>54.881350</td>\n",
       "      <td>71.518937</td>\n",
       "      <td>62.262521</td>\n",
       "      <td>31.131260</td>\n",
       "      <td>2.179533</td>\n",
       "      <td>[0, 1, 2, 3]</td>\n",
       "    </tr>\n",
       "    <tr>\n",
       "      <th>1</th>\n",
       "      <td>1</td>\n",
       "      <td>42.365480</td>\n",
       "      <td>64.589411</td>\n",
       "      <td>46.570785</td>\n",
       "      <td>23.285393</td>\n",
       "      <td>3.567092</td>\n",
       "      <td>[0, 1, 2, 3]</td>\n",
       "    </tr>\n",
       "    <tr>\n",
       "      <th>2</th>\n",
       "      <td>2</td>\n",
       "      <td>96.366276</td>\n",
       "      <td>38.344152</td>\n",
       "      <td>80.213879</td>\n",
       "      <td>40.106939</td>\n",
       "      <td>2.115580</td>\n",
       "      <td>[1, 4]</td>\n",
       "    </tr>\n",
       "    <tr>\n",
       "      <th>3</th>\n",
       "      <td>3</td>\n",
       "      <td>56.804456</td>\n",
       "      <td>92.559664</td>\n",
       "      <td>11.748426</td>\n",
       "      <td>5.874213</td>\n",
       "      <td>0.348517</td>\n",
       "      <td>[0, 1, 2, 3]</td>\n",
       "    </tr>\n",
       "    <tr>\n",
       "      <th>4</th>\n",
       "      <td>4</td>\n",
       "      <td>2.021840</td>\n",
       "      <td>83.261985</td>\n",
       "      <td>78.924891</td>\n",
       "      <td>39.462446</td>\n",
       "      <td>3.480049</td>\n",
       "      <td>[2, 3]</td>\n",
       "    </tr>\n",
       "  </tbody>\n",
       "</table>\n",
       "</div>"
      ],
      "text/latex": [
       "\\begin{center}\n",
       "\\begin{tabular}{lrrrrrrl}\n",
       "\\toprule\n",
       " & CUSTOMER-ID & x-customer-id & y-customer-id & mean-amount & std-amount & mean-nb-tx-per-day & available-terminals \\\\\n",
       "\\midrule\n",
       "0 & 0 & 54.881350 & 71.518937 & 62.262521 & 31.131260 & 2.179533 & [0, 1, 2, 3] \\\\\n",
       "1 & 1 & 42.365480 & 64.589411 & 46.570785 & 23.285393 & 3.567092 & [0, 1, 2, 3] \\\\\n",
       "2 & 2 & 96.366276 & 38.344152 & 80.213879 & 40.106939 & 2.115580 & [1, 4] \\\\\n",
       "3 & 3 & 56.804456 & 92.559664 & 11.748426 & 5.874213 & 0.348517 & [0, 1, 2, 3] \\\\\n",
       "4 & 4 & 2.021840 & 83.261985 & 78.924891 & 39.462446 & 3.480049 & [2, 3] \\\\\n",
       "\\bottomrule\n",
       "\\end{tabular}\n",
       "\n",
       "\\end{center}"
      ],
      "text/plain": [
       "   CUSTOMER-ID  x-customer-id  y-customer-id  mean-amount  std-amount  \\\n",
       "0            0      54.881350      71.518937    62.262521   31.131260   \n",
       "1            1      42.365480      64.589411    46.570785   23.285393   \n",
       "2            2      96.366276      38.344152    80.213879   40.106939   \n",
       "3            3      56.804456      92.559664    11.748426    5.874213   \n",
       "4            4       2.021840      83.261985    78.924891   39.462446   \n",
       "\n",
       "   mean-nb-tx-per-day available-terminals  \n",
       "0            2.179533        [0, 1, 2, 3]  \n",
       "1            3.567092        [0, 1, 2, 3]  \n",
       "2            2.115580              [1, 4]  \n",
       "3            0.348517        [0, 1, 2, 3]  \n",
       "4            3.480049              [2, 3]  "
      ]
     },
     "execution_count": 7,
     "metadata": {},
     "output_type": "execute_result"
    }
   ],
   "source": [
    "# We first get the geographical locations of all terminals as a numpy array\n",
    "x_y_terminals = terminal_profiles_table[['x_terminal_id','y_terminal_id']].values.astype(float)\n",
    "\n",
    "# Now we compute the available terminals\n",
    "customer_profiles_table['available_terminals'] = \\\n",
    "    customer_profiles_table.apply(lambda x : \\\n",
    "        get_list_terminals_within_radius(x, x_y_terminals=x_y_terminals, r=50),\n",
    "        axis=1\n",
    "    )\n",
    "customer_profiles_table.rename(columns=lambda x: x.replace('_', '-'))"
   ]
  },
  {
   "cell_type": "markdown",
   "metadata": {
    "id": "9VFIvADFlYFE"
   },
   "source": [
    "## Generation of Transactions"
   ]
  },
  {
   "cell_type": "markdown",
   "metadata": {
    "id": "hpeq-SEpbTau"
   },
   "source": [
    "Transactions are generated based on customer attributes and terminal availability, resulting in a `transactions_df` table. We have now all the necessary information to generate the transactions, using the `generate_transactions_table` function below. This function will attempt to randomly populate the transaction data starting from a given date, until a certain number of days. Most of the values will be generated randomly, yet following a normal, uniform, or Poisson distribution. We can verify that the generated transactions comply with the customer profile properties:\n",
    "\n",
    "- The `TERMINAL_ID`s correspond to those in the list of available terminals. However, not necessarily all these available terminals will be selected. As a result, the `available_terminals` is NOT equivalent to the actual terminals to which each customer is connected.\n",
    "- The `TX_AMOUNT`s appear to align with the customer's amount parameters represented as `mean_amount` and `std_amount`.\n",
    "- The number of transactions per day varies based on the transaction frequency parameters of the customer, i.e. `mean_nb_tx_per_day`."
   ]
  },
  {
   "cell_type": "code",
   "execution_count": 8,
   "metadata": {
    "id": "Fw7e26VRlczV"
   },
   "outputs": [],
   "source": [
    "def generate_transactions_table(customer_profile, start_date = \"2018-04-01\", nb_days = 10):\n",
    "    '''\n",
    "    takes as input a customer profile, a starting date, and a number of days for\n",
    "    which to generate transactions. It will return a table of transactions\n",
    "    without considering the labels\n",
    "    '''\n",
    "    customer_transactions = []\n",
    "    random.seed(int(customer_profile.CUSTOMER_ID))\n",
    "    np.random.seed(int(customer_profile.CUSTOMER_ID))\n",
    "\n",
    "    # For all days\n",
    "    for day in range(nb_days):\n",
    "        # Random number of transactions for that day\n",
    "        nb_tx = np.random.poisson(customer_profile.mean_nb_tx_per_day)\n",
    "        # If nb_tx positive, let us generate transactions\n",
    "        if nb_tx>0:\n",
    "            for tx in range(nb_tx):\n",
    "                # Time of transaction: Around noon, std 20000 seconds. This choice aims at simulating the fact that\n",
    "                # most transactions occur during the day.\n",
    "                time_tx = int(np.random.normal(86400/2, 20000))\n",
    "\n",
    "                # If transaction time between 0 and 86400, let us keep it, otherwise, let us discard it\n",
    "                if (time_tx>0) and (time_tx<86400):\n",
    "                    # Amount is drawn from a normal distribution\n",
    "                    amount = np.random.normal(customer_profile.mean_amount, customer_profile.std_amount)\n",
    "                    # If amount negative, draw from a uniform distribution\n",
    "                    if amount<0:\n",
    "                        amount = np.random.uniform(0,customer_profile.mean_amount*2)\n",
    "\n",
    "                    amount=np.round(amount,decimals=2)\n",
    "                    if len(customer_profile.available_terminals)>0:\n",
    "                        terminal_id = random.choice(customer_profile.available_terminals)\n",
    "                        customer_transactions.append([time_tx+day*86400, day,\n",
    "                                                      customer_profile.CUSTOMER_ID,\n",
    "                                                      terminal_id, amount])\n",
    "\n",
    "    customer_transactions = pd.DataFrame(customer_transactions, columns=['TX_TIME_SECONDS', 'TX_TIME_DAYS', 'CUSTOMER_ID', 'TERMINAL_ID', 'TX_AMOUNT'])\n",
    "    if len(customer_transactions)>0:\n",
    "        customer_transactions['TX_DATETIME'] = pd.to_datetime(customer_transactions[\"TX_TIME_SECONDS\"], unit='s', origin=start_date)\n",
    "        customer_transactions=customer_transactions[['TX_DATETIME','CUSTOMER_ID', 'TERMINAL_ID', 'TX_AMOUNT','TX_TIME_SECONDS', 'TX_TIME_DAYS']]\n",
    "    return customer_transactions"
   ]
  },
  {
   "cell_type": "markdown",
   "metadata": {
    "id": "fqADLUVTnpL_"
   },
   "source": [
    "Now, let's generate transactions for all customers, which can be done straightforwardly using the pandas `groupby` and `apply` methods. This results in a set of 65 transactions, involving 5 customers, 5 terminals, and spanning across 5 days."
   ]
  },
  {
   "cell_type": "code",
   "execution_count": 9,
   "metadata": {
    "colab": {
     "base_uri": "https://localhost:8080/",
     "height": 423
    },
    "id": "LkI2kMmPqRw1",
    "outputId": "b4bdbfcd-8375-4802-9c08-5499a3611418"
   },
   "outputs": [
    {
     "data": {
      "text/html": [
       "<div>\n",
       "<style scoped>\n",
       "    .dataframe tbody tr th:only-of-type {\n",
       "        vertical-align: middle;\n",
       "    }\n",
       "\n",
       "    .dataframe tbody tr th {\n",
       "        vertical-align: top;\n",
       "    }\n",
       "\n",
       "    .dataframe thead th {\n",
       "        text-align: right;\n",
       "    }\n",
       "</style>\n",
       "<table border=\"1\" class=\"dataframe\">\n",
       "  <thead>\n",
       "    <tr style=\"text-align: right;\">\n",
       "      <th></th>\n",
       "      <th>TX-DATETIME</th>\n",
       "      <th>CUSTOMER-ID</th>\n",
       "      <th>TERMINAL-ID</th>\n",
       "      <th>TX-AMOUNT</th>\n",
       "      <th>TX-TIME-SECONDS</th>\n",
       "      <th>TX-TIME-DAYS</th>\n",
       "    </tr>\n",
       "  </thead>\n",
       "  <tbody>\n",
       "    <tr>\n",
       "      <th>0</th>\n",
       "      <td>2018-04-01 07:19:05</td>\n",
       "      <td>0</td>\n",
       "      <td>3</td>\n",
       "      <td>123.59</td>\n",
       "      <td>26345</td>\n",
       "      <td>0</td>\n",
       "    </tr>\n",
       "    <tr>\n",
       "      <th>1</th>\n",
       "      <td>2018-04-01 19:02:02</td>\n",
       "      <td>0</td>\n",
       "      <td>3</td>\n",
       "      <td>46.51</td>\n",
       "      <td>68522</td>\n",
       "      <td>0</td>\n",
       "    </tr>\n",
       "    <tr>\n",
       "      <th>2</th>\n",
       "      <td>2018-04-01 18:00:16</td>\n",
       "      <td>0</td>\n",
       "      <td>0</td>\n",
       "      <td>77.34</td>\n",
       "      <td>64816</td>\n",
       "      <td>0</td>\n",
       "    </tr>\n",
       "    <tr>\n",
       "      <th>3</th>\n",
       "      <td>2018-04-02 15:13:02</td>\n",
       "      <td>0</td>\n",
       "      <td>2</td>\n",
       "      <td>32.35</td>\n",
       "      <td>141182</td>\n",
       "      <td>1</td>\n",
       "    </tr>\n",
       "    <tr>\n",
       "      <th>4</th>\n",
       "      <td>2018-04-02 14:05:38</td>\n",
       "      <td>0</td>\n",
       "      <td>3</td>\n",
       "      <td>63.30</td>\n",
       "      <td>137138</td>\n",
       "      <td>1</td>\n",
       "    </tr>\n",
       "  </tbody>\n",
       "</table>\n",
       "</div>"
      ],
      "text/latex": [
       "\\begin{center}\n",
       "\\begin{tabular}{llrrrrr}\n",
       "\\toprule\n",
       " & TX-DATETIME & CUSTOMER-ID & TERMINAL-ID & TX-AMOUNT & TX-TIME-SECONDS & TX-TIME-DAYS \\\\\n",
       "\\midrule\n",
       "0 & 2018-04-01 07:19:05 & 0 & 3 & 123.590000 & 26345 & 0 \\\\\n",
       "1 & 2018-04-01 19:02:02 & 0 & 3 & 46.510000 & 68522 & 0 \\\\\n",
       "2 & 2018-04-01 18:00:16 & 0 & 0 & 77.340000 & 64816 & 0 \\\\\n",
       "3 & 2018-04-02 15:13:02 & 0 & 2 & 32.350000 & 141182 & 1 \\\\\n",
       "4 & 2018-04-02 14:05:38 & 0 & 3 & 63.300000 & 137138 & 1 \\\\\n",
       "\\bottomrule\n",
       "\\end{tabular}\n",
       "\n",
       "\\end{center}"
      ],
      "text/plain": [
       "          TX-DATETIME  CUSTOMER-ID  TERMINAL-ID  TX-AMOUNT  TX-TIME-SECONDS  \\\n",
       "0 2018-04-01 07:19:05            0            3     123.59            26345   \n",
       "1 2018-04-01 19:02:02            0            3      46.51            68522   \n",
       "2 2018-04-01 18:00:16            0            0      77.34            64816   \n",
       "3 2018-04-02 15:13:02            0            2      32.35           141182   \n",
       "4 2018-04-02 14:05:38            0            3      63.30           137138   \n",
       "\n",
       "   TX-TIME-DAYS  \n",
       "0             0  \n",
       "1             0  \n",
       "2             0  \n",
       "3             1  \n",
       "4             1  "
      ]
     },
     "execution_count": 9,
     "metadata": {},
     "output_type": "execute_result"
    }
   ],
   "source": [
    "transactions_df=customer_profiles_table.groupby('CUSTOMER_ID').apply(lambda x : generate_transactions_table(x.iloc[0], nb_days=5)).reset_index(drop=True)\n",
    "transactions_df.rename(columns=lambda x: x.replace('_', '-')).head()"
   ]
  },
  {
   "cell_type": "markdown",
   "metadata": {
    "id": "iL_1WoWCsaRd"
   },
   "source": [
    "## Generation of Fraud Scenarios"
   ]
  },
  {
   "cell_type": "markdown",
   "metadata": {
    "id": "iIB9_Ax1fPzD"
   },
   "source": [
    "In the final stage of the simulation, transactions are categorized as *legitimate* or *fraudulent* through the following scenarios:\n",
    "\n",
    "- **Scenario 1:** Any transaction exceeding $220 is flagged as fraudulent. This unrealistic scenario serves as a straightforward pattern for validating basic fraud detection methods.\n",
    "- **Scenario 2:** Each day, two terminals are randomly selected. Transactions made on these terminals in the subsequent 28 days are marked as fraudulent. This scenario simulates criminal exploitation of terminals, such as through phishing attacks.\n",
    "- **Scenario 3:** Every day, three customers are randomly chosen. Over the next 14 days, one-third of their transactions have their amounts multiplied by 5 and are labeled as fraudulent. This simulates card-not-present fraud, where leaked customer credentials lead to higher-value transactions by fraudsters. Detection of this scenario requires tracking customer spending habits and adapting to temporary compromises, similar to scenario 2.\n",
    "\n",
    "Notably, the initial month of the generated dataset has fewer fraudulent transactions due to scenario durations. The resulting dataset highlights class imbalance, mixes numerical and categorical features, and includes time-dependent fraud scenarios."
   ]
  },
  {
   "cell_type": "code",
   "execution_count": 10,
   "metadata": {
    "id": "Hgd6PMCfsetl"
   },
   "outputs": [],
   "source": [
    "def add_frauds(customer_profiles_table, terminal_profiles_table, transactions_df):\n",
    "\n",
    "    start_time=time.time()\n",
    "\n",
    "    # By default, all transactions are genuine\n",
    "    transactions_df['TX_FRAUD']=0\n",
    "    transactions_df['TX_FRAUD_SCENARIO']=0\n",
    "\n",
    "    # Scenario 1\n",
    "    transactions_df.loc[transactions_df.TX_AMOUNT>220, 'TX_FRAUD']=1\n",
    "    transactions_df.loc[transactions_df.TX_AMOUNT>220, 'TX_FRAUD_SCENARIO']=1\n",
    "    nb_frauds_scenario_1=transactions_df.TX_FRAUD.sum()\n",
    "    print(\"Number of frauds from scenario 1: \"+str(nb_frauds_scenario_1))\n",
    "\n",
    "    # Scenario 2\n",
    "    for day in range(transactions_df.TX_TIME_DAYS.max()):\n",
    "        compromised_terminals = terminal_profiles_table.TERMINAL_ID.sample(n=2, random_state=day)\n",
    "        compromised_transactions=transactions_df[(transactions_df.TX_TIME_DAYS>=day) &\n",
    "                                                    (transactions_df.TX_TIME_DAYS<day+28) &\n",
    "                                                    (transactions_df.TERMINAL_ID.isin(compromised_terminals))]\n",
    "        transactions_df.loc[compromised_transactions.index,'TX_FRAUD']=1\n",
    "        transactions_df.loc[compromised_transactions.index,'TX_FRAUD_SCENARIO']=2\n",
    "    nb_frauds_scenario_2=transactions_df.TX_FRAUD.sum()-nb_frauds_scenario_1\n",
    "    print(\"Number of frauds from scenario 2: \"+str(nb_frauds_scenario_2))\n",
    "\n",
    "    # Scenario 3\n",
    "    for day in range(transactions_df.TX_TIME_DAYS.max()):\n",
    "        compromised_customers = customer_profiles_table.CUSTOMER_ID.sample(n=3, random_state=day).values\n",
    "        compromised_transactions=transactions_df[(transactions_df.TX_TIME_DAYS>=day) &\n",
    "                                                    (transactions_df.TX_TIME_DAYS<day+14) &\n",
    "                                                    (transactions_df.CUSTOMER_ID.isin(compromised_customers))]\n",
    "        nb_compromised_transactions=len(compromised_transactions)\n",
    "        random.seed(day)\n",
    "        index_fauds = random.sample(list(compromised_transactions.index.values),k=int(nb_compromised_transactions/3))\n",
    "        transactions_df.loc[index_fauds,'TX_AMOUNT']=transactions_df.loc[index_fauds,'TX_AMOUNT']*5\n",
    "        transactions_df.loc[index_fauds,'TX_FRAUD']=1\n",
    "        transactions_df.loc[index_fauds,'TX_FRAUD_SCENARIO']=3\n",
    "\n",
    "    nb_frauds_scenario_3=transactions_df.TX_FRAUD.sum()-nb_frauds_scenario_2-nb_frauds_scenario_1\n",
    "    print(\"Number of frauds from scenario 3: \"+str(nb_frauds_scenario_3))\n",
    "    run_time = datetime.datetime.utcfromtimestamp(time.time()-start_time).strftime('%M:%S:%f')[:-4]\n",
    "    print(f\"Time to add fraudulent transactions: {run_time}\")\n",
    "    return transactions_df"
   ]
  },
  {
   "cell_type": "code",
   "execution_count": 11,
   "metadata": {
    "colab": {
     "base_uri": "https://localhost:8080/",
     "height": 345
    },
    "id": "9JJGXAXfsf7q",
    "outputId": "1fd3d3bb-a8a0-4447-a2a0-92e9104b8e89"
   },
   "outputs": [
    {
     "name": "stdout",
     "output_type": "stream",
     "text": [
      "Number of frauds from scenario 1: 0\n",
      "Number of frauds from scenario 2: 48\n",
      "Number of frauds from scenario 3: 7\n",
      "Time to add fraudulent transactions: 00:00:08\n",
      "Number of the fraudulent transactions: 55\n",
      "Number of the fraudulent transactions scenario 1: 0\n",
      "Number of the fraudulent transactions scenario 2: 26\n",
      "Number of the fraudulent transactions scenario 3: 29\n"
     ]
    },
    {
     "data": {
      "text/html": [
       "<div>\n",
       "<style scoped>\n",
       "    .dataframe tbody tr th:only-of-type {\n",
       "        vertical-align: middle;\n",
       "    }\n",
       "\n",
       "    .dataframe tbody tr th {\n",
       "        vertical-align: top;\n",
       "    }\n",
       "\n",
       "    .dataframe thead th {\n",
       "        text-align: right;\n",
       "    }\n",
       "</style>\n",
       "<table border=\"1\" class=\"dataframe\">\n",
       "  <thead>\n",
       "    <tr style=\"text-align: right;\">\n",
       "      <th></th>\n",
       "      <th>TX-DATETIME</th>\n",
       "      <th>CUSTOMER-ID</th>\n",
       "      <th>TERMINAL-ID</th>\n",
       "      <th>TX-AMOUNT</th>\n",
       "      <th>TX-TIME-SECONDS</th>\n",
       "      <th>TX-TIME-DAYS</th>\n",
       "      <th>TX-FRAUD</th>\n",
       "      <th>TX-FRAUD-SCENARIO</th>\n",
       "    </tr>\n",
       "  </thead>\n",
       "  <tbody>\n",
       "    <tr>\n",
       "      <th>0</th>\n",
       "      <td>2018-04-01 07:19:05</td>\n",
       "      <td>0</td>\n",
       "      <td>3</td>\n",
       "      <td>123.59</td>\n",
       "      <td>26345</td>\n",
       "      <td>0</td>\n",
       "      <td>0</td>\n",
       "      <td>0</td>\n",
       "    </tr>\n",
       "    <tr>\n",
       "      <th>1</th>\n",
       "      <td>2018-04-01 19:02:02</td>\n",
       "      <td>0</td>\n",
       "      <td>3</td>\n",
       "      <td>46.51</td>\n",
       "      <td>68522</td>\n",
       "      <td>0</td>\n",
       "      <td>0</td>\n",
       "      <td>0</td>\n",
       "    </tr>\n",
       "    <tr>\n",
       "      <th>2</th>\n",
       "      <td>2018-04-01 18:00:16</td>\n",
       "      <td>0</td>\n",
       "      <td>0</td>\n",
       "      <td>386.70</td>\n",
       "      <td>64816</td>\n",
       "      <td>0</td>\n",
       "      <td>1</td>\n",
       "      <td>3</td>\n",
       "    </tr>\n",
       "    <tr>\n",
       "      <th>3</th>\n",
       "      <td>2018-04-02 15:13:02</td>\n",
       "      <td>0</td>\n",
       "      <td>2</td>\n",
       "      <td>32.35</td>\n",
       "      <td>141182</td>\n",
       "      <td>1</td>\n",
       "      <td>1</td>\n",
       "      <td>2</td>\n",
       "    </tr>\n",
       "    <tr>\n",
       "      <th>4</th>\n",
       "      <td>2018-04-02 14:05:38</td>\n",
       "      <td>0</td>\n",
       "      <td>3</td>\n",
       "      <td>316.50</td>\n",
       "      <td>137138</td>\n",
       "      <td>1</td>\n",
       "      <td>1</td>\n",
       "      <td>3</td>\n",
       "    </tr>\n",
       "  </tbody>\n",
       "</table>\n",
       "</div>"
      ],
      "text/latex": [
       "\\begin{center}\n",
       "\\begin{tabular}{llrrrrrrr}\n",
       "\\toprule\n",
       " & TX-DATETIME & CUSTOMER-ID & TERMINAL-ID & TX-AMOUNT & TX-TIME-SECONDS & TX-TIME-DAYS & TX-FRAUD & TX-FRAUD-SCENARIO \\\\\n",
       "\\midrule\n",
       "0 & 2018-04-01 07:19:05 & 0 & 3 & 123.590000 & 26345 & 0 & 0 & 0 \\\\\n",
       "1 & 2018-04-01 19:02:02 & 0 & 3 & 46.510000 & 68522 & 0 & 0 & 0 \\\\\n",
       "2 & 2018-04-01 18:00:16 & 0 & 0 & 386.700000 & 64816 & 0 & 1 & 3 \\\\\n",
       "3 & 2018-04-02 15:13:02 & 0 & 2 & 32.350000 & 141182 & 1 & 1 & 2 \\\\\n",
       "4 & 2018-04-02 14:05:38 & 0 & 3 & 316.500000 & 137138 & 1 & 1 & 3 \\\\\n",
       "\\bottomrule\n",
       "\\end{tabular}\n",
       "\n",
       "\\end{center}"
      ],
      "text/plain": [
       "          TX-DATETIME  CUSTOMER-ID  TERMINAL-ID  TX-AMOUNT  TX-TIME-SECONDS  \\\n",
       "0 2018-04-01 07:19:05            0            3     123.59            26345   \n",
       "1 2018-04-01 19:02:02            0            3      46.51            68522   \n",
       "2 2018-04-01 18:00:16            0            0     386.70            64816   \n",
       "3 2018-04-02 15:13:02            0            2      32.35           141182   \n",
       "4 2018-04-02 14:05:38            0            3     316.50           137138   \n",
       "\n",
       "   TX-TIME-DAYS  TX-FRAUD  TX-FRAUD-SCENARIO  \n",
       "0             0         0                  0  \n",
       "1             0         0                  0  \n",
       "2             0         1                  3  \n",
       "3             1         1                  2  \n",
       "4             1         1                  3  "
      ]
     },
     "execution_count": 11,
     "metadata": {},
     "output_type": "execute_result"
    }
   ],
   "source": [
    "transactions_df = add_frauds(customer_profiles_table, terminal_profiles_table, transactions_df)\n",
    "print(f\"Number of the fraudulent transactions: {transactions_df.TX_FRAUD.sum()}\")\n",
    "for i in range(1,4):\n",
    "    n_fraud_scenario_i = len(transactions_df[transactions_df.TX_FRAUD_SCENARIO==i])\n",
    "    print(f\"Number of the fraudulent transactions scenario {i}: {n_fraud_scenario_i}\")\n",
    "transactions_df.rename(columns=lambda x: x.replace('_', '-')).head()"
   ]
  },
  {
   "cell_type": "markdown",
   "metadata": {},
   "source": [
    "## Creation of the Simulator Pipeline"
   ]
  },
  {
   "cell_type": "markdown",
   "metadata": {},
   "source": [
    "Having all the building blocks from the previous steps, we can aggregate all of them in a function that can singlehandedly generate the customer profiles, terminals, and the corresponding transactions for such customers. In addition, we also include the frauds at the last step of this function."
   ]
  },
  {
   "cell_type": "code",
   "execution_count": 12,
   "metadata": {},
   "outputs": [],
   "source": [
    "def generate_dataset(n_customers = 10000, n_terminals = 1000000, nb_days=90, start_date=\"2018-04-01\", r=5):\n",
    "    '''\n",
    "    Takes as inputs the number of desired customers, terminals and days, as well\n",
    "    as the starting date and the radius r. Returns the generated customer and\n",
    "    terminal profiles table, and the DataFrame of transactions.\n",
    "    '''\n",
    "    start_time=time.time()\n",
    "    customer_profiles_table = generate_customer_profiles_table(n_customers, random_state = 0)\n",
    "    run_time = datetime.datetime.utcfromtimestamp(time.time()-start_time).strftime('%M:%S:%f')[:-4]\n",
    "    print(f\"Time to generate customer profiles table: {run_time}\")\n",
    "\n",
    "    start_time=time.time()\n",
    "    terminal_profiles_table = generate_terminal_profiles_table(n_terminals, random_state = 1)\n",
    "    run_time = datetime.datetime.utcfromtimestamp(time.time()-start_time).strftime('%M:%S:%f')[:-4]\n",
    "    print(f\"Time to generate terminal profiles table: {run_time}\")\n",
    "\n",
    "    start_time=time.time()\n",
    "    x_y_terminals = terminal_profiles_table[['x_terminal_id','y_terminal_id']].values.astype(float)\n",
    "    customer_profiles_table['available_terminals'] = customer_profiles_table.apply(lambda x : get_list_terminals_within_radius(x, x_y_terminals=x_y_terminals, r=r), axis=1)\n",
    "    customer_profiles_table['nb_terminals']=customer_profiles_table.available_terminals.apply(len)\n",
    "    run_time = datetime.datetime.utcfromtimestamp(time.time()-start_time).strftime('%M:%S:%f')[:-4]\n",
    "    print(f\"Time to associate terminals to customers: {run_time}\")\n",
    "\n",
    "    start_time=time.time()\n",
    "    transactions_df=customer_profiles_table.groupby('CUSTOMER_ID').apply(lambda x : generate_transactions_table(x.iloc[0], nb_days=nb_days)).reset_index(drop=True)\n",
    "    run_time = datetime.datetime.utcfromtimestamp(time.time()-start_time).strftime('%M:%S:%f')[:-4]\n",
    "    print(f\"Time to generate transactions: {run_time}\")\n",
    "\n",
    "    # Sort transactions chronologically\n",
    "    transactions_df=transactions_df.sort_values('TX_DATETIME')\n",
    "    # Reset indices, starting from 0\n",
    "    transactions_df.reset_index(inplace=True,drop=True)\n",
    "    transactions_df.reset_index(inplace=True)\n",
    "    # TRANSACTION_ID are the dataframe indices, starting from 0\n",
    "    transactions_df.rename(columns = {'index':'TRANSACTION_ID'}, inplace = True)\n",
    "\n",
    "    # Adding the fraud data\n",
    "    transactions_df = add_frauds(customer_profiles_table, terminal_profiles_table, transactions_df)\n",
    "    return (customer_profiles_table, terminal_profiles_table, transactions_df)"
   ]
  },
  {
   "cell_type": "markdown",
   "metadata": {
    "id": "eJtt3VUpuVh4"
   },
   "source": [
    "# Conceptual Model"
   ]
  },
  {
   "cell_type": "markdown",
   "metadata": {},
   "source": [
    "The conceptual model diagram of this diagram is provided below. We assume that the conceptual class diagram reports the annual amount of class instances and the relations. As the *cardinality* of different classes differs based on the size of the generated dataset, we report the number of transactions for 5000 customers and 5000 terminals at a radius of 5 in a 365-day period, resulting in approximately 3.5 million transactions.\n",
    "\n",
    "The attributes painted in green are not originally present in the generated dataset, however, they will be introduced later in the logical model when querying the data. To be precise in terms of design, we decided to include them in the conceptual model as well.\n",
    "\n",
    "![conceptual-model](latex/images/conceptual-model.png)"
   ]
  },
  {
   "cell_type": "markdown",
   "metadata": {
    "id": "eJtt3VUpuVh4"
   },
   "source": [
    "## Assumptions"
   ]
  },
  {
   "cell_type": "markdown",
   "metadata": {},
   "source": [
    "There are several considerations taken into account regarding the design of the conceptual model, which we organize as below:\n",
    "\n",
    "- **Customer Profiles:** There are several properties proposed by the simulator that were only required for the dataset generation and will no longer be needed in the remainder of the analysis, hence we can exclude them.\n",
    "    - The `available_terminals` property of a customer only demonstrates the terminals located in the specified radius of the customer (in a 100 by 100 grid) that are accessible by the customer, which is used to randomly make connections to a subset of these available terminals. However, this property does not necessarily reflect the *actual* terminal nodes to which the customer is connected and provides no information. In addition, since this property holds a list, it might explode when the number of terminals in the radius increases and takes a lot of storage, so we can discard it from the domain. With the same intuition, `nb_terminals` should also be removed, since it only reports the number of available terminals.\n",
    "    - The `mean_amount` and `std_amount` properties of the customer are only used to generate the transaction amounts respecting a uniform distribution, and are not further used in the analysis, hence they can be removed.\n",
    "    - The average number of transactions per day for the customer denoted as `mean_nb_tx_per_day` is used in the generation of the transactions, and is no longer needed.\n",
    "- **Terminal Profiles:** Terminal profiles contain only geographical details aside from the `terminal_id`. Although the coordinates are not used during the analysis, we attempt to keep this information.\n",
    "- **Transactions:** All the properties in the transactions data are later used to either provide statistics on the dataset or perform queries. Therefore, we keep all this information intact. However, the properties `tx_time_seconds` and `tx_time_days` are not useful at all in the proposed workload, and we will discard them. We should note that according to the generated transactions, we have a `transaction_id` field that can uniquely identify a transaction, without requiring the `customer_id` and `terminal_id` to be used as the primary key."
   ]
  },
  {
   "cell_type": "markdown",
   "metadata": {},
   "source": [
    "## Constraints"
   ]
  },
  {
   "cell_type": "markdown",
   "metadata": {},
   "source": [
    "- The overall objective of this study is to detect fraudulent transactions. The attributes `tx_fraud` and `tx_fraud_scenario` are introduced and initialized upon dataset creation, and do not necessarily reflect whether a transaction is fraudulent or genuine. These properties should be updated later with proper information by the fraud detection techniques.\n",
    "- As mentioned in the assumptions, the attributes `available_terminals`, `nb_terminals`, `mean_amount`, `std_amount`, and `mean_nb_tx_per_day` were only utilized to generate the initial datasets, so we decided to exclude them. If we wish to keep these attributes, they have to be constantly updated on each transaction made by the customer.\n",
    "- Data validation techniques should be enforced to ensure that the inserted data respects the required data types. As an example, since the coordinates grid dimensions are $100 \\times 100$, the `x_customer_id`, `y_customer_id`, `x_terminal_id`, and `y_terminal_id` attributes should be constrained within (0,100). Also, `period_of_day` and `product` should be only selected from the specified set of predefined values, and the `security_feeling` can be impressed as an integer number within (1,5)."
   ]
  },
  {
   "cell_type": "markdown",
   "metadata": {
    "id": "eJtt3VUpuVh4"
   },
   "source": [
    "# Logical Model"
   ]
  },
  {
   "cell_type": "markdown",
   "metadata": {
    "id": "eJtt3VUpuVh4"
   },
   "source": [
    "For the proposed domain and the requested workload, it is the best option to store and query these data in a graph database. Several factors are involved in taking this decision:\n",
    "\n",
    "- **Simplicity:** Using a graph database (e.g. Neo4j), it is extremely convenient to store and navigate the transaction data. We can represent the customers and terminals as nodes of the graph, and transactions can be treated as the edges. Despite the simplicity, this design is powerful enough to cover all the requested queries in the workload without requiring complex queries.\n",
    "- **Performance:** Since the data is organized as a graph, it would have the best performance when trying to identify a path along the graph, hence the highest performance is achieved.\n",
    "- **Powerful:** The workload requires us to store different kinds of relationships, and to be able to infer based on them. Since these relationships are stored simply as the edges of the graph, there is no trouble in the management of these relationships.\n",
    "\n",
    "In order to shape the graph with nodes and edges, we need to make decisions on the entities of our conceptual model. The `Customer` and `Terminal` entities will be demonstrated as nodes in the graph, having labels of `:Customer` and `:Terminal` respectively. However, for `Transaction` entities we have two possible design choices:\n",
    "\n",
    "1. Shaping the graph as `(:Customer)-[:MAKES]->(:Transaction)-[:AT]->(:Terminal)`, we can define the transactions as separate *nodes*. However, this representation of the data may be redundant, simply because we have no direct use of the relationships `:MAKES` and `:AT` in the workload, and also there are no additional properties to be assigned to these relationships.\n",
    "2. We can shape the graph as `(:Customer)-[:TRANSACTION]->(:Terminal)`, where we keep the transactions simply as a relationship between customers and terminals. Using property graph databases such as Neo4j, it is possible to define properties for the transactions on the edges of the graph as well.\n",
    "\n",
    "As discussed, we will proceed with the second approach due to its simplicity and efficiency. Without any further hesitations, we will now present the logical model designed for a graph database, which we will later implement in Neo4j. Keep in mind, that the green-pained edges and attributes are the ones that are introduced later to be stored in the graph.\n",
    "\n",
    "![logical-model](latex/images/logical-model.png)"
   ]
  },
  {
   "cell_type": "markdown",
   "metadata": {
    "id": "eJtt3VUpuVh4"
   },
   "source": [
    "# Transaction Graph Generation"
   ]
  },
  {
   "cell_type": "markdown",
   "metadata": {},
   "source": [
    "Using the building blocks of the transaction data simulator, we will proceed with inserting the data into our Neo4j databases. In this section, we will first generate the transaction graph, and then discuss the execution times for inserting the data into each graph."
   ]
  },
  {
   "cell_type": "markdown",
   "metadata": {},
   "source": [
    "## Generation of the Transaction Graphs"
   ]
  },
  {
   "cell_type": "markdown",
   "metadata": {
    "id": "syFyUehDvnEX"
   },
   "source": [
    "The objective of this project is to first create 3 different databases of sizes 50Mb, 100Mb, and 200Mb, respectively. The following steps are taken sequentially to achieve this:\n",
    "\n",
    "- In the first step, we have to create a database in the Neo4j Desktop application, let's name it `TransactionGraph`. We set `user = \"neo4j\", password=\"12345678\"` as the required authentications.\n",
    "- We run the `TransactionGraph` on the default bold URI `bolt://localhost:7687`.\n",
    "- We attempt to create three different databases, namely `TG50`, `TG100`, and `TG200`, respectively. The naming convention denotes the desired size of data to be stored in each of the databases. An additional `TGtest` database would be also created for test purposes.\n",
    "- Using the Python cells below, we will insert the generated dataset for each of the databases separately, and automatically insert it into the database. We will store the execution times to report later as well. It is important to mention that to achieve the mentioned goals on a local server containing the Neo4j Desctop application, we have to run the script locally (not on platforms like Google Colab)."
   ]
  },
  {
   "cell_type": "code",
   "execution_count": 13,
   "metadata": {},
   "outputs": [],
   "source": [
    "class Database:\n",
    "    def __init__(self):\n",
    "        self.batch_size = 200\n",
    "        self.auth = {\n",
    "            \"uri\": \"bolt://localhost:7687\",\n",
    "            \"user\": \"neo4j\",\n",
    "            \"password\": \"12345678\"\n",
    "        }\n",
    "        self.driver = GraphDatabase.driver(\n",
    "            self.auth['uri'],\n",
    "            auth=(self.auth['user'], self.auth['password'])\n",
    "        )\n",
    "        self.set_create_queries()\n",
    "        self.create_execution_times = dict()\n",
    "        self.read_execution_times = dict()\n",
    "\n",
    "    def set_create_queries(self):\n",
    "        '''\n",
    "        For ease of use, we store all the \"create\" queries for adding new nodes/edges\n",
    "        in the class, which are easily accessible when needed\n",
    "        '''\n",
    "        \n",
    "        self.create_customer_query = \"\"\"\n",
    "            UNWIND $data AS customer\n",
    "            CREATE (c:Customer {\n",
    "                customer_id: customer['CUSTOMER_ID'],\n",
    "                x_customer_id: customer['x_customer_id'],\n",
    "                y_customer_id: customer['y_customer_id']\n",
    "            })\n",
    "        \"\"\"\n",
    "        \n",
    "        self.create_terminal_query = \"\"\"\n",
    "            UNWIND $data AS terminal\n",
    "            CREATE (t:Terminal {\n",
    "                terminal_id: terminal['TERMINAL_ID'],\n",
    "                x_terminal_id: terminal['x_terminal_id'],\n",
    "                y_terminal_id: terminal['y_terminal_id']\n",
    "            })\n",
    "        \"\"\"\n",
    "        \n",
    "        self.create_transaction_query = \"\"\"\n",
    "            UNWIND $data AS transaction\n",
    "            MATCH (c:Customer {customer_id: transaction['CUSTOMER_ID']})\n",
    "            MATCH (t:Terminal {terminal_id: transaction['TERMINAL_ID']})\n",
    "            CREATE (c)-[:TRANSACTION {\n",
    "                transaction_id: transaction['TRANSACTION_ID'],\n",
    "                customer_id: transaction['CUSTOMER_ID'],\n",
    "                terminal_id: transaction['TERMINAL_ID'],\n",
    "                tx_amount: transaction['TX_AMOUNT'],\n",
    "                tx_datetime: transaction['TX_DATETIME'],\n",
    "                tx_fraud: transaction['TX_FRAUD'],\n",
    "                tx_fraud_scenario: transaction['TX_FRAUD_SCENARIO']\n",
    "            }]->(t)\n",
    "        \"\"\"\n",
    "        \n",
    "    def print_data_size(self, customer_profiles_table, terminal_profiles_table, transactions_df):\n",
    "        '''\n",
    "        It is difficult to estimate the exact size of the database before storing it,\n",
    "        hence we use `memory_usage` of DataFrames to estimate an approximate value\n",
    "        '''\n",
    "        # Computing the total storage size of data\n",
    "        dataframes = [customer_profiles_table, terminal_profiles_table, transactions_df]\n",
    "        total_memory_mb = sum(df.memory_usage(deep=True).sum() for df in dataframes) / (1024 * 1024)\n",
    "        print(f\"Total storage size of data: {total_memory_mb:.2f} MB\")\n",
    "\n",
    "    def transform_data(self, customer_profiles_table, terminal_profiles_table, transactions_df):\n",
    "        '''\n",
    "        In order to insert the data into Neo4j database using Python connector, we need\n",
    "        to transform the DataFrame objects into lists of JSONs. Next, to prevent the \n",
    "        session breaks and enhance the data insertion into the graph, we transform the\n",
    "        obtained list into batches of JSONs\n",
    "        '''\n",
    "        \n",
    "        # Convert DataFrames to lists of dictionaries\n",
    "        customers_data = customer_profiles_table.to_dict(orient='records')\n",
    "        terminals_data = terminal_profiles_table.to_dict(orient='records')\n",
    "        transactions_data = transactions_df.to_dict(orient='records')\n",
    "    \n",
    "        # Create batches of data for efficient insertion\n",
    "        batch_creator = lambda data: \\\n",
    "            [data[i:i + self.batch_size] for i in range(0, len(data), self.batch_size)]\n",
    "        customers_batch = batch_creator(customers_data)\n",
    "        terminals_batch = batch_creator(terminals_data)\n",
    "        transactions_batch = batch_creator(transactions_data)\n",
    "        return customers_batch, terminals_batch, transactions_batch\n",
    "\n",
    "    def batch_insert(self, session, query, data_batch, data_type):\n",
    "        '''\n",
    "        This function runs a single \"create\" query on Neo4j and displays a progress bar\n",
    "        showing the amount of time taken to insert the data\n",
    "        '''\n",
    "        progressBar = tqdm(data_batch)\n",
    "        for i, batch in enumerate(progressBar):\n",
    "            progressBar.set_description(f'Inserting {data_type} data (batches of size {self.batch_size})')\n",
    "            session.run(query, data=batch)\n",
    "\n",
    "    def batch_insert_into_db(self, database, customers_batch, terminals_batch, transactions_batch):\n",
    "        '''\n",
    "        This function utilizes the `batch_insert` function to run the create queries\n",
    "        on the suggested database within Neo4j, and insert the data as a graph\n",
    "        '''\n",
    "        with self.driver.session(database=database) as session:\n",
    "            t_start = time.time()\n",
    "            self.batch_insert(session, self.create_customer_query, customers_batch, data_type='customers')\n",
    "            self.batch_insert(session, self.create_terminal_query, terminals_batch, data_type='terminals')\n",
    "            self.batch_insert(session, self.create_transaction_query, transactions_batch, data_type='transactions')\n",
    "            t_total = round(time.time() - t_start, 3)\n",
    "            self.create_execution_times[database] = t_total\n",
    "\n",
    "    def get_stats(self, transactions_df):\n",
    "        #Number of transactions per day\n",
    "        nb_tx_per_day=transactions_df.groupby(['TX_TIME_DAYS'])['CUSTOMER_ID'].count()\n",
    "        #Number of fraudulent transactions per day\n",
    "        nb_fraud_per_day=transactions_df.groupby(['TX_TIME_DAYS'])['TX_FRAUD'].sum()\n",
    "        #Number of fraudulent cards per day\n",
    "        nb_fraudcard_per_day=transactions_df[transactions_df['TX_FRAUD']>0].groupby(['TX_TIME_DAYS']).CUSTOMER_ID.nunique()\n",
    "        return (nb_tx_per_day,nb_fraud_per_day,nb_fraudcard_per_day)\n",
    "    \n",
    "    def plot_stats(self, transactions_df, database):\n",
    "        # PLOTTING THE DISTRIBUTIONS ---------------------------------------------------------\n",
    "        distribution_amount_times_fig, ax = plt.subplots(1, 2, figsize=(18,4))\n",
    "        n_samples = min(len(transactions_df), 10000)\n",
    "        amount_val = transactions_df[transactions_df.TX_TIME_DAYS<10]['TX_AMOUNT'].sample(n=n_samples, replace=True).values\n",
    "        time_val = transactions_df[transactions_df.TX_TIME_DAYS<10]['TX_TIME_SECONDS'].sample(n=n_samples, replace=True).values\n",
    "        \n",
    "        sns.distplot(amount_val, ax=ax[0], color='r', hist = True, kde = False)\n",
    "        ax[0].set_title(f'{database}: Distribution of transaction amounts', fontsize=14)\n",
    "        ax[0].set_xlim([min(amount_val), max(amount_val)])\n",
    "        ax[0].set(xlabel=\"Amount\", ylabel=\"Number of transactions\")\n",
    "        \n",
    "        # We divide the time variables by 86400 to transform seconds to days in the plot\n",
    "        sns.distplot(time_val/86400, ax=ax[1], color='b', bins = 100, hist = True, kde = False)\n",
    "        ax[1].set_title(f'{database}: Distribution of transaction times', fontsize=14)\n",
    "        ax[1].set_xlim([min(time_val/86400), max(time_val/86400)])\n",
    "        ax[1].set_xticks(range(10))\n",
    "        ax[1].set(xlabel=\"Time (days)\", ylabel=\"Number of transactions\")\n",
    "    \n",
    "        # PLOTTING THE TRANSACTIONS PER DAY ---------------------------------------------------\n",
    "        (nb_tx_per_day,nb_fraud_per_day,nb_fraudcard_per_day) = self.get_stats(transactions_df)\n",
    "        n_days=len(nb_tx_per_day)\n",
    "        tx_stats=pd.DataFrame({\"value\":pd.concat([nb_tx_per_day/50,nb_fraud_per_day,nb_fraudcard_per_day])})\n",
    "        tx_stats['stat_type'] = [\"nb_tx_per_day\"]*n_days + [\"nb_fraud_per_day\"]*n_days + [\"nb_fraudcard_per_day\"]*n_days\n",
    "        tx_stats=tx_stats.reset_index()\n",
    "    \n",
    "        fig, ax = plt.subplots(figsize=(8, 4))\n",
    "        fraud_and_transactions_stats_fig = plt.gcf()\n",
    "        fraud_and_transactions_stats_fig.set_size_inches(8, 4)\n",
    "        sns_plot = sns.lineplot(x=\"TX_TIME_DAYS\", y=\"value\", data=tx_stats, hue=\"stat_type\", hue_order=[\"nb_tx_per_day\",\"nb_fraud_per_day\",\"nb_fraudcard_per_day\"], legend=False)\n",
    "        sns_plot.set_title(f'{database}: Total transactions vs. fraudulent transactions and compromised cards')\n",
    "        sns_plot.set(xlabel = \"Number of days since beginning of data generation\", ylabel=\"Number\")\n",
    "        sns_plot.set_ylim([0,300])\n",
    "        labels_legend = [\"# transactions per day (/50)\", \"# fraudulent transactions per day\", \"# fraudulent cards per day\"]\n",
    "        sns_plot.legend(loc='upper left', labels=labels_legend,bbox_to_anchor=(1.05, 1))\n",
    "\n",
    "    def read_from_db(self, query, query_name, database, store_exec_time=True):\n",
    "        '''\n",
    "        This function allows us to perform read queries on the selected database\n",
    "        and return the results as a DataFrame. If the `store_exec_time` is True,\n",
    "        we will store the exection time of query for further reports\n",
    "        '''\n",
    "        t_start = time.time()\n",
    "        records, summary, keys = self.driver.execute_query(query, database_=database)\n",
    "        t_total = round(time.time() - t_start, 3)\n",
    "        print(f'The query returned {len(records)} records in {t_total} s.')\n",
    "\n",
    "        # store the execution results\n",
    "        if store_exec_time:\n",
    "            if query_name not in self.read_execution_times:\n",
    "                self.read_execution_times[query_name] = dict()\n",
    "            self.read_execution_times[query_name][database] = t_total\n",
    "        \n",
    "        df = pd.DataFrame([dict(record) for record in records])\n",
    "        return df\n",
    "    \n",
    "    def __del__(self):\n",
    "        self.driver.close()"
   ]
  },
  {
   "cell_type": "code",
   "execution_count": 14,
   "metadata": {
    "id": "SbASinEklFet"
   },
   "outputs": [],
   "source": [
    "def create_transaction_graph(customer_profiles_table, terminal_profiles_table, transactions_df, database):\n",
    "    # Inserting the data into Neo4j Graph\n",
    "    db.print_data_size(customer_profiles_table, terminal_profiles_table, transactions_df)\n",
    "    db.plot_stats(transactions_df, database)\n",
    "    customers_batch, terminals_batch, transactions_batch = db.transform_data(\n",
    "        customer_profiles_table,\n",
    "        terminal_profiles_table,\n",
    "        transactions_df\n",
    "    )\n",
    "    db.batch_insert_into_db(database, customers_batch, terminals_batch, transactions_batch)"
   ]
  },
  {
   "cell_type": "code",
   "execution_count": 15,
   "metadata": {},
   "outputs": [],
   "source": [
    "db = Database()"
   ]
  },
  {
   "cell_type": "markdown",
   "metadata": {},
   "source": [
    "In the following, we will attempt to generate datasets of different size, and insert them into the database."
   ]
  },
  {
   "cell_type": "markdown",
   "metadata": {},
   "source": [
    "### Transaction Graph (TGtest)"
   ]
  },
  {
   "cell_type": "markdown",
   "metadata": {},
   "source": [
    "A light graph with fewer customers, terminals, and relationships is created as below for test purposes."
   ]
  },
  {
   "cell_type": "code",
   "execution_count": 16,
   "metadata": {},
   "outputs": [
    {
     "name": "stdout",
     "output_type": "stream",
     "text": [
      "Time to generate customer profiles table: 00:00:00\n",
      "Time to generate terminal profiles table: 00:00:00\n",
      "Time to associate terminals to customers: 00:00:01\n",
      "Time to generate transactions: 00:00:08\n",
      "Number of frauds from scenario 1: 0\n",
      "Number of frauds from scenario 2: 118\n",
      "Number of frauds from scenario 3: 33\n",
      "Time to add fraudulent transactions: 00:00:07\n"
     ]
    }
   ],
   "source": [
    "# Generate the dataset using the simulator\n",
    "(customer_profiles_table, terminal_profiles_table, transactions_df) = generate_dataset(\n",
    "    n_customers=10,\n",
    "    n_terminals=10,\n",
    "    nb_days=10,\n",
    "    start_date=\"2023-03-01\",\n",
    "    r=50\n",
    ")"
   ]
  },
  {
   "cell_type": "code",
   "execution_count": 17,
   "metadata": {},
   "outputs": [
    {
     "name": "stdout",
     "output_type": "stream",
     "text": [
      "Total storage size of data: 0.04 MB\n"
     ]
    },
    {
     "data": {
      "application/vnd.jupyter.widget-view+json": {
       "model_id": "b3104745ac374917a15e1c6012007de3",
       "version_major": 2,
       "version_minor": 0
      },
      "text/plain": [
       "  0%|          | 0/1 [00:00<?, ?it/s]"
      ]
     },
     "metadata": {},
     "output_type": "display_data"
    },
    {
     "data": {
      "application/vnd.jupyter.widget-view+json": {
       "model_id": "8f721e2d0382471babe678b1777efef5",
       "version_major": 2,
       "version_minor": 0
      },
      "text/plain": [
       "  0%|          | 0/1 [00:00<?, ?it/s]"
      ]
     },
     "metadata": {},
     "output_type": "display_data"
    },
    {
     "data": {
      "application/vnd.jupyter.widget-view+json": {
       "model_id": "92452a7ac6a2411b8b6e46363f5995b5",
       "version_major": 2,
       "version_minor": 0
      },
      "text/plain": [
       "  0%|          | 0/2 [00:00<?, ?it/s]"
      ]
     },
     "metadata": {},
     "output_type": "display_data"
    },
    {
     "data": {
      "image/png": "[encoded data removed]",
      "text/plain": [
       "<Figure size 1800x400 with 2 Axes>"
      ]
     },
     "metadata": {},
     "output_type": "display_data"
    },
    {
     "data": {
      "image/png": "[encoded data removed]",
      "text/plain": [
       "<Figure size 800x400 with 1 Axes>"
      ]
     },
     "metadata": {},
     "output_type": "display_data"
    }
   ],
   "source": [
    "# Inserting the generated data in the Neo4j database named \"TGtest\"\n",
    "create_transaction_graph(customer_profiles_table, terminal_profiles_table, transactions_df, database='TGtest')"
   ]
  },
  {
   "cell_type": "markdown",
   "metadata": {
    "id": "R49sNgz0kD3b"
   },
   "source": [
    "### Transaction Graph (50Mb)"
   ]
  },
  {
   "cell_type": "code",
   "execution_count": 18,
   "metadata": {
    "id": "DdeY2YYC0C_9"
   },
   "outputs": [
    {
     "name": "stdout",
     "output_type": "stream",
     "text": [
      "Time to generate customer profiles table: 00:00:01\n",
      "Time to generate terminal profiles table: 00:00:00\n",
      "Time to associate terminals to customers: 00:00:19\n",
      "Time to generate transactions: 00:23:24\n",
      "Number of frauds from scenario 1: 154\n",
      "Number of frauds from scenario 2: 32123\n",
      "Number of frauds from scenario 3: 7499\n",
      "Time to add fraudulent transactions: 00:33:46\n"
     ]
    }
   ],
   "source": [
    "# Generate the dataset using the simulator\n",
    "(customer_profiles_table, terminal_profiles_table, transactions_df) = generate_dataset(\n",
    "    n_customers=450,\n",
    "    n_terminals=450,\n",
    "    nb_days=365,\n",
    "    start_date=\"2023-03-01\",\n",
    "    r=5\n",
    ")"
   ]
  },
  {
   "cell_type": "code",
   "execution_count": 19,
   "metadata": {},
   "outputs": [
    {
     "name": "stdout",
     "output_type": "stream",
     "text": [
      "Total storage size of data: 50.55 MB\n"
     ]
    },
    {
     "data": {
      "application/vnd.jupyter.widget-view+json": {
       "model_id": "5ba5b1e1f9834604b274677ca228d429",
       "version_major": 2,
       "version_minor": 0
      },
      "text/plain": [
       "  0%|          | 0/3 [00:00<?, ?it/s]"
      ]
     },
     "metadata": {},
     "output_type": "display_data"
    },
    {
     "data": {
      "application/vnd.jupyter.widget-view+json": {
       "model_id": "924c09ae94b7412c80aca0ed953b59d1",
       "version_major": 2,
       "version_minor": 0
      },
      "text/plain": [
       "  0%|          | 0/3 [00:00<?, ?it/s]"
      ]
     },
     "metadata": {},
     "output_type": "display_data"
    },
    {
     "data": {
      "application/vnd.jupyter.widget-view+json": {
       "model_id": "182f5f6fdb3849b699fed2f24a471a03",
       "version_major": 2,
       "version_minor": 0
      },
      "text/plain": [
       "  0%|          | 0/1439 [00:00<?, ?it/s]"
      ]
     },
     "metadata": {},
     "output_type": "display_data"
    },
    {
     "data": {
      "image/png": "[encoded data removed]",
      "text/plain": [
       "<Figure size 1800x400 with 2 Axes>"
      ]
     },
     "metadata": {},
     "output_type": "display_data"
    },
    {
     "data": {
      "image/png": "[encoded data removed]",
      "text/plain": [
       "<Figure size 800x400 with 1 Axes>"
      ]
     },
     "metadata": {},
     "output_type": "display_data"
    }
   ],
   "source": [
    "# Inserting the generated data in the Neo4j database named \"TG50\"\n",
    "create_transaction_graph(customer_profiles_table, terminal_profiles_table, transactions_df, database='TG50')"
   ]
  },
  {
   "cell_type": "markdown",
   "metadata": {
    "id": "l5XNElHWktBs"
   },
   "source": [
    "### Transaction Graph (100Mb)"
   ]
  },
  {
   "cell_type": "code",
   "execution_count": 20,
   "metadata": {
    "colab": {
     "base_uri": "https://localhost:8080/"
    },
    "id": "3M5ixynugSRL",
    "outputId": "4d722667-0ec2-430a-adc3-52f6841f2125"
   },
   "outputs": [
    {
     "name": "stdout",
     "output_type": "stream",
     "text": [
      "Time to generate customer profiles table: 00:00:01\n",
      "Time to generate terminal profiles table: 00:00:02\n",
      "Time to associate terminals to customers: 00:00:41\n",
      "Time to generate transactions: 00:42:14\n",
      "Number of frauds from scenario 1: 296\n",
      "Number of frauds from scenario 2: 36375\n",
      "Number of frauds from scenario 3: 8742\n",
      "Time to add fraudulent transactions: 01:08:49\n"
     ]
    }
   ],
   "source": [
    "# Generate the dataset using the simulator\n",
    "(customer_profiles_table, terminal_profiles_table, transactions_df) = generate_dataset(\n",
    "    n_customers=820,\n",
    "    n_terminals=820,\n",
    "    nb_days=365,\n",
    "    start_date=\"2023-03-01\",\n",
    "    r=5\n",
    ")"
   ]
  },
  {
   "cell_type": "code",
   "execution_count": 21,
   "metadata": {},
   "outputs": [
    {
     "name": "stdout",
     "output_type": "stream",
     "text": [
      "Total storage size of data: 100.72 MB\n"
     ]
    },
    {
     "data": {
      "application/vnd.jupyter.widget-view+json": {
       "model_id": "fce69f37354448fc8d01c06bae7adf2b",
       "version_major": 2,
       "version_minor": 0
      },
      "text/plain": [
       "  0%|          | 0/5 [00:00<?, ?it/s]"
      ]
     },
     "metadata": {},
     "output_type": "display_data"
    },
    {
     "data": {
      "application/vnd.jupyter.widget-view+json": {
       "model_id": "2bc91892c7534c9ca9be78d8b6c9a3f8",
       "version_major": 2,
       "version_minor": 0
      },
      "text/plain": [
       "  0%|          | 0/5 [00:00<?, ?it/s]"
      ]
     },
     "metadata": {},
     "output_type": "display_data"
    },
    {
     "data": {
      "application/vnd.jupyter.widget-view+json": {
       "model_id": "f4c2418abbec43c0a4d1ab3f9292ade2",
       "version_major": 2,
       "version_minor": 0
      },
      "text/plain": [
       "  0%|          | 0/2866 [00:00<?, ?it/s]"
      ]
     },
     "metadata": {},
     "output_type": "display_data"
    },
    {
     "data": {
      "image/png": "[encoded data removed]",
      "text/plain": [
       "<Figure size 1800x400 with 2 Axes>"
      ]
     },
     "metadata": {},
     "output_type": "display_data"
    },
    {
     "data": {
      "image/png": "[encoded data removed]",
      "text/plain": [
       "<Figure size 800x400 with 1 Axes>"
      ]
     },
     "metadata": {},
     "output_type": "display_data"
    }
   ],
   "source": [
    "# Inserting the generated data in the Neo4j database named \"TG100\"\n",
    "create_transaction_graph(customer_profiles_table, terminal_profiles_table, transactions_df, database='TG100')"
   ]
  },
  {
   "cell_type": "markdown",
   "metadata": {
    "id": "oqSZAXlBkxRQ"
   },
   "source": [
    "### Transaction Graph (200Mb)"
   ]
  },
  {
   "cell_type": "code",
   "execution_count": 22,
   "metadata": {},
   "outputs": [
    {
     "name": "stdout",
     "output_type": "stream",
     "text": [
      "Time to generate customer profiles table: 00:00:04\n",
      "Time to generate terminal profiles table: 00:00:03\n",
      "Time to associate terminals to customers: 00:00:84\n",
      "Time to generate transactions: 01:26:49\n",
      "Number of frauds from scenario 1: 573\n",
      "Number of frauds from scenario 2: 37002\n",
      "Number of frauds from scenario 3: 9109\n",
      "Time to add fraudulent transactions: 02:19:54\n"
     ]
    }
   ],
   "source": [
    "# Generate the dataset using the simulator\n",
    "(customer_profiles_table, terminal_profiles_table, transactions_df) = generate_dataset(\n",
    "    n_customers=1620,\n",
    "    n_terminals=1620,\n",
    "    nb_days=365,\n",
    "    start_date=\"2023-03-01\",\n",
    "    r=5\n",
    ")"
   ]
  },
  {
   "cell_type": "code",
   "execution_count": 23,
   "metadata": {
    "id": "UkDAOIvtg9o4"
   },
   "outputs": [
    {
     "name": "stdout",
     "output_type": "stream",
     "text": [
      "Total storage size of data: 199.17 MB\n"
     ]
    },
    {
     "data": {
      "application/vnd.jupyter.widget-view+json": {
       "model_id": "eee5a999c10b4193a9f5d5eb24609db6",
       "version_major": 2,
       "version_minor": 0
      },
      "text/plain": [
       "  0%|          | 0/9 [00:00<?, ?it/s]"
      ]
     },
     "metadata": {},
     "output_type": "display_data"
    },
    {
     "data": {
      "application/vnd.jupyter.widget-view+json": {
       "model_id": "f7dedc80089140c18140de6979982dd1",
       "version_major": 2,
       "version_minor": 0
      },
      "text/plain": [
       "  0%|          | 0/9 [00:00<?, ?it/s]"
      ]
     },
     "metadata": {},
     "output_type": "display_data"
    },
    {
     "data": {
      "application/vnd.jupyter.widget-view+json": {
       "model_id": "66c1f054bb8e49ae8a5afc3993d81a94",
       "version_major": 2,
       "version_minor": 0
      },
      "text/plain": [
       "  0%|          | 0/5665 [00:00<?, ?it/s]"
      ]
     },
     "metadata": {},
     "output_type": "display_data"
    },
    {
     "data": {
      "image/png": "[encoded data removed]",
      "text/plain": [
       "<Figure size 1800x400 with 2 Axes>"
      ]
     },
     "metadata": {},
     "output_type": "display_data"
    },
    {
     "data": {
      "image/png": "[encoded data removed]",
      "text/plain": [
       "<Figure size 800x400 with 1 Axes>"
      ]
     },
     "metadata": {},
     "output_type": "display_data"
    }
   ],
   "source": [
    "# Inserting the generated data in the Neo4j database named \"TG200\"\n",
    "create_transaction_graph(customer_profiles_table, terminal_profiles_table, transactions_df, database='TG200')"
   ]
  },
  {
   "cell_type": "markdown",
   "metadata": {},
   "source": [
    "## Execution Times"
   ]
  },
  {
   "cell_type": "markdown",
   "metadata": {},
   "source": [
    "The execution times taken to import the generated datasets to each database are reported below:"
   ]
  },
  {
   "cell_type": "code",
   "execution_count": 24,
   "metadata": {},
   "outputs": [
    {
     "name": "stdout",
     "output_type": "stream",
     "text": [
      "It took '0:00:03' (HH:SS:mm) to insert data into 'TGtest'\n",
      "It took '0:02:28' (HH:SS:mm) to insert data into 'TG50'\n",
      "It took '0:07:33' (HH:SS:mm) to insert data into 'TG100'\n",
      "It took '0:26:11' (HH:SS:mm) to insert data into 'TG200'\n"
     ]
    }
   ],
   "source": [
    "for database, execution_time in db.create_execution_times.items():\n",
    "    print(f\"It took '{datetime.timedelta(seconds=round(execution_time))}' (HH:MM:SS) to insert data into '{database}'\")"
   ]
  },
  {
   "cell_type": "code",
   "execution_count": 25,
   "metadata": {
    "scrolled": true
   },
   "outputs": [
    {
     "data": {
      "image/png": "[encoded data removed]",
      "text/plain": [
       "<Figure size 800x400 with 1 Axes>"
      ]
     },
     "metadata": {},
     "output_type": "display_data"
    }
   ],
   "source": [
    "fig, ax = plt.subplots(figsize=(8, 4))\n",
    "sns.barplot(x=db.create_execution_times.keys(), y=db.create_execution_times.values(), ax=ax, palette='crest')\n",
    "sns.lineplot(data=db.create_execution_times, ax=ax, color='red')\n",
    "ax.set_title('Execution Times for Different Graph Generations', fontsize=14)\n",
    "_ = ax.set(xlabel='Graph Database Name', ylabel='Time (s)')"
   ]
  },
  {
   "cell_type": "markdown",
   "metadata": {},
   "source": [
    "# Experiments"
   ]
  },
  {
   "cell_type": "markdown",
   "metadata": {},
   "source": [
    "Before proceeding with running different queries on our databases, we will create an indexing structure on the most demanding attributes of nodes and relationships to improve the performance."
   ]
  },
  {
   "cell_type": "code",
   "execution_count": 26,
   "metadata": {},
   "outputs": [],
   "source": [
    "for database in ['TGtest', 'TG50', 'TG100', 'TG200']:\n",
    "    customer_index = 'CREATE INDEX customer_id_index IF NOT EXISTS FOR (n:Customer) ON (n.customer_id);'\n",
    "    terminal_index = 'CREATE INDEX terminal_id_index IF NOT EXISTS FOR (n:Terminal) ON (n.terminal_id);'\n",
    "    transaction_index = 'CREATE INDEX transaction_id_index IF NOT EXISTS FOR ()-[t:TRANSACTION]-() ON (t.terminal_id);'\n",
    "    db.driver.execute_query(customer_index, database_=database)\n",
    "    db.driver.execute_query(terminal_index, database_=database)\n",
    "    db.driver.execute_query(transaction_index, database_=database)"
   ]
  },
  {
   "cell_type": "markdown",
   "metadata": {},
   "source": [
    "In addition, since the `CALL apoc.periodic.iterate` operation improves performance by parallelization and batching, to benefit the fast responses as the datasets scale, we have to install APOC simply as described below in Neo4j Desktop:\n",
    "\n",
    "- Open Neo4j Desktop\n",
    "- Select `Manage` on the database of interest\n",
    "- Open the `Plugins` tab\n",
    "- Click `Install` in the `APOC` box and wait until you see a green check mark near \"APOC\""
   ]
  },
  {
   "cell_type": "markdown",
   "metadata": {},
   "source": [
    "## Performing Cypher Queries"
   ]
  },
  {
   "cell_type": "markdown",
   "metadata": {},
   "source": [
    "As requested in the workload, there are 5 different queries that we will execute on our Neo4j graph database and evaluate their execution times accordingly on each of the generated datasets."
   ]
  },
  {
   "cell_type": "markdown",
   "metadata": {},
   "source": [
    "### Query (A)"
   ]
  },
  {
   "cell_type": "markdown",
   "metadata": {},
   "source": [
    "**Query:** For each customer check that the spending frequency and the spending amounts of the last month are under the usual spending frequency and the spending amounts for the same period.\n",
    "\n",
    "**Assumptions:**\n",
    "\n",
    "- For this query, we should focus solely on transactions from the past month. As the generated dataset may span along various timeframes (past, present, and future), we can't simply use `today()`'s date as a reference point to capture transactions from the preceding month. Instead, we rely on the latest recorded transaction in the entire database, and we include transactions up to 31 days before that date.\n",
    "- For a given customer $c$ and customer's set of transactions $t \\in \\{transactions\\_last\\_month\\}$, we assume that:\n",
    "\n",
    "  $spending\\_frequency = count(t)$\n",
    "\n",
    "  $spending\\_amount = \\sum_{t} t.tx\\_amount$\n",
    "  \n",
    "- In order to compare such values with the *usual* spending frequency and amount of all customers $c \\in C$ in the same period, we will compute $avg\\_frequency$ and $avg\\_amount$ as reference values to perform the comparison:\n",
    "\n",
    "  $avg\\_frequency = \\frac{1}{|C|} \\sum_{c \\in C} c.spending\\_frequency$\n",
    "\n",
    "  $avg\\_amount = \\frac{1}{|C|} \\sum_{c \\in C} c.spending\\_amount$\n",
    "\n",
    "- In the end, for each $c \\in C$, we will report whether or not $(c.spending\\_frequency < avg\\_frequency)$ and $(c.spending\\_amount < avg\\_amount)$."
   ]
  },
  {
   "cell_type": "code",
   "execution_count": 27,
   "metadata": {},
   "outputs": [],
   "source": [
    "query_A = '''\n",
    "    MATCH ()-[t:TRANSACTION]->()\n",
    "    WITH max(datetime(t.tx_datetime)) AS last_date\n",
    "    \n",
    "    MATCH (c:Customer)-[t:TRANSACTION]->(:Terminal)\n",
    "    WHERE duration.inDays(datetime(t.tx_datetime), last_date).days < 31\n",
    "    WITH\n",
    "        c.customer_id AS customer_id,\n",
    "        round(sum(t.tx_amount), 3) AS customer_transaction_amount,\n",
    "        COUNT(t) AS customer_transaction_frequency\n",
    "    WITH\n",
    "        collect({\n",
    "            id: customer_id,\n",
    "            tx_amount: customer_transaction_amount,\n",
    "            tx_freq: customer_transaction_frequency\n",
    "        }) AS customer_details,\n",
    "        round(avg(customer_transaction_amount), 3) AS avg_tx_amount,\n",
    "        avg(customer_transaction_frequency) AS avg_tx_freq\n",
    "    UNWIND customer_details as c\n",
    "    RETURN\n",
    "        c.id,\n",
    "        c.tx_amount,\n",
    "        avg_tx_amount,\n",
    "        c.tx_freq,\n",
    "        avg_tx_freq,\n",
    "        CASE\n",
    "            WHEN c.tx_amount < avg_tx_amount\n",
    "            THEN 'Lower than average' ELSE 'Higher than average'\n",
    "            END AS amount_comparison,\n",
    "        CASE\n",
    "            WHEN c.tx_freq < avg_tx_freq\n",
    "            THEN 'Lower than average' ELSE 'Higher than average'\n",
    "            END AS frequency_comparison\n",
    "'''"
   ]
  },
  {
   "cell_type": "code",
   "execution_count": 28,
   "metadata": {},
   "outputs": [
    {
     "name": "stdout",
     "output_type": "stream",
     "text": [
      "The query returned 412 records in 4.24 s.\n",
      "The query returned 811 records in 2.639 s.\n",
      "The query returned 1609 records in 3.098 s.\n"
     ]
    }
   ],
   "source": [
    "df_A_50 = db.read_from_db(query_A, query_name='query_A', database='TG50')\n",
    "df_A_100 = db.read_from_db(query_A, query_name='query_A', database='TG100')\n",
    "df_A_200 = db.read_from_db(query_A, query_name='query_A', database='TG200')"
   ]
  },
  {
   "cell_type": "code",
   "execution_count": 29,
   "metadata": {},
   "outputs": [
    {
     "data": {
      "text/html": [
       "<div>\n",
       "<style scoped>\n",
       "    .dataframe tbody tr th:only-of-type {\n",
       "        vertical-align: middle;\n",
       "    }\n",
       "\n",
       "    .dataframe tbody tr th {\n",
       "        vertical-align: top;\n",
       "    }\n",
       "\n",
       "    .dataframe thead th {\n",
       "        text-align: right;\n",
       "    }\n",
       "</style>\n",
       "<table border=\"1\" class=\"dataframe\">\n",
       "  <thead>\n",
       "    <tr style=\"text-align: right;\">\n",
       "      <th></th>\n",
       "      <th>c.id</th>\n",
       "      <th>c.tx-amount</th>\n",
       "      <th>avg-tx-amount</th>\n",
       "      <th>c.tx-freq</th>\n",
       "      <th>avg-tx-freq</th>\n",
       "      <th>amount-comparison</th>\n",
       "      <th>frequency-comparison</th>\n",
       "    </tr>\n",
       "  </thead>\n",
       "  <tbody>\n",
       "    <tr>\n",
       "      <th>0</th>\n",
       "      <td>0</td>\n",
       "      <td>4830.89</td>\n",
       "      <td>3514.779</td>\n",
       "      <td>74</td>\n",
       "      <td>59.223301</td>\n",
       "      <td>Higher than average</td>\n",
       "      <td>Higher than average</td>\n",
       "    </tr>\n",
       "    <tr>\n",
       "      <th>1</th>\n",
       "      <td>1</td>\n",
       "      <td>8429.35</td>\n",
       "      <td>3514.779</td>\n",
       "      <td>105</td>\n",
       "      <td>59.223301</td>\n",
       "      <td>Higher than average</td>\n",
       "      <td>Higher than average</td>\n",
       "    </tr>\n",
       "    <tr>\n",
       "      <th>2</th>\n",
       "      <td>2</td>\n",
       "      <td>4313.72</td>\n",
       "      <td>3514.779</td>\n",
       "      <td>56</td>\n",
       "      <td>59.223301</td>\n",
       "      <td>Higher than average</td>\n",
       "      <td>Lower than average</td>\n",
       "    </tr>\n",
       "    <tr>\n",
       "      <th>3</th>\n",
       "      <td>3</td>\n",
       "      <td>88.66</td>\n",
       "      <td>3514.779</td>\n",
       "      <td>5</td>\n",
       "      <td>59.223301</td>\n",
       "      <td>Lower than average</td>\n",
       "      <td>Lower than average</td>\n",
       "    </tr>\n",
       "    <tr>\n",
       "      <th>4</th>\n",
       "      <td>4</td>\n",
       "      <td>8029.89</td>\n",
       "      <td>3514.779</td>\n",
       "      <td>111</td>\n",
       "      <td>59.223301</td>\n",
       "      <td>Higher than average</td>\n",
       "      <td>Higher than average</td>\n",
       "    </tr>\n",
       "  </tbody>\n",
       "</table>\n",
       "</div>"
      ],
      "text/latex": [
       "\\begin{center}\n",
       "\\begin{tabular}{lrrrrrll}\n",
       "\\toprule\n",
       " & c.id & c.tx-amount & avg-tx-amount & c.tx-freq & avg-tx-freq & amount-comparison & frequency-comparison \\\\\n",
       "\\midrule\n",
       "0 & 0 & 4830.890000 & 3514.779000 & 74 & 59.223301 & Higher than average & Higher than average \\\\\n",
       "1 & 1 & 8429.350000 & 3514.779000 & 105 & 59.223301 & Higher than average & Higher than average \\\\\n",
       "2 & 2 & 4313.720000 & 3514.779000 & 56 & 59.223301 & Higher than average & Lower than average \\\\\n",
       "3 & 3 & 88.660000 & 3514.779000 & 5 & 59.223301 & Lower than average & Lower than average \\\\\n",
       "4 & 4 & 8029.890000 & 3514.779000 & 111 & 59.223301 & Higher than average & Higher than average \\\\\n",
       "\\bottomrule\n",
       "\\end{tabular}\n",
       "\n",
       "\\end{center}"
      ],
      "text/plain": [
       "   c.id  c.tx-amount  avg-tx-amount  c.tx-freq  avg-tx-freq  \\\n",
       "0     0      4830.89       3514.779         74    59.223301   \n",
       "1     1      8429.35       3514.779        105    59.223301   \n",
       "2     2      4313.72       3514.779         56    59.223301   \n",
       "3     3        88.66       3514.779          5    59.223301   \n",
       "4     4      8029.89       3514.779        111    59.223301   \n",
       "\n",
       "     amount-comparison frequency-comparison  \n",
       "0  Higher than average  Higher than average  \n",
       "1  Higher than average  Higher than average  \n",
       "2  Higher than average   Lower than average  \n",
       "3   Lower than average   Lower than average  \n",
       "4  Higher than average  Higher than average  "
      ]
     },
     "execution_count": 29,
     "metadata": {},
     "output_type": "execute_result"
    }
   ],
   "source": [
    "df_A_50.head().rename(columns=lambda x: x.replace('_', '-'))"
   ]
  },
  {
   "cell_type": "markdown",
   "metadata": {},
   "source": [
    "### Query (B)"
   ]
  },
  {
   "cell_type": "markdown",
   "metadata": {},
   "source": [
    "**Query:** For each terminal identify the possible fraudulent transactions. The fraudulent transactions are those whose import is higher than 20% of the maximum import of the transactions executed on the same terminal in the last month.\n",
    "\n",
    "**Assumptions:**\n",
    "\n",
    "- Similar to query (A), we obtain the latest transaction recorded in DB according to the previously mentioned reasons.\n",
    "- To implement the query, we need to establish a `fraud_threshold` for each terminal. Initially, the description suggests setting the threshold as $0.2 \\times \\text{max}(t)$, resulting in numerous transactions $t \\in \\{terminal\\_transactions\\}$ being flagged as fraudulent. Instead, we propose setting the threshold as $0.8 \\times \\text{max}(t)$ to obtain only transactions with abnormal amounts for each terminal in the last month."
   ]
  },
  {
   "cell_type": "code",
   "execution_count": 30,
   "metadata": {},
   "outputs": [],
   "source": [
    "query_B = '''\n",
    "    MATCH ()-[t:TRANSACTION]->()\n",
    "    WITH max(datetime(t.tx_datetime)) AS last_date\n",
    "\n",
    "    MATCH (:Customer)-[t:TRANSACTION]->(terminal:Terminal)\n",
    "    WHERE duration.inDays(datetime(t.tx_datetime), last_date).days < 31\n",
    "    WITH terminal, round(0.8 * max(t.tx_amount), 3) AS fraud_threshold, collect(t) AS transactions\n",
    "    UNWIND transactions AS transaction\n",
    "    WITH terminal, transaction, fraud_threshold\n",
    "    WHERE transaction.tx_amount > fraud_threshold\n",
    "    RETURN\n",
    "        terminal.terminal_id AS terminal_id,\n",
    "        transaction.transaction_id AS transaction_id,\n",
    "        transaction.customer_id AS customer_id,\n",
    "        transaction.tx_amount AS transaction_amount,\n",
    "        fraud_threshold\n",
    "'''"
   ]
  },
  {
   "cell_type": "code",
   "execution_count": 31,
   "metadata": {},
   "outputs": [
    {
     "name": "stdout",
     "output_type": "stream",
     "text": [
      "The query returned 1177 records in 1.211 s.\n",
      "The query returned 2220 records in 1.688 s.\n",
      "The query returned 4647 records in 2.821 s.\n"
     ]
    }
   ],
   "source": [
    "df_B_50 = db.read_from_db(query_B, query_name='query_B', database='TG50')\n",
    "df_B_100 = db.read_from_db(query_B, query_name='query_B', database='TG100')\n",
    "df_B_200 = db.read_from_db(query_B, query_name='query_B', database='TG200')"
   ]
  },
  {
   "cell_type": "code",
   "execution_count": 32,
   "metadata": {},
   "outputs": [
    {
     "data": {
      "text/html": [
       "<div>\n",
       "<style scoped>\n",
       "    .dataframe tbody tr th:only-of-type {\n",
       "        vertical-align: middle;\n",
       "    }\n",
       "\n",
       "    .dataframe tbody tr th {\n",
       "        vertical-align: top;\n",
       "    }\n",
       "\n",
       "    .dataframe thead th {\n",
       "        text-align: right;\n",
       "    }\n",
       "</style>\n",
       "<table border=\"1\" class=\"dataframe\">\n",
       "  <thead>\n",
       "    <tr style=\"text-align: right;\">\n",
       "      <th></th>\n",
       "      <th>terminal-id</th>\n",
       "      <th>transaction-id</th>\n",
       "      <th>customer-id</th>\n",
       "      <th>transaction-amount</th>\n",
       "      <th>fraud-threshold</th>\n",
       "    </tr>\n",
       "  </thead>\n",
       "  <tbody>\n",
       "    <tr>\n",
       "      <th>0</th>\n",
       "      <td>0</td>\n",
       "      <td>280662</td>\n",
       "      <td>399</td>\n",
       "      <td>131.01</td>\n",
       "      <td>123.928</td>\n",
       "    </tr>\n",
       "    <tr>\n",
       "      <th>1</th>\n",
       "      <td>0</td>\n",
       "      <td>278176</td>\n",
       "      <td>399</td>\n",
       "      <td>137.45</td>\n",
       "      <td>123.928</td>\n",
       "    </tr>\n",
       "    <tr>\n",
       "      <th>2</th>\n",
       "      <td>0</td>\n",
       "      <td>277885</td>\n",
       "      <td>399</td>\n",
       "      <td>154.91</td>\n",
       "      <td>123.928</td>\n",
       "    </tr>\n",
       "    <tr>\n",
       "      <th>3</th>\n",
       "      <td>2</td>\n",
       "      <td>283090</td>\n",
       "      <td>159</td>\n",
       "      <td>117.12</td>\n",
       "      <td>106.560</td>\n",
       "    </tr>\n",
       "    <tr>\n",
       "      <th>4</th>\n",
       "      <td>2</td>\n",
       "      <td>278847</td>\n",
       "      <td>15</td>\n",
       "      <td>133.20</td>\n",
       "      <td>106.560</td>\n",
       "    </tr>\n",
       "  </tbody>\n",
       "</table>\n",
       "</div>"
      ],
      "text/latex": [
       "\\begin{center}\n",
       "\\begin{tabular}{lrrrrr}\n",
       "\\toprule\n",
       " & terminal-id & transaction-id & customer-id & transaction-amount & fraud-threshold \\\\\n",
       "\\midrule\n",
       "0 & 0 & 280662 & 399 & 131.010000 & 123.928000 \\\\\n",
       "1 & 0 & 278176 & 399 & 137.450000 & 123.928000 \\\\\n",
       "2 & 0 & 277885 & 399 & 154.910000 & 123.928000 \\\\\n",
       "3 & 2 & 283090 & 159 & 117.120000 & 106.560000 \\\\\n",
       "4 & 2 & 278847 & 15 & 133.200000 & 106.560000 \\\\\n",
       "\\bottomrule\n",
       "\\end{tabular}\n",
       "\n",
       "\\end{center}"
      ],
      "text/plain": [
       "   terminal-id  transaction-id  customer-id  transaction-amount  \\\n",
       "0            0          280662          399              131.01   \n",
       "1            0          278176          399              137.45   \n",
       "2            0          277885          399              154.91   \n",
       "3            2          283090          159              117.12   \n",
       "4            2          278847           15              133.20   \n",
       "\n",
       "   fraud-threshold  \n",
       "0          123.928  \n",
       "1          123.928  \n",
       "2          123.928  \n",
       "3          106.560  \n",
       "4          106.560  "
      ]
     },
     "execution_count": 32,
     "metadata": {},
     "output_type": "execute_result"
    }
   ],
   "source": [
    "df_B_50.head().rename(columns=lambda x: x.replace('_', '-'))"
   ]
  },
  {
   "cell_type": "markdown",
   "metadata": {},
   "source": [
    "### Query (C)"
   ]
  },
  {
   "cell_type": "markdown",
   "metadata": {},
   "source": [
    "**Query:** Given a user $u$, determine the “co-customer-relationships $CC$ of degree $k$”. A user $u’$ is a co-customer of $u$ if you can determine a chain “$u_1-t_1-u_2-t_2-…t_{k-1}-u_k$“ such that $u_1=u$, $u_k=u’$, and for each $1 \\leq i$ and $j \\leq k$, $u_i<>u_j$, and $t_1,..t_{k-1}$ are the terminals on which a transaction has been executed. Therefore, $CC_k(u)=\\{u’| \\text{ a chain exists between } u \\text{ and } u’ \\text{ of degree } k\\}$. Please, note that depending on the adopted model, the computation of $CC_k(u)$ could be quite complicated. Consider therefore at least the computation of $CC_3(u)$ (i.e. the co-costumer relationships of degree 3).\n",
    "\n",
    "**Assumptions:**\n",
    "\n",
    "- According to the query description, to identify $CC_3(u)$ on our graph database, we should look for subgraphs similar to the diagram drawn below, and identify such co-customers $c_1=u$, $c_3=u’$:\n",
    "  \n",
    "  ![CC3-diagram](latex/images/CC3-diagram.png)\n",
    "\n",
    "- To compute $CC_k(u)$, it has been mentioned that each customer should be traversed once only ($u_i<>u_j$). However, nothing has been mentioned for the traverse of the terminals, hence we assume that they can be traversed repeatedly.\n",
    "- In most cases, there are several transactions present among each customer and the connected terminals (possibly hundreds or thousands). To make the query more efficient, since we are only interested in identifying $CC_3(u)$ relationships and not all the possible chains between $u$ and $u’$, we group our data by the start/end nodes of the chain and only report a single chain as a sample using `head(collect(...))`.\n",
    "\n",
    "**Limitations:**\n",
    "Unfortunately, using the following queries for pattern-matching, it was impossible to obtain any response even on the 50Mb database due to the shortage of memory and the complexity of the requested pattern.\n",
    "\n",
    "- `MATCH (c1:Customer)-[:TRANSACTION*4]-(c2:Customer) RETURN c1, c2`\n",
    "- `MATCH (c1:Customer)-[:TRANSACTION]->(t1:Terminal)<-[:TRANSACTION]-(c2:Customer)-[:TRANSACTION]->(t2:Terminal)<-[:TRANSACTION]-(c3:Customer) WHERE c1 <> c2 AND c1 <> c3 AND c2 <> c3 RETURN c1, c3`\n",
    "\n",
    "As a result, we will report the query results and the performance separately below with different patterns tested on a lighter database stored in `TGtest`:"
   ]
  },
  {
   "cell_type": "code",
   "execution_count": 33,
   "metadata": {},
   "outputs": [],
   "source": [
    "query_C = '''\n",
    "    MATCH (c1:Customer)-[:TRANSACTION]->(t1:Terminal)<-[:TRANSACTION]-(c2:Customer)-[:TRANSACTION]->(t2:Terminal)<-[:TRANSACTION]-(c3:Customer)\n",
    "    WHERE c1 <> c2 AND c1 <> c3 AND c2 <> c3\n",
    "    WITH\n",
    "        c1,\n",
    "        c3,\n",
    "        head(collect({\n",
    "            c2: c2.customer_id,\n",
    "            t1: t1.terminal_id,\n",
    "            t2: t2.terminal_id})\n",
    "        ) as sample_chain\n",
    "    RETURN\n",
    "        c1.customer_id AS customer,\n",
    "        c3.customer_id AS co_customer,\n",
    "            \"(c\" + c1.customer_id + \")->(t\" + sample_chain.t1\n",
    "            + \")<-(c\" + sample_chain.c2 + \")->(t\" + sample_chain.t2\n",
    "            + \")<-(c\" + c3.customer_id + \")\"\n",
    "        AS sample_chain\n",
    "'''"
   ]
  },
  {
   "cell_type": "code",
   "execution_count": 34,
   "metadata": {},
   "outputs": [
    {
     "name": "stdout",
     "output_type": "stream",
     "text": [
      "The query returned 56 records in 3.864 s.\n"
     ]
    },
    {
     "data": {
      "text/html": [
       "<div>\n",
       "<style scoped>\n",
       "    .dataframe tbody tr th:only-of-type {\n",
       "        vertical-align: middle;\n",
       "    }\n",
       "\n",
       "    .dataframe tbody tr th {\n",
       "        vertical-align: top;\n",
       "    }\n",
       "\n",
       "    .dataframe thead th {\n",
       "        text-align: right;\n",
       "    }\n",
       "</style>\n",
       "<table border=\"1\" class=\"dataframe\">\n",
       "  <thead>\n",
       "    <tr style=\"text-align: right;\">\n",
       "      <th></th>\n",
       "      <th>customer</th>\n",
       "      <th>co-customer</th>\n",
       "      <th>sample-chain</th>\n",
       "    </tr>\n",
       "  </thead>\n",
       "  <tbody>\n",
       "    <tr>\n",
       "      <th>0</th>\n",
       "      <td>0</td>\n",
       "      <td>8</td>\n",
       "      <td>(c0)-&gt;(t5)&lt;-(c1)-&gt;(t3)&lt;-(c8)</td>\n",
       "    </tr>\n",
       "    <tr>\n",
       "      <th>1</th>\n",
       "      <td>0</td>\n",
       "      <td>7</td>\n",
       "      <td>(c0)-&gt;(t5)&lt;-(c1)-&gt;(t3)&lt;-(c7)</td>\n",
       "    </tr>\n",
       "    <tr>\n",
       "      <th>2</th>\n",
       "      <td>0</td>\n",
       "      <td>6</td>\n",
       "      <td>(c0)-&gt;(t5)&lt;-(c1)-&gt;(t3)&lt;-(c6)</td>\n",
       "    </tr>\n",
       "    <tr>\n",
       "      <th>3</th>\n",
       "      <td>0</td>\n",
       "      <td>4</td>\n",
       "      <td>(c0)-&gt;(t5)&lt;-(c1)-&gt;(t7)&lt;-(c4)</td>\n",
       "    </tr>\n",
       "    <tr>\n",
       "      <th>4</th>\n",
       "      <td>0</td>\n",
       "      <td>9</td>\n",
       "      <td>(c0)-&gt;(t5)&lt;-(c1)-&gt;(t0)&lt;-(c9)</td>\n",
       "    </tr>\n",
       "  </tbody>\n",
       "</table>\n",
       "</div>"
      ],
      "text/latex": [
       "\\begin{center}\n",
       "\\begin{tabular}{lrrl}\n",
       "\\toprule\n",
       " & customer & co-customer & sample-chain \\\\\n",
       "\\midrule\n",
       "0 & 0 & 8 & (c0)->(t5)<-(c1)->(t3)<-(c8) \\\\\n",
       "1 & 0 & 7 & (c0)->(t5)<-(c1)->(t3)<-(c7) \\\\\n",
       "2 & 0 & 6 & (c0)->(t5)<-(c1)->(t3)<-(c6) \\\\\n",
       "3 & 0 & 4 & (c0)->(t5)<-(c1)->(t7)<-(c4) \\\\\n",
       "4 & 0 & 9 & (c0)->(t5)<-(c1)->(t0)<-(c9) \\\\\n",
       "\\bottomrule\n",
       "\\end{tabular}\n",
       "\n",
       "\\end{center}"
      ],
      "text/plain": [
       "   customer  co-customer                  sample-chain\n",
       "0         0            8  (c0)->(t5)<-(c1)->(t3)<-(c8)\n",
       "1         0            7  (c0)->(t5)<-(c1)->(t3)<-(c7)\n",
       "2         0            6  (c0)->(t5)<-(c1)->(t3)<-(c6)\n",
       "3         0            4  (c0)->(t5)<-(c1)->(t7)<-(c4)\n",
       "4         0            9  (c0)->(t5)<-(c1)->(t0)<-(c9)"
      ]
     },
     "execution_count": 34,
     "metadata": {},
     "output_type": "execute_result"
    }
   ],
   "source": [
    "df_C = db.read_from_db(query_C, query_name='query_C', database='TGtest', store_exec_time=False)\n",
    "df_C.head().rename(columns=lambda x: x.replace('_', '-'))"
   ]
  },
  {
   "cell_type": "code",
   "execution_count": 35,
   "metadata": {},
   "outputs": [],
   "source": [
    "query_C = '''\n",
    "    MATCH (c1:Customer)-[:TRANSACTION]->(t1:Terminal)<-[:TRANSACTION]-(c2:Customer)-[:TRANSACTION]->(t2:Terminal)<-[:TRANSACTION]-(c3:Customer)\n",
    "    WHERE c1 <> c2 AND c1 <> c3 AND c2 <> c3\n",
    "    RETURN c1.customer_id AS customer, collect(distinct c3.customer_id)[0..5] as co_customers\n",
    "'''"
   ]
  },
  {
   "cell_type": "code",
   "execution_count": 36,
   "metadata": {},
   "outputs": [
    {
     "name": "stdout",
     "output_type": "stream",
     "text": [
      "The query returned 8 records in 1.951 s.\n"
     ]
    },
    {
     "data": {
      "text/html": [
       "<div>\n",
       "<style scoped>\n",
       "    .dataframe tbody tr th:only-of-type {\n",
       "        vertical-align: middle;\n",
       "    }\n",
       "\n",
       "    .dataframe tbody tr th {\n",
       "        vertical-align: top;\n",
       "    }\n",
       "\n",
       "    .dataframe thead th {\n",
       "        text-align: right;\n",
       "    }\n",
       "</style>\n",
       "<table border=\"1\" class=\"dataframe\">\n",
       "  <thead>\n",
       "    <tr style=\"text-align: right;\">\n",
       "      <th></th>\n",
       "      <th>customer</th>\n",
       "      <th>co-customers</th>\n",
       "    </tr>\n",
       "  </thead>\n",
       "  <tbody>\n",
       "    <tr>\n",
       "      <th>0</th>\n",
       "      <td>6</td>\n",
       "      <td>[4, 1, 7, 9, 8]</td>\n",
       "    </tr>\n",
       "    <tr>\n",
       "      <th>1</th>\n",
       "      <td>8</td>\n",
       "      <td>[4, 1, 6, 7, 9]</td>\n",
       "    </tr>\n",
       "    <tr>\n",
       "      <th>2</th>\n",
       "      <td>1</td>\n",
       "      <td>[4, 6, 7, 9, 8]</td>\n",
       "    </tr>\n",
       "    <tr>\n",
       "      <th>3</th>\n",
       "      <td>7</td>\n",
       "      <td>[4, 1, 6, 9, 8]</td>\n",
       "    </tr>\n",
       "    <tr>\n",
       "      <th>4</th>\n",
       "      <td>4</td>\n",
       "      <td>[1, 6, 7, 9, 8]</td>\n",
       "    </tr>\n",
       "  </tbody>\n",
       "</table>\n",
       "</div>"
      ],
      "text/latex": [
       "\\begin{center}\n",
       "\\begin{tabular}{lrl}\n",
       "\\toprule\n",
       " & customer & co-customers \\\\\n",
       "\\midrule\n",
       "0 & 6 & [4, 1, 7, 9, 8] \\\\\n",
       "1 & 8 & [4, 1, 6, 7, 9] \\\\\n",
       "2 & 1 & [4, 6, 7, 9, 8] \\\\\n",
       "3 & 7 & [4, 1, 6, 9, 8] \\\\\n",
       "4 & 4 & [1, 6, 7, 9, 8] \\\\\n",
       "\\bottomrule\n",
       "\\end{tabular}\n",
       "\n",
       "\\end{center}"
      ],
      "text/plain": [
       "   customer     co-customers\n",
       "0         6  [4, 1, 7, 9, 8]\n",
       "1         8  [4, 1, 6, 7, 9]\n",
       "2         1  [4, 6, 7, 9, 8]\n",
       "3         7  [4, 1, 6, 9, 8]\n",
       "4         4  [1, 6, 7, 9, 8]"
      ]
     },
     "execution_count": 36,
     "metadata": {},
     "output_type": "execute_result"
    }
   ],
   "source": [
    "df_C = db.read_from_db(query_C, query_name='query_C', database='TGtest', store_exec_time=False)\n",
    "df_C.head().rename(columns=lambda x: x.replace('_', '-'))"
   ]
  },
  {
   "cell_type": "code",
   "execution_count": 37,
   "metadata": {},
   "outputs": [],
   "source": [
    "query_C = '''\n",
    "    MATCH (c:Customer)-[t:TRANSACTION]->(tm:Terminal)\n",
    "    WITH c, tm, head(collect(t)) as t\n",
    "    WITH collect({\n",
    "        c:c.customer_id, t:t.transaction_id, tm:tm.terminal_id\n",
    "    }) as summarized_graph\n",
    "    UNWIND summarized_graph AS depth1\n",
    "    UNWIND summarized_graph AS depth2\n",
    "    UNWIND summarized_graph AS depth3\n",
    "    UNWIND summarized_graph AS depth4\n",
    "    WITH\n",
    "        depth1.c AS c1, depth1.t AS t1, depth1.tm AS tm1,\n",
    "        depth2.c AS c2, depth2.t AS t2, depth2.tm AS tm2,\n",
    "        depth3.c AS c3, depth3.t AS t3, depth3.tm AS tm3,\n",
    "        depth4.c AS c4, depth4.t AS t4, depth4.tm AS tm4\n",
    "    WHERE\n",
    "        tm1=tm2 AND tm3=tm4 AND c2=c3\n",
    "        AND c1<>c2 AND c1<>c4 AND c2<>c4\n",
    "    RETURN\n",
    "        c1 AS customer,\n",
    "        c4 AS co_customer,\n",
    "            \"(c\" + c1 + \")->(t\" + tm1\n",
    "            + \")<-(c\" + c2 + \")->(t\" + tm3\n",
    "            + \")<-(c\" + c4 + \")\"\n",
    "        AS sample_chain\n",
    "'''"
   ]
  },
  {
   "cell_type": "code",
   "execution_count": 38,
   "metadata": {},
   "outputs": [
    {
     "name": "stdout",
     "output_type": "stream",
     "text": [
      "The query returned 7310 records in 2.282 s.\n"
     ]
    },
    {
     "data": {
      "text/html": [
       "<div>\n",
       "<style scoped>\n",
       "    .dataframe tbody tr th:only-of-type {\n",
       "        vertical-align: middle;\n",
       "    }\n",
       "\n",
       "    .dataframe tbody tr th {\n",
       "        vertical-align: top;\n",
       "    }\n",
       "\n",
       "    .dataframe thead th {\n",
       "        text-align: right;\n",
       "    }\n",
       "</style>\n",
       "<table border=\"1\" class=\"dataframe\">\n",
       "  <thead>\n",
       "    <tr style=\"text-align: right;\">\n",
       "      <th></th>\n",
       "      <th>customer</th>\n",
       "      <th>co-customer</th>\n",
       "      <th>sample-chain</th>\n",
       "    </tr>\n",
       "  </thead>\n",
       "  <tbody>\n",
       "    <tr>\n",
       "      <th>0</th>\n",
       "      <td>0</td>\n",
       "      <td>6</td>\n",
       "      <td>(c0)-&gt;(t5)&lt;-(c1)-&gt;(t3)&lt;-(c6)</td>\n",
       "    </tr>\n",
       "    <tr>\n",
       "      <th>1</th>\n",
       "      <td>0</td>\n",
       "      <td>7</td>\n",
       "      <td>(c0)-&gt;(t5)&lt;-(c1)-&gt;(t3)&lt;-(c7)</td>\n",
       "    </tr>\n",
       "    <tr>\n",
       "      <th>2</th>\n",
       "      <td>0</td>\n",
       "      <td>8</td>\n",
       "      <td>(c0)-&gt;(t5)&lt;-(c1)-&gt;(t3)&lt;-(c8)</td>\n",
       "    </tr>\n",
       "    <tr>\n",
       "      <th>3</th>\n",
       "      <td>0</td>\n",
       "      <td>4</td>\n",
       "      <td>(c0)-&gt;(t5)&lt;-(c1)-&gt;(t7)&lt;-(c4)</td>\n",
       "    </tr>\n",
       "    <tr>\n",
       "      <th>4</th>\n",
       "      <td>0</td>\n",
       "      <td>6</td>\n",
       "      <td>(c0)-&gt;(t5)&lt;-(c1)-&gt;(t7)&lt;-(c6)</td>\n",
       "    </tr>\n",
       "  </tbody>\n",
       "</table>\n",
       "</div>"
      ],
      "text/latex": [
       "\\begin{center}\n",
       "\\begin{tabular}{lrrl}\n",
       "\\toprule\n",
       " & customer & co-customer & sample-chain \\\\\n",
       "\\midrule\n",
       "0 & 0 & 6 & (c0)->(t5)<-(c1)->(t3)<-(c6) \\\\\n",
       "1 & 0 & 7 & (c0)->(t5)<-(c1)->(t3)<-(c7) \\\\\n",
       "2 & 0 & 8 & (c0)->(t5)<-(c1)->(t3)<-(c8) \\\\\n",
       "3 & 0 & 4 & (c0)->(t5)<-(c1)->(t7)<-(c4) \\\\\n",
       "4 & 0 & 6 & (c0)->(t5)<-(c1)->(t7)<-(c6) \\\\\n",
       "\\bottomrule\n",
       "\\end{tabular}\n",
       "\n",
       "\\end{center}"
      ],
      "text/plain": [
       "   customer  co-customer                  sample-chain\n",
       "0         0            6  (c0)->(t5)<-(c1)->(t3)<-(c6)\n",
       "1         0            7  (c0)->(t5)<-(c1)->(t3)<-(c7)\n",
       "2         0            8  (c0)->(t5)<-(c1)->(t3)<-(c8)\n",
       "3         0            4  (c0)->(t5)<-(c1)->(t7)<-(c4)\n",
       "4         0            6  (c0)->(t5)<-(c1)->(t7)<-(c6)"
      ]
     },
     "execution_count": 38,
     "metadata": {},
     "output_type": "execute_result"
    }
   ],
   "source": [
    "df_C = db.read_from_db(query_C, query_name='query_C', database='TGtest', store_exec_time=False)\n",
    "df_C.head().rename(columns=lambda x: x.replace('_', '-'))"
   ]
  },
  {
   "cell_type": "markdown",
   "metadata": {},
   "source": [
    "As mentioned in the limitations, none of the queries above were capable of performing well on the scaled versions of the databases. The reason is, that there might be thousands of transactions between each customer and terminal, and directly applying the `MATCH` operation on the whole graph explodes, and also summarizing along with pattern-matching in the same query was reluctant to provide fast response. Therefore, we will proceed with another technique, described below:\n",
    "\n",
    "- First, for each customer and terminal, if they are connected, we add a single new relationship between them labeled `:CONNECTED`.\n",
    "- Then, instead of performing pattern-matching on `()-[:TRANSACTION]-()`, we will instead use `()-[:CONNECTED]-()` which will substantially decrease the runtime.\n",
    "- The rest of the queries will be organized similarly as before."
   ]
  },
  {
   "cell_type": "code",
   "execution_count": 39,
   "metadata": {},
   "outputs": [],
   "source": [
    "query_C = '''\n",
    "    CALL apoc.periodic.iterate(\n",
    "        \"MATCH (c:Customer)-[t:TRANSACTION]->(tm:Terminal)\n",
    "        RETURN c, tm, count(t) as t\",\n",
    "        \"MERGE (c)-[:CONNECTED]->(tm)\",\n",
    "        {batchSize:1000, iterateList:true}\n",
    "    );\n",
    "'''"
   ]
  },
  {
   "cell_type": "code",
   "execution_count": 40,
   "metadata": {},
   "outputs": [
    {
     "name": "stdout",
     "output_type": "stream",
     "text": [
      "The query returned 1 records in 0.957 s.\n",
      "The query returned 1 records in 1.016 s.\n",
      "The query returned 1 records in 1.768 s.\n"
     ]
    }
   ],
   "source": [
    "_ = db.read_from_db(query_C, query_name='query_C', database='TG50')\n",
    "_ = db.read_from_db(query_C, query_name='query_C', database='TG100')\n",
    "_ = db.read_from_db(query_C, query_name='query_C', database='TG200')"
   ]
  },
  {
   "cell_type": "markdown",
   "metadata": {},
   "source": [
    "As we can see, the operation above is very fast. Now, we can easily query the chain of our interest using the `CONNECTED` relationships."
   ]
  },
  {
   "cell_type": "code",
   "execution_count": 41,
   "metadata": {},
   "outputs": [],
   "source": [
    "quer_C_read = '''\n",
    "    MATCH (c1:Customer)-[:CONNECTED]->(t1:Terminal)<-[:CONNECTED]-(c2:Customer)-[:CONNECTED]->(t2:Terminal)<-[:CONNECTED]-(c3:Customer)\n",
    "    WHERE c1 <> c2 AND c1 <> c3 AND c2 <> c3\n",
    "    RETURN\n",
    "        c1.customer_id AS customer,\n",
    "        c3.customer_id AS co_customer,\n",
    "            \"(c\" + c1.customer_id + \")->(t\" + t1.terminal_id\n",
    "            + \")<-(c\" + c2.customer_id + \")->(t\" + t2.terminal_id\n",
    "            + \")<-(c\" + c3.customer_id + \")\"\n",
    "        AS sample_chain\n",
    "    LIMIT 5\n",
    "'''"
   ]
  },
  {
   "cell_type": "code",
   "execution_count": 42,
   "metadata": {},
   "outputs": [
    {
     "name": "stdout",
     "output_type": "stream",
     "text": [
      "The query returned 5 records in 0.3 s.\n",
      "The query returned 5 records in 0.208 s.\n",
      "The query returned 5 records in 0.205 s.\n"
     ]
    }
   ],
   "source": [
    "df_C_50 = db.read_from_db(quer_C_read, query_name='query_C', database='TG50', store_exec_time=False)\n",
    "df_C_100 = db.read_from_db(quer_C_read, query_name='query_C', database='TG100', store_exec_time=False)\n",
    "df_C_200 = db.read_from_db(quer_C_read, query_name='query_C', database='TG200', store_exec_time=False)"
   ]
  },
  {
   "cell_type": "code",
   "execution_count": 43,
   "metadata": {},
   "outputs": [
    {
     "data": {
      "text/html": [
       "<div>\n",
       "<style scoped>\n",
       "    .dataframe tbody tr th:only-of-type {\n",
       "        vertical-align: middle;\n",
       "    }\n",
       "\n",
       "    .dataframe tbody tr th {\n",
       "        vertical-align: top;\n",
       "    }\n",
       "\n",
       "    .dataframe thead th {\n",
       "        text-align: right;\n",
       "    }\n",
       "</style>\n",
       "<table border=\"1\" class=\"dataframe\">\n",
       "  <thead>\n",
       "    <tr style=\"text-align: right;\">\n",
       "      <th></th>\n",
       "      <th>customer</th>\n",
       "      <th>co-customer</th>\n",
       "      <th>sample-chain</th>\n",
       "    </tr>\n",
       "  </thead>\n",
       "  <tbody>\n",
       "    <tr>\n",
       "      <th>0</th>\n",
       "      <td>399</td>\n",
       "      <td>1</td>\n",
       "      <td>(c399)-&gt;(t0)&lt;-(c337)-&gt;(t5)&lt;-(c1)</td>\n",
       "    </tr>\n",
       "    <tr>\n",
       "      <th>1</th>\n",
       "      <td>399</td>\n",
       "      <td>1</td>\n",
       "      <td>(c399)-&gt;(t0)&lt;-(c337)-&gt;(t378)&lt;-(c1)</td>\n",
       "    </tr>\n",
       "    <tr>\n",
       "      <th>2</th>\n",
       "      <td>337</td>\n",
       "      <td>1</td>\n",
       "      <td>(c337)-&gt;(t0)&lt;-(c399)-&gt;(t5)&lt;-(c1)</td>\n",
       "    </tr>\n",
       "    <tr>\n",
       "      <th>3</th>\n",
       "      <td>337</td>\n",
       "      <td>1</td>\n",
       "      <td>(c337)-&gt;(t0)&lt;-(c399)-&gt;(t378)&lt;-(c1)</td>\n",
       "    </tr>\n",
       "    <tr>\n",
       "      <th>4</th>\n",
       "      <td>337</td>\n",
       "      <td>385</td>\n",
       "      <td>(c337)-&gt;(t0)&lt;-(c399)-&gt;(t270)&lt;-(c385)</td>\n",
       "    </tr>\n",
       "  </tbody>\n",
       "</table>\n",
       "</div>"
      ],
      "text/latex": [
       "\\begin{center}\n",
       "\\begin{tabular}{lrrl}\n",
       "\\toprule\n",
       " & customer & co-customer & sample-chain \\\\\n",
       "\\midrule\n",
       "0 & 399 & 1 & (c399)->(t0)<-(c337)->(t5)<-(c1) \\\\\n",
       "1 & 399 & 1 & (c399)->(t0)<-(c337)->(t378)<-(c1) \\\\\n",
       "2 & 337 & 1 & (c337)->(t0)<-(c399)->(t5)<-(c1) \\\\\n",
       "3 & 337 & 1 & (c337)->(t0)<-(c399)->(t378)<-(c1) \\\\\n",
       "4 & 337 & 385 & (c337)->(t0)<-(c399)->(t270)<-(c385) \\\\\n",
       "\\bottomrule\n",
       "\\end{tabular}\n",
       "\n",
       "\\end{center}"
      ],
      "text/plain": [
       "   customer  co-customer                          sample-chain\n",
       "0       399            1      (c399)->(t0)<-(c337)->(t5)<-(c1)\n",
       "1       399            1    (c399)->(t0)<-(c337)->(t378)<-(c1)\n",
       "2       337            1      (c337)->(t0)<-(c399)->(t5)<-(c1)\n",
       "3       337            1    (c337)->(t0)<-(c399)->(t378)<-(c1)\n",
       "4       337          385  (c337)->(t0)<-(c399)->(t270)<-(c385)"
      ]
     },
     "execution_count": 43,
     "metadata": {},
     "output_type": "execute_result"
    }
   ],
   "source": [
    "df_C_50.head().rename(columns=lambda x: x.replace('_', '-'))"
   ]
  },
  {
   "cell_type": "markdown",
   "metadata": {},
   "source": [
    "### Query (D)"
   ]
  },
  {
   "cell_type": "markdown",
   "metadata": {},
   "source": [
    "**Query:** Extend the logical model that you have stored in the NOSQL database by introducing the\n",
    "following information:\n",
    "\n",
    "1. Each transaction should be extended with:\n",
    "    - The period of the day {morning, afternoon, evening, night} in which the transaction has been executed.\n",
    "    - The kind of products that have been bought through the transaction {hightech, food, clothing, consumable, other}\n",
    "    - The feeling of security expressed by the user. This is an integer value between 1 and 5 expressed by the user when conclude the transaction. The values can be chosen randomly.\n",
    "2. Customers that make more than three transactions from the same terminal expressing a similar average feeling of security should be connected as “buying_friends”. Therefore also this kind of relationship should be explicitly stored in the NOSQL database and can be queried. Note, two average feelings of security are considered similar when their difference is lower than 1.\n",
    "\n",
    "We will proceed with each of the steps separately, distributing to queries `D1` and `D2` for the above tasks."
   ]
  },
  {
   "cell_type": "markdown",
   "metadata": {},
   "source": [
    "**Assumptions:**\n",
    "\n",
    "- To obtain the period of the day, we utilize the transaction hours such that transactions within \"00:00-06:00\" are tagged \"night\", \"06:00-12:00\" as \"morning\", \"12:00-18:00\" as \"afternoon\", and \"18:00-00:00\" as \"evening\".\n",
    "- For the kind of product purchased along the transaction, we assume that the products only belong to a single category among {\"high-tech\", \"food\", \"clothing\", \"consumable\", \"other\"}, which we randomly select and assign to each transaction. If we instead wanted to have a *list* of products for each transaction, we could create a list such that each entry (corresponding to a product) is randomly included or excluded. For example, `CASE WHEN rand()<0.5 THEN \"high-tech\" END`, and we repeat the same for all other products.\n",
    "- Security feeling of the transaction is also drawn randomly and distributed as an integer number from 1 to 5."
   ]
  },
  {
   "cell_type": "markdown",
   "metadata": {},
   "source": [
    "#### Query (D1)"
   ]
  },
  {
   "cell_type": "markdown",
   "metadata": {},
   "source": [
    "At first, the below query was used to update the transactions with a new set of values."
   ]
  },
  {
   "cell_type": "code",
   "execution_count": 44,
   "metadata": {},
   "outputs": [],
   "source": [
    "query_D1 = '''\n",
    "    MATCH (:Customer)-[t:TRANSACTION]->(:Terminal)\n",
    "    SET\n",
    "        t.period_of_day = \n",
    "            CASE\n",
    "                WHEN datetime(t.tx_datetime).hour >= 6 AND datetime(t.tx_datetime).hour < 12 THEN 'morning'\n",
    "                WHEN datetime(t.tx_datetime).hour >= 12 AND datetime(t.tx_datetime).hour < 18 THEN 'afternoon'\n",
    "                WHEN datetime(t.tx_datetime).hour >= 18 AND datetime(t.tx_datetime).hour < 24 THEN 'evening'\n",
    "                ELSE 'night'\n",
    "            END,\n",
    "        t.product = \n",
    "            [\"high-tech\", \"food\", \"clothing\", \"consumable\", \"other\"]\n",
    "            [toInteger(round(rand() * 4))],\n",
    "        t.security_feeling = toInteger(round(rand() * 4) + 1)\n",
    "\n",
    "    RETURN\n",
    "        t.transaction_id, t.customer_id, t.terminal_id, t.tx_datetime,\n",
    "        t.period_of_day, t.product, t.security_feeling\n",
    "    LIMIT 5\n",
    "'''"
   ]
  },
  {
   "cell_type": "markdown",
   "metadata": {},
   "source": [
    "The query above, however, failed to provide fast responses as the dataset scaled. To overcome this issue, we optimized the query and utilized `CALL apoc.periodic.iterate` to improve the performance by parallelization and batching. We will now try to obtain the same result without using `CASE` expressions, using array indexing techniques, to check whether it improves the performance of the query or not."
   ]
  },
  {
   "cell_type": "code",
   "execution_count": 45,
   "metadata": {},
   "outputs": [],
   "source": [
    "query_D1 = '''\n",
    "    CALL apoc.periodic.iterate(\n",
    "        \"MATCH (:Customer)-[t:TRANSACTION]->(:Terminal)\n",
    "        RETURN t, datetime(t.tx_datetime).hour/6 AS period_index, toInteger(round(rand()*4)) AS random_index\",\n",
    "        \"SET\n",
    "            t.period_of_day = ['night', 'morning', 'afternoon', 'evening'][period_index],\n",
    "            t.product = ['high-tech', 'food', 'clothing', 'consumable', 'other'][random_index],\n",
    "            t.security_feeling = random_index + 1\",\n",
    "      {batchSize:1000, iterateList:true}\n",
    "    );\n",
    "'''"
   ]
  },
  {
   "cell_type": "code",
   "execution_count": 46,
   "metadata": {},
   "outputs": [
    {
     "name": "stdout",
     "output_type": "stream",
     "text": [
      "The query returned 1 records in 8.12 s.\n",
      "The query returned 1 records in 10.959 s.\n",
      "The query returned 1 records in 21.91 s.\n"
     ]
    }
   ],
   "source": [
    "_ = db.read_from_db(query_D1, query_name='query_D1', database='TG50')\n",
    "_ = db.read_from_db(query_D1, query_name='query_D1', database='TG100')\n",
    "_ = db.read_from_db(query_D1, query_name='query_D1', database='TG200')"
   ]
  },
  {
   "cell_type": "markdown",
   "metadata": {},
   "source": [
    "As an example, we will now report the first 5 transactions with the updated properties:"
   ]
  },
  {
   "cell_type": "code",
   "execution_count": 47,
   "metadata": {},
   "outputs": [],
   "source": [
    "query_D1_read = '''\n",
    "    MATCH (:Customer)-[t:TRANSACTION]->(:Terminal)\n",
    "    RETURN\n",
    "        t.transaction_id, t.customer_id, t.terminal_id, t.tx_datetime,\n",
    "        t.period_of_day, t.product, t.security_feeling\n",
    "    LIMIT 5\n",
    "'''"
   ]
  },
  {
   "cell_type": "code",
   "execution_count": 48,
   "metadata": {},
   "outputs": [
    {
     "name": "stdout",
     "output_type": "stream",
     "text": [
      "The query returned 5 records in 0.099 s.\n"
     ]
    },
    {
     "data": {
      "text/html": [
       "<div>\n",
       "<style scoped>\n",
       "    .dataframe tbody tr th:only-of-type {\n",
       "        vertical-align: middle;\n",
       "    }\n",
       "\n",
       "    .dataframe tbody tr th {\n",
       "        vertical-align: top;\n",
       "    }\n",
       "\n",
       "    .dataframe thead th {\n",
       "        text-align: right;\n",
       "    }\n",
       "</style>\n",
       "<table border=\"1\" class=\"dataframe\">\n",
       "  <thead>\n",
       "    <tr style=\"text-align: right;\">\n",
       "      <th></th>\n",
       "      <th>t.transaction-id</th>\n",
       "      <th>t.customer-id</th>\n",
       "      <th>t.terminal-id</th>\n",
       "      <th>t.tx-datetime</th>\n",
       "      <th>t.period-of-day</th>\n",
       "      <th>t.product</th>\n",
       "      <th>t.security-feeling</th>\n",
       "    </tr>\n",
       "  </thead>\n",
       "  <tbody>\n",
       "    <tr>\n",
       "      <th>0</th>\n",
       "      <td>90003</td>\n",
       "      <td>399</td>\n",
       "      <td>0</td>\n",
       "      <td>2018-07-24T06:11:36.000000000</td>\n",
       "      <td>morning</td>\n",
       "      <td>clothing</td>\n",
       "      <td>3</td>\n",
       "    </tr>\n",
       "    <tr>\n",
       "      <th>1</th>\n",
       "      <td>287621</td>\n",
       "      <td>337</td>\n",
       "      <td>0</td>\n",
       "      <td>2019-03-31T18:59:28.000000000</td>\n",
       "      <td>evening</td>\n",
       "      <td>food</td>\n",
       "      <td>2</td>\n",
       "    </tr>\n",
       "    <tr>\n",
       "      <th>2</th>\n",
       "      <td>285340</td>\n",
       "      <td>337</td>\n",
       "      <td>0</td>\n",
       "      <td>2019-03-29T01:25:16.000000000</td>\n",
       "      <td>night</td>\n",
       "      <td>clothing</td>\n",
       "      <td>3</td>\n",
       "    </tr>\n",
       "    <tr>\n",
       "      <th>3</th>\n",
       "      <td>284817</td>\n",
       "      <td>337</td>\n",
       "      <td>0</td>\n",
       "      <td>2019-03-28T09:33:46.000000000</td>\n",
       "      <td>morning</td>\n",
       "      <td>food</td>\n",
       "      <td>2</td>\n",
       "    </tr>\n",
       "    <tr>\n",
       "      <th>4</th>\n",
       "      <td>281994</td>\n",
       "      <td>399</td>\n",
       "      <td>0</td>\n",
       "      <td>2019-03-24T16:22:42.000000000</td>\n",
       "      <td>afternoon</td>\n",
       "      <td>clothing</td>\n",
       "      <td>3</td>\n",
       "    </tr>\n",
       "  </tbody>\n",
       "</table>\n",
       "</div>"
      ],
      "text/latex": [
       "\\begin{center}\n",
       "\\begin{tabular}{lrrrlllr}\n",
       "\\toprule\n",
       " & t.transaction-id & t.customer-id & t.terminal-id & t.tx-datetime & t.period-of-day & t.product & t.security-feeling \\\\\n",
       "\\midrule\n",
       "0 & 90003 & 399 & 0 & 2018-07-24T06:11:36.000000000 & morning & clothing & 3 \\\\\n",
       "1 & 287621 & 337 & 0 & 2019-03-31T18:59:28.000000000 & evening & food & 2 \\\\\n",
       "2 & 285340 & 337 & 0 & 2019-03-29T01:25:16.000000000 & night & clothing & 3 \\\\\n",
       "3 & 284817 & 337 & 0 & 2019-03-28T09:33:46.000000000 & morning & food & 2 \\\\\n",
       "4 & 281994 & 399 & 0 & 2019-03-24T16:22:42.000000000 & afternoon & clothing & 3 \\\\\n",
       "\\bottomrule\n",
       "\\end{tabular}\n",
       "\n",
       "\\end{center}"
      ],
      "text/plain": [
       "   t.transaction-id  t.customer-id  t.terminal-id  \\\n",
       "0             90003            399              0   \n",
       "1            287621            337              0   \n",
       "2            285340            337              0   \n",
       "3            284817            337              0   \n",
       "4            281994            399              0   \n",
       "\n",
       "                   t.tx-datetime t.period-of-day t.product  t.security-feeling  \n",
       "0  2018-07-24T06:11:36.000000000         morning  clothing                   3  \n",
       "1  2019-03-31T18:59:28.000000000         evening      food                   2  \n",
       "2  2019-03-29T01:25:16.000000000           night  clothing                   3  \n",
       "3  2019-03-28T09:33:46.000000000         morning      food                   2  \n",
       "4  2019-03-24T16:22:42.000000000       afternoon  clothing                   3  "
      ]
     },
     "execution_count": 48,
     "metadata": {},
     "output_type": "execute_result"
    }
   ],
   "source": [
    "df_D1 = db.read_from_db(query_D1_read, query_name='query_D1', database='TG50', store_exec_time=False)\n",
    "df_D1.rename(columns=lambda x: x.replace('_', '-'))"
   ]
  },
  {
   "cell_type": "markdown",
   "metadata": {},
   "source": [
    "#### Query (D2)"
   ]
  },
  {
   "cell_type": "markdown",
   "metadata": {},
   "source": [
    "In a separate query, we attempt to add `BUYING_FRIEND` relationships. We find customers with +3 transactions on the same terminal, computing their average security feeling separately, and connect them if their feelings is similar.\n",
    "\n",
    "  ![buying_friends](latex/images/buying-friends-diagram.png)\n",
    "\n",
    "At first, the query below was provided the insert the additional `BUYING_FRIEND` relationships in the database."
   ]
  },
  {
   "cell_type": "code",
   "execution_count": 49,
   "metadata": {},
   "outputs": [],
   "source": [
    "query_D2 = '''\n",
    "    MATCH (c1:Customer)-[t1:TRANSACTION]->(tm1:Terminal)\n",
    "    WITH c1, tm1, COUNT(t1) AS n_transactions_c1, avg(t1.security_feeling) AS avg_security_t1\n",
    "    WHERE n_transactions_c1 > 3\n",
    "    \n",
    "    MATCH (c2:Customer)-[t2:TRANSACTION]->(tm2:Terminal)\n",
    "    WITH c2, tm2, COUNT(t2) AS n_transactions_c2, avg(t2.security_feeling) AS avg_security_t2, c1, tm1, avg_security_t1\n",
    "    WHERE n_transactions_c2 > 3 AND tm1=tm2 AND c1<>c2\n",
    "        AND ABS(avg_security_t2 - avg_security_t1) < 1\n",
    "    \n",
    "    MERGE (c1)-[:BUYING_FRIEND]->(c2)\n",
    "    \n",
    "    RETURN\n",
    "        c1.customer_id, c2.customer_id,\n",
    "        tm2.terminal_id AS terminal,\n",
    "        avg_security_t1, avg_security_t2\n",
    "'''"
   ]
  },
  {
   "cell_type": "markdown",
   "metadata": {},
   "source": [
    "However, it failed to provide a response, again due to the shortage of memory and not being optimized. Using `CALL apoc.periodic.iterate` along with an optimized version of the query, we will try to solve the problem as below"
   ]
  },
  {
   "cell_type": "code",
   "execution_count": 50,
   "metadata": {},
   "outputs": [],
   "source": [
    "query_D2 = '''\n",
    "    CALL apoc.periodic.iterate(\n",
    "        \"MATCH (c:Customer)-[t:TRANSACTION]->(tm:Terminal)\n",
    "        WITH c, tm, COUNT(t) AS n_transactions, avg(t.security_feeling) AS avg_security\n",
    "        WHERE n_transactions > 3\n",
    "        WITH collect({customer: c, terminal: tm, avg_security: avg_security}) AS pairs\n",
    "        UNWIND pairs AS p1\n",
    "        UNWIND pairs AS p2\n",
    "        WITH\n",
    "            p1.customer AS c1, p1.terminal AS tm1, p1.avg_security AS avg_sec1,\n",
    "            p2.customer AS c2, p2.terminal AS tm2, p2.avg_security AS avg_sec2\n",
    "        WHERE c1<>c2 AND tm1=tm2 AND ABS(avg_sec1 - avg_sec2) < 1\n",
    "        RETURN c1, c2\",\n",
    "        \"MERGE (c1)-[:BUYING_FRIEND]->(c2)\",\n",
    "      {batchSize:1000, iterateList:true}\n",
    "    );\n",
    "'''"
   ]
  },
  {
   "cell_type": "code",
   "execution_count": 51,
   "metadata": {},
   "outputs": [
    {
     "name": "stdout",
     "output_type": "stream",
     "text": [
      "The query returned 1 records in 3.292 s.\n",
      "The query returned 1 records in 13.13 s.\n",
      "The query returned 1 records in 189.534 s.\n"
     ]
    }
   ],
   "source": [
    "_ = db.read_from_db(query_D2, query_name='query_D2', database='TG50')\n",
    "_ = db.read_from_db(query_D2, query_name='query_D2', database='TG100')\n",
    "_ = db.read_from_db(query_D2, query_name='query_D2', database='TG200')"
   ]
  },
  {
   "cell_type": "markdown",
   "metadata": {},
   "source": [
    "To confirm that the relationships have been created, we will select a few of them as below:"
   ]
  },
  {
   "cell_type": "code",
   "execution_count": 52,
   "metadata": {},
   "outputs": [],
   "source": [
    "query_D2_read = '''\n",
    "    MATCH (c1:Customer)-[bf:BUYING_FRIEND]->(c2:Customer)\n",
    "    RETURN c1.customer_id, type(bf) AS relationship_type, c2.customer_id\n",
    "    LIMIT 5\n",
    "'''"
   ]
  },
  {
   "cell_type": "code",
   "execution_count": 53,
   "metadata": {},
   "outputs": [
    {
     "name": "stdout",
     "output_type": "stream",
     "text": [
      "The query returned 5 records in 0.094 s.\n"
     ]
    },
    {
     "data": {
      "text/html": [
       "<div>\n",
       "<style scoped>\n",
       "    .dataframe tbody tr th:only-of-type {\n",
       "        vertical-align: middle;\n",
       "    }\n",
       "\n",
       "    .dataframe tbody tr th {\n",
       "        vertical-align: top;\n",
       "    }\n",
       "\n",
       "    .dataframe thead th {\n",
       "        text-align: right;\n",
       "    }\n",
       "</style>\n",
       "<table border=\"1\" class=\"dataframe\">\n",
       "  <thead>\n",
       "    <tr style=\"text-align: right;\">\n",
       "      <th></th>\n",
       "      <th>c1.customer-id</th>\n",
       "      <th>relationship-type</th>\n",
       "      <th>c2.customer-id</th>\n",
       "    </tr>\n",
       "  </thead>\n",
       "  <tbody>\n",
       "    <tr>\n",
       "      <th>0</th>\n",
       "      <td>34</td>\n",
       "      <td>BUYING-FRIEND</td>\n",
       "      <td>0</td>\n",
       "    </tr>\n",
       "    <tr>\n",
       "      <th>1</th>\n",
       "      <td>385</td>\n",
       "      <td>BUYING-FRIEND</td>\n",
       "      <td>0</td>\n",
       "    </tr>\n",
       "    <tr>\n",
       "      <th>2</th>\n",
       "      <td>341</td>\n",
       "      <td>BUYING-FRIEND</td>\n",
       "      <td>0</td>\n",
       "    </tr>\n",
       "    <tr>\n",
       "      <th>3</th>\n",
       "      <td>134</td>\n",
       "      <td>BUYING-FRIEND</td>\n",
       "      <td>0</td>\n",
       "    </tr>\n",
       "    <tr>\n",
       "      <th>4</th>\n",
       "      <td>154</td>\n",
       "      <td>BUYING-FRIEND</td>\n",
       "      <td>0</td>\n",
       "    </tr>\n",
       "  </tbody>\n",
       "</table>\n",
       "</div>"
      ],
      "text/latex": [
       "\\begin{center}\n",
       "\\begin{tabular}{lrlr}\n",
       "\\toprule\n",
       " & c1.customer-id & relationship-type & c2.customer-id \\\\\n",
       "\\midrule\n",
       "0 & 34 & BUYING-FRIEND & 0 \\\\\n",
       "1 & 385 & BUYING-FRIEND & 0 \\\\\n",
       "2 & 341 & BUYING-FRIEND & 0 \\\\\n",
       "3 & 134 & BUYING-FRIEND & 0 \\\\\n",
       "4 & 154 & BUYING-FRIEND & 0 \\\\\n",
       "\\bottomrule\n",
       "\\end{tabular}\n",
       "\n",
       "\\end{center}"
      ],
      "text/plain": [
       "   c1.customer-id relationship-type  c2.customer-id\n",
       "0              34     BUYING-FRIEND               0\n",
       "1             385     BUYING-FRIEND               0\n",
       "2             341     BUYING-FRIEND               0\n",
       "3             134     BUYING-FRIEND               0\n",
       "4             154     BUYING-FRIEND               0"
      ]
     },
     "execution_count": 53,
     "metadata": {},
     "output_type": "execute_result"
    }
   ],
   "source": [
    "df_D2 = db.read_from_db(query_D2_read, query_name='query_D2_read', database='TG50', store_exec_time=False)\n",
    "df_D2['relationship_type'] = df_D2['relationship_type'].str.replace('_', '-')\n",
    "df_D2.rename(columns=lambda x: x.replace('_', '-'))"
   ]
  },
  {
   "cell_type": "markdown",
   "metadata": {},
   "source": [
    "![buying_friends](latex/images/buying-friends.png)"
   ]
  },
  {
   "cell_type": "markdown",
   "metadata": {},
   "source": [
    "### Query (E)"
   ]
  },
  {
   "cell_type": "markdown",
   "metadata": {},
   "source": [
    "**Query:** For each period of the day identify the number of transactions that occurred in that period, and the average number of fraudulent transactions.\n",
    "\n",
    "**Assumptions:** In order to compute the average number of fraudulent transactions, we use the `tx_fraud` property as a reference."
   ]
  },
  {
   "cell_type": "code",
   "execution_count": 54,
   "metadata": {},
   "outputs": [],
   "source": [
    "query_E = '''\n",
    "    MATCH (:Customer)-[t:TRANSACTION]-(:Terminal)\n",
    "    RETURN\n",
    "        t.period_of_day AS period_of_day,\n",
    "        count(t) AS transaction_count,\n",
    "        round(avg(t.tx_fraud), 3) AS fraud_percentage\n",
    "'''"
   ]
  },
  {
   "cell_type": "code",
   "execution_count": 55,
   "metadata": {},
   "outputs": [
    {
     "name": "stdout",
     "output_type": "stream",
     "text": [
      "The query returned 4 records in 0.824 s.\n",
      "The query returned 4 records in 0.897 s.\n",
      "The query returned 4 records in 1.655 s.\n"
     ]
    }
   ],
   "source": [
    "df_E_50 = db.read_from_db(query_E, query_name='query_E', database='TG50')\n",
    "df_E_100 = db.read_from_db(query_E, query_name='query_E', database='TG100')\n",
    "df_E_200 = db.read_from_db(query_E, query_name='query_E', database='TG200')"
   ]
  },
  {
   "cell_type": "markdown",
   "metadata": {},
   "source": [
    "The table below demonstrates the fraud percentage for each period of the day in the `TG200` database."
   ]
  },
  {
   "cell_type": "code",
   "execution_count": 56,
   "metadata": {},
   "outputs": [
    {
     "data": {
      "text/html": [
       "<div>\n",
       "<style scoped>\n",
       "    .dataframe tbody tr th:only-of-type {\n",
       "        vertical-align: middle;\n",
       "    }\n",
       "\n",
       "    .dataframe tbody tr th {\n",
       "        vertical-align: top;\n",
       "    }\n",
       "\n",
       "    .dataframe thead th {\n",
       "        text-align: right;\n",
       "    }\n",
       "</style>\n",
       "<table border=\"1\" class=\"dataframe\">\n",
       "  <thead>\n",
       "    <tr style=\"text-align: right;\">\n",
       "      <th></th>\n",
       "      <th>period-of-day</th>\n",
       "      <th>transaction-count</th>\n",
       "      <th>fraud-percentage</th>\n",
       "    </tr>\n",
       "  </thead>\n",
       "  <tbody>\n",
       "    <tr>\n",
       "      <th>0</th>\n",
       "      <td>evening</td>\n",
       "      <td>145601</td>\n",
       "      <td>0.042</td>\n",
       "    </tr>\n",
       "    <tr>\n",
       "      <th>1</th>\n",
       "      <td>afternoon</td>\n",
       "      <td>420391</td>\n",
       "      <td>0.041</td>\n",
       "    </tr>\n",
       "    <tr>\n",
       "      <th>2</th>\n",
       "      <td>morning</td>\n",
       "      <td>421718</td>\n",
       "      <td>0.041</td>\n",
       "    </tr>\n",
       "    <tr>\n",
       "      <th>3</th>\n",
       "      <td>night</td>\n",
       "      <td>145280</td>\n",
       "      <td>0.041</td>\n",
       "    </tr>\n",
       "  </tbody>\n",
       "</table>\n",
       "</div>"
      ],
      "text/latex": [
       "\\begin{center}\n",
       "\\begin{tabular}{llrr}\n",
       "\\toprule\n",
       " & period-of-day & transaction-count & fraud-percentage \\\\\n",
       "\\midrule\n",
       "0 & evening & 145601 & 0.042000 \\\\\n",
       "1 & afternoon & 420391 & 0.041000 \\\\\n",
       "2 & morning & 421718 & 0.041000 \\\\\n",
       "3 & night & 145280 & 0.041000 \\\\\n",
       "\\bottomrule\n",
       "\\end{tabular}\n",
       "\n",
       "\\end{center}"
      ],
      "text/plain": [
       "  period-of-day  transaction-count  fraud-percentage\n",
       "0       evening             145601             0.042\n",
       "1     afternoon             420391             0.041\n",
       "2       morning             421718             0.041\n",
       "3         night             145280             0.041"
      ]
     },
     "execution_count": 56,
     "metadata": {},
     "output_type": "execute_result"
    }
   ],
   "source": [
    "df_E_200.rename(columns=lambda x: x.replace('_', '-'))"
   ]
  },
  {
   "cell_type": "markdown",
   "metadata": {},
   "source": [
    "## Execution Times"
   ]
  },
  {
   "cell_type": "markdown",
   "metadata": {},
   "source": [
    "The execution times taken to perform each of the queries mentioned above on all the graph databases are summarized below (in seconds):"
   ]
  },
  {
   "cell_type": "code",
   "execution_count": 57,
   "metadata": {},
   "outputs": [
    {
     "data": {
      "text/html": [
       "<div>\n",
       "<style scoped>\n",
       "    .dataframe tbody tr th:only-of-type {\n",
       "        vertical-align: middle;\n",
       "    }\n",
       "\n",
       "    .dataframe tbody tr th {\n",
       "        vertical-align: top;\n",
       "    }\n",
       "\n",
       "    .dataframe thead th {\n",
       "        text-align: right;\n",
       "    }\n",
       "</style>\n",
       "<table border=\"1\" class=\"dataframe\">\n",
       "  <thead>\n",
       "    <tr style=\"text-align: right;\">\n",
       "      <th></th>\n",
       "      <th>query-A</th>\n",
       "      <th>query-B</th>\n",
       "      <th>query-C</th>\n",
       "      <th>query-D1</th>\n",
       "      <th>query-D2</th>\n",
       "      <th>query-E</th>\n",
       "    </tr>\n",
       "  </thead>\n",
       "  <tbody>\n",
       "    <tr>\n",
       "      <th>TG50</th>\n",
       "      <td>4.240</td>\n",
       "      <td>1.211</td>\n",
       "      <td>0.957</td>\n",
       "      <td>8.120</td>\n",
       "      <td>3.292</td>\n",
       "      <td>0.824</td>\n",
       "    </tr>\n",
       "    <tr>\n",
       "      <th>TG100</th>\n",
       "      <td>2.639</td>\n",
       "      <td>1.688</td>\n",
       "      <td>1.016</td>\n",
       "      <td>10.959</td>\n",
       "      <td>13.130</td>\n",
       "      <td>0.897</td>\n",
       "    </tr>\n",
       "    <tr>\n",
       "      <th>TG200</th>\n",
       "      <td>3.098</td>\n",
       "      <td>2.821</td>\n",
       "      <td>1.768</td>\n",
       "      <td>21.910</td>\n",
       "      <td>189.534</td>\n",
       "      <td>1.655</td>\n",
       "    </tr>\n",
       "  </tbody>\n",
       "</table>\n",
       "</div>"
      ],
      "text/latex": [
       "\\begin{center}\n",
       "\\begin{tabular}{lrrrrrr}\n",
       "\\toprule\n",
       " & query-A & query-B & query-C & query-D1 & query-D2 & query-E \\\\\n",
       "\\midrule\n",
       "TG50 & 4.240000 & 1.211000 & 0.957000 & 8.120000 & 3.292000 & 0.824000 \\\\\n",
       "TG100 & 2.639000 & 1.688000 & 1.016000 & 10.959000 & 13.130000 & 0.897000 \\\\\n",
       "TG200 & 3.098000 & 2.821000 & 1.768000 & 21.910000 & 189.534000 & 1.655000 \\\\\n",
       "\\bottomrule\n",
       "\\end{tabular}\n",
       "\n",
       "\\end{center}"
      ],
      "text/plain": [
       "       query-A  query-B  query-C  query-D1  query-D2  query-E\n",
       "TG50     4.240    1.211    0.957     8.120     3.292    0.824\n",
       "TG100    2.639    1.688    1.016    10.959    13.130    0.897\n",
       "TG200    3.098    2.821    1.768    21.910   189.534    1.655"
      ]
     },
     "execution_count": 57,
     "metadata": {},
     "output_type": "execute_result"
    }
   ],
   "source": [
    "df_exec_times = pd.DataFrame(db.read_execution_times)\n",
    "df_exec_times.rename(columns=lambda x: x.replace('_', '-'))"
   ]
  },
  {
   "cell_type": "code",
   "execution_count": 58,
   "metadata": {},
   "outputs": [
    {
     "data": {
      "image/png": "[encoded data removed]",
      "text/plain": [
       "<Figure size 800x400 with 1 Axes>"
      ]
     },
     "metadata": {},
     "output_type": "display_data"
    }
   ],
   "source": [
    "fig, ax = plt.subplots(figsize=(8, 4))\n",
    "sns.lineplot(data=df_exec_times, ax=ax, palette='Set2')\n",
    "ax.set_title('Execution Times for Different Queries in each Database', fontsize=14)\n",
    "_ = ax.set(xlabel='Graph Database Name', ylabel='Time (s)')"
   ]
  }
 ],
 "metadata": {
  "colab": {
   "collapsed_sections": [
    "pkALJkvd71Dk",
    "5UZ_pWl_91iC",
    "QUkbYpBr-nZJ",
    "9VFIvADFlYFE",
    "cly2S6HSdkZH",
    "iL_1WoWCsaRd"
   ],
   "provenance": []
  },
  "kernelspec": {
   "display_name": "Python 3 (ipykernel)",
   "language": "python",
   "name": "python3"
  },
  "language_info": {
   "codemirror_mode": {
    "name": "ipython",
    "version": 3
   },
   "file_extension": ".py",
   "mimetype": "text/x-python",
   "name": "python",
   "nbconvert_exporter": "python",
   "pygments_lexer": "ipython3",
   "version": "3.9.13"
  },
  "widgets": {
   "application/vnd.jupyter.widget-state+json": {
    "0462260db2ef4ddfa72439b9be7232f3": {
     "model_module": "@jupyter-widgets/controls",
     "model_module_version": "1.5.0",
     "model_name": "HTMLModel",
     "state": {
      "_dom_classes": [],
      "_model_module": "@jupyter-widgets/controls",
      "_model_module_version": "1.5.0",
      "_model_name": "HTMLModel",
      "_view_count": null,
      "_view_module": "@jupyter-widgets/controls",
      "_view_module_version": "1.5.0",
      "_view_name": "HTMLView",
      "description": "",
      "description_tooltip": null,
      "layout": "IPY_MODEL_57389c49c1cc427ba20f8e3825740b5b",
      "placeholder": "​",
      "style": "IPY_MODEL_9cec965eba8547da900c07cdef414aa6",
      "value": " 10/10 [00:01&lt;00:00,  8.74it/s]"
     }
    },
    "09688b89a5f7441988ac4139fd0691c1": {
     "model_module": "@jupyter-widgets/controls",
     "model_module_version": "1.5.0",
     "model_name": "ProgressStyleModel",
     "state": {
      "_model_module": "@jupyter-widgets/controls",
      "_model_module_version": "1.5.0",
      "_model_name": "ProgressStyleModel",
      "_view_count": null,
      "_view_module": "@jupyter-widgets/base",
      "_view_module_version": "1.2.0",
      "_view_name": "StyleView",
      "bar_color": null,
      "description_width": ""
     }
    },
    "0bb5257a528b43c7a0853caf7adf88f9": {
     "model_module": "@jupyter-widgets/controls",
     "model_module_version": "1.5.0",
     "model_name": "HTMLModel",
     "state": {
      "_dom_classes": [],
      "_model_module": "@jupyter-widgets/controls",
      "_model_module_version": "1.5.0",
      "_model_name": "HTMLModel",
      "_view_count": null,
      "_view_module": "@jupyter-widgets/controls",
      "_view_module_version": "1.5.0",
      "_view_name": "HTMLView",
      "description": "",
      "description_tooltip": null,
      "layout": "IPY_MODEL_2169e2cc79da4139b0a741d29c31e7de",
      "placeholder": "​",
      "style": "IPY_MODEL_ae77775d82bc45c39ca4fa875ffc431e",
      "value": "Inserting terminals data (batches of size 200): 100%"
     }
    },
    "1dbf63c5457e4fadad34f5476f00bf7c": {
     "model_module": "@jupyter-widgets/controls",
     "model_module_version": "1.5.0",
     "model_name": "ProgressStyleModel",
     "state": {
      "_model_module": "@jupyter-widgets/controls",
      "_model_module_version": "1.5.0",
      "_model_name": "ProgressStyleModel",
      "_view_count": null,
      "_view_module": "@jupyter-widgets/base",
      "_view_module_version": "1.2.0",
      "_view_name": "StyleView",
      "bar_color": null,
      "description_width": ""
     }
    },
    "2169e2cc79da4139b0a741d29c31e7de": {
     "model_module": "@jupyter-widgets/base",
     "model_module_version": "1.2.0",
     "model_name": "LayoutModel",
     "state": {
      "_model_module": "@jupyter-widgets/base",
      "_model_module_version": "1.2.0",
      "_model_name": "LayoutModel",
      "_view_count": null,
      "_view_module": "@jupyter-widgets/base",
      "_view_module_version": "1.2.0",
      "_view_name": "LayoutView",
      "align_content": null,
      "align_items": null,
      "align_self": null,
      "border": null,
      "bottom": null,
      "display": null,
      "flex": null,
      "flex_flow": null,
      "grid_area": null,
      "grid_auto_columns": null,
      "grid_auto_flow": null,
      "grid_auto_rows": null,
      "grid_column": null,
      "grid_gap": null,
      "grid_row": null,
      "grid_template_areas": null,
      "grid_template_columns": null,
      "grid_template_rows": null,
      "height": null,
      "justify_content": null,
      "justify_items": null,
      "left": null,
      "margin": null,
      "max_height": null,
      "max_width": null,
      "min_height": null,
      "min_width": null,
      "object_fit": null,
      "object_position": null,
      "order": null,
      "overflow": null,
      "overflow_x": null,
      "overflow_y": null,
      "padding": null,
      "right": null,
      "top": null,
      "visibility": null,
      "width": null
     }
    },
    "29bccb4b26ec495c8362b4111c6b96d1": {
     "model_module": "@jupyter-widgets/controls",
     "model_module_version": "1.5.0",
     "model_name": "FloatProgressModel",
     "state": {
      "_dom_classes": [],
      "_model_module": "@jupyter-widgets/controls",
      "_model_module_version": "1.5.0",
      "_model_name": "FloatProgressModel",
      "_view_count": null,
      "_view_module": "@jupyter-widgets/controls",
      "_view_module_version": "1.5.0",
      "_view_name": "ProgressView",
      "bar_style": "success",
      "description": "",
      "description_tooltip": null,
      "layout": "IPY_MODEL_d3f0dcfeaebc490aa548599ce4116e73",
      "max": 10,
      "min": 0,
      "orientation": "horizontal",
      "style": "IPY_MODEL_1dbf63c5457e4fadad34f5476f00bf7c",
      "value": 10
     }
    },
    "365377a188114657aa24bf7a0a5a1d4f": {
     "model_module": "@jupyter-widgets/base",
     "model_module_version": "1.2.0",
     "model_name": "LayoutModel",
     "state": {
      "_model_module": "@jupyter-widgets/base",
      "_model_module_version": "1.2.0",
      "_model_name": "LayoutModel",
      "_view_count": null,
      "_view_module": "@jupyter-widgets/base",
      "_view_module_version": "1.2.0",
      "_view_name": "LayoutView",
      "align_content": null,
      "align_items": null,
      "align_self": null,
      "border": null,
      "bottom": null,
      "display": null,
      "flex": null,
      "flex_flow": null,
      "grid_area": null,
      "grid_auto_columns": null,
      "grid_auto_flow": null,
      "grid_auto_rows": null,
      "grid_column": null,
      "grid_gap": null,
      "grid_row": null,
      "grid_template_areas": null,
      "grid_template_columns": null,
      "grid_template_rows": null,
      "height": null,
      "justify_content": null,
      "justify_items": null,
      "left": null,
      "margin": null,
      "max_height": null,
      "max_width": null,
      "min_height": null,
      "min_width": null,
      "object_fit": null,
      "object_position": null,
      "order": null,
      "overflow": null,
      "overflow_x": null,
      "overflow_y": null,
      "padding": null,
      "right": null,
      "top": null,
      "visibility": null,
      "width": null
     }
    },
    "4173cb1b62ff4d6d882bb919be3b4fe6": {
     "model_module": "@jupyter-widgets/base",
     "model_module_version": "1.2.0",
     "model_name": "LayoutModel",
     "state": {
      "_model_module": "@jupyter-widgets/base",
      "_model_module_version": "1.2.0",
      "_model_name": "LayoutModel",
      "_view_count": null,
      "_view_module": "@jupyter-widgets/base",
      "_view_module_version": "1.2.0",
      "_view_name": "LayoutView",
      "align_content": null,
      "align_items": null,
      "align_self": null,
      "border": null,
      "bottom": null,
      "display": null,
      "flex": null,
      "flex_flow": null,
      "grid_area": null,
      "grid_auto_columns": null,
      "grid_auto_flow": null,
      "grid_auto_rows": null,
      "grid_column": null,
      "grid_gap": null,
      "grid_row": null,
      "grid_template_areas": null,
      "grid_template_columns": null,
      "grid_template_rows": null,
      "height": null,
      "justify_content": null,
      "justify_items": null,
      "left": null,
      "margin": null,
      "max_height": null,
      "max_width": null,
      "min_height": null,
      "min_width": null,
      "object_fit": null,
      "object_position": null,
      "order": null,
      "overflow": null,
      "overflow_x": null,
      "overflow_y": null,
      "padding": null,
      "right": null,
      "top": null,
      "visibility": null,
      "width": null
     }
    },
    "509899dae161407ab2f39bf0fdec6920": {
     "model_module": "@jupyter-widgets/base",
     "model_module_version": "1.2.0",
     "model_name": "LayoutModel",
     "state": {
      "_model_module": "@jupyter-widgets/base",
      "_model_module_version": "1.2.0",
      "_model_name": "LayoutModel",
      "_view_count": null,
      "_view_module": "@jupyter-widgets/base",
      "_view_module_version": "1.2.0",
      "_view_name": "LayoutView",
      "align_content": null,
      "align_items": null,
      "align_self": null,
      "border": null,
      "bottom": null,
      "display": null,
      "flex": null,
      "flex_flow": null,
      "grid_area": null,
      "grid_auto_columns": null,
      "grid_auto_flow": null,
      "grid_auto_rows": null,
      "grid_column": null,
      "grid_gap": null,
      "grid_row": null,
      "grid_template_areas": null,
      "grid_template_columns": null,
      "grid_template_rows": null,
      "height": null,
      "justify_content": null,
      "justify_items": null,
      "left": null,
      "margin": null,
      "max_height": null,
      "max_width": null,
      "min_height": null,
      "min_width": null,
      "object_fit": null,
      "object_position": null,
      "order": null,
      "overflow": null,
      "overflow_x": null,
      "overflow_y": null,
      "padding": null,
      "right": null,
      "top": null,
      "visibility": null,
      "width": null
     }
    },
    "57389c49c1cc427ba20f8e3825740b5b": {
     "model_module": "@jupyter-widgets/base",
     "model_module_version": "1.2.0",
     "model_name": "LayoutModel",
     "state": {
      "_model_module": "@jupyter-widgets/base",
      "_model_module_version": "1.2.0",
      "_model_name": "LayoutModel",
      "_view_count": null,
      "_view_module": "@jupyter-widgets/base",
      "_view_module_version": "1.2.0",
      "_view_name": "LayoutView",
      "align_content": null,
      "align_items": null,
      "align_self": null,
      "border": null,
      "bottom": null,
      "display": null,
      "flex": null,
      "flex_flow": null,
      "grid_area": null,
      "grid_auto_columns": null,
      "grid_auto_flow": null,
      "grid_auto_rows": null,
      "grid_column": null,
      "grid_gap": null,
      "grid_row": null,
      "grid_template_areas": null,
      "grid_template_columns": null,
      "grid_template_rows": null,
      "height": null,
      "justify_content": null,
      "justify_items": null,
      "left": null,
      "margin": null,
      "max_height": null,
      "max_width": null,
      "min_height": null,
      "min_width": null,
      "object_fit": null,
      "object_position": null,
      "order": null,
      "overflow": null,
      "overflow_x": null,
      "overflow_y": null,
      "padding": null,
      "right": null,
      "top": null,
      "visibility": null,
      "width": null
     }
    },
    "58635d61aac940d99c092dd25f3a8fff": {
     "model_module": "@jupyter-widgets/controls",
     "model_module_version": "1.5.0",
     "model_name": "HTMLModel",
     "state": {
      "_dom_classes": [],
      "_model_module": "@jupyter-widgets/controls",
      "_model_module_version": "1.5.0",
      "_model_name": "HTMLModel",
      "_view_count": null,
      "_view_module": "@jupyter-widgets/controls",
      "_view_module_version": "1.5.0",
      "_view_name": "HTMLView",
      "description": "",
      "description_tooltip": null,
      "layout": "IPY_MODEL_4173cb1b62ff4d6d882bb919be3b4fe6",
      "placeholder": "​",
      "style": "IPY_MODEL_c34b3cc7c1554ec7b337d1b44a50b23e",
      "value": " 1709/1709 [12:00&lt;00:00,  2.26it/s]"
     }
    },
    "6038333e1ce64b0ca074159f5c6c7025": {
     "model_module": "@jupyter-widgets/controls",
     "model_module_version": "1.5.0",
     "model_name": "HTMLModel",
     "state": {
      "_dom_classes": [],
      "_model_module": "@jupyter-widgets/controls",
      "_model_module_version": "1.5.0",
      "_model_name": "HTMLModel",
      "_view_count": null,
      "_view_module": "@jupyter-widgets/controls",
      "_view_module_version": "1.5.0",
      "_view_name": "HTMLView",
      "description": "",
      "description_tooltip": null,
      "layout": "IPY_MODEL_509899dae161407ab2f39bf0fdec6920",
      "placeholder": "​",
      "style": "IPY_MODEL_ace27a0e7b1c466db30d6ae8b8d5d2f0",
      "value": "Inserting transactions data (batches of size 200): 100%"
     }
    },
    "619c4a3140af4efdb424359fc8150688": {
     "model_module": "@jupyter-widgets/controls",
     "model_module_version": "1.5.0",
     "model_name": "DescriptionStyleModel",
     "state": {
      "_model_module": "@jupyter-widgets/controls",
      "_model_module_version": "1.5.0",
      "_model_name": "DescriptionStyleModel",
      "_view_count": null,
      "_view_module": "@jupyter-widgets/base",
      "_view_module_version": "1.2.0",
      "_view_name": "StyleView",
      "description_width": ""
     }
    },
    "6b311740f4264beeb3b82f783375261e": {
     "model_module": "@jupyter-widgets/controls",
     "model_module_version": "1.5.0",
     "model_name": "HTMLModel",
     "state": {
      "_dom_classes": [],
      "_model_module": "@jupyter-widgets/controls",
      "_model_module_version": "1.5.0",
      "_model_name": "HTMLModel",
      "_view_count": null,
      "_view_module": "@jupyter-widgets/controls",
      "_view_module_version": "1.5.0",
      "_view_name": "HTMLView",
      "description": "",
      "description_tooltip": null,
      "layout": "IPY_MODEL_8ecbcb1e9cdd405aa279a3e1103d9b17",
      "placeholder": "​",
      "style": "IPY_MODEL_619c4a3140af4efdb424359fc8150688",
      "value": " 5/5 [00:02&lt;00:00,  2.81it/s]"
     }
    },
    "6fa5374b9a8b43cf86f5c7b189fa1560": {
     "model_module": "@jupyter-widgets/base",
     "model_module_version": "1.2.0",
     "model_name": "LayoutModel",
     "state": {
      "_model_module": "@jupyter-widgets/base",
      "_model_module_version": "1.2.0",
      "_model_name": "LayoutModel",
      "_view_count": null,
      "_view_module": "@jupyter-widgets/base",
      "_view_module_version": "1.2.0",
      "_view_name": "LayoutView",
      "align_content": null,
      "align_items": null,
      "align_self": null,
      "border": null,
      "bottom": null,
      "display": null,
      "flex": null,
      "flex_flow": null,
      "grid_area": null,
      "grid_auto_columns": null,
      "grid_auto_flow": null,
      "grid_auto_rows": null,
      "grid_column": null,
      "grid_gap": null,
      "grid_row": null,
      "grid_template_areas": null,
      "grid_template_columns": null,
      "grid_template_rows": null,
      "height": null,
      "justify_content": null,
      "justify_items": null,
      "left": null,
      "margin": null,
      "max_height": null,
      "max_width": null,
      "min_height": null,
      "min_width": null,
      "object_fit": null,
      "object_position": null,
      "order": null,
      "overflow": null,
      "overflow_x": null,
      "overflow_y": null,
      "padding": null,
      "right": null,
      "top": null,
      "visibility": null,
      "width": null
     }
    },
    "86c40618860c4272b6dd6474dc0ca0cd": {
     "model_module": "@jupyter-widgets/controls",
     "model_module_version": "1.5.0",
     "model_name": "DescriptionStyleModel",
     "state": {
      "_model_module": "@jupyter-widgets/controls",
      "_model_module_version": "1.5.0",
      "_model_name": "DescriptionStyleModel",
      "_view_count": null,
      "_view_module": "@jupyter-widgets/base",
      "_view_module_version": "1.2.0",
      "_view_name": "StyleView",
      "description_width": ""
     }
    },
    "8ecbcb1e9cdd405aa279a3e1103d9b17": {
     "model_module": "@jupyter-widgets/base",
     "model_module_version": "1.2.0",
     "model_name": "LayoutModel",
     "state": {
      "_model_module": "@jupyter-widgets/base",
      "_model_module_version": "1.2.0",
      "_model_name": "LayoutModel",
      "_view_count": null,
      "_view_module": "@jupyter-widgets/base",
      "_view_module_version": "1.2.0",
      "_view_name": "LayoutView",
      "align_content": null,
      "align_items": null,
      "align_self": null,
      "border": null,
      "bottom": null,
      "display": null,
      "flex": null,
      "flex_flow": null,
      "grid_area": null,
      "grid_auto_columns": null,
      "grid_auto_flow": null,
      "grid_auto_rows": null,
      "grid_column": null,
      "grid_gap": null,
      "grid_row": null,
      "grid_template_areas": null,
      "grid_template_columns": null,
      "grid_template_rows": null,
      "height": null,
      "justify_content": null,
      "justify_items": null,
      "left": null,
      "margin": null,
      "max_height": null,
      "max_width": null,
      "min_height": null,
      "min_width": null,
      "object_fit": null,
      "object_position": null,
      "order": null,
      "overflow": null,
      "overflow_x": null,
      "overflow_y": null,
      "padding": null,
      "right": null,
      "top": null,
      "visibility": null,
      "width": null
     }
    },
    "91bf6494f5574108903b49d66a347844": {
     "model_module": "@jupyter-widgets/controls",
     "model_module_version": "1.5.0",
     "model_name": "FloatProgressModel",
     "state": {
      "_dom_classes": [],
      "_model_module": "@jupyter-widgets/controls",
      "_model_module_version": "1.5.0",
      "_model_name": "FloatProgressModel",
      "_view_count": null,
      "_view_module": "@jupyter-widgets/controls",
      "_view_module_version": "1.5.0",
      "_view_name": "ProgressView",
      "bar_style": "success",
      "description": "",
      "description_tooltip": null,
      "layout": "IPY_MODEL_959cf8249579427e95fbf86a23189e63",
      "max": 5,
      "min": 0,
      "orientation": "horizontal",
      "style": "IPY_MODEL_bb5a60f88e4942d0bd216938327ebeb8",
      "value": 5
     }
    },
    "94e8d5f4f6f04dbf898ff6d23ba51b4c": {
     "model_module": "@jupyter-widgets/base",
     "model_module_version": "1.2.0",
     "model_name": "LayoutModel",
     "state": {
      "_model_module": "@jupyter-widgets/base",
      "_model_module_version": "1.2.0",
      "_model_name": "LayoutModel",
      "_view_count": null,
      "_view_module": "@jupyter-widgets/base",
      "_view_module_version": "1.2.0",
      "_view_name": "LayoutView",
      "align_content": null,
      "align_items": null,
      "align_self": null,
      "border": null,
      "bottom": null,
      "display": null,
      "flex": null,
      "flex_flow": null,
      "grid_area": null,
      "grid_auto_columns": null,
      "grid_auto_flow": null,
      "grid_auto_rows": null,
      "grid_column": null,
      "grid_gap": null,
      "grid_row": null,
      "grid_template_areas": null,
      "grid_template_columns": null,
      "grid_template_rows": null,
      "height": null,
      "justify_content": null,
      "justify_items": null,
      "left": null,
      "margin": null,
      "max_height": null,
      "max_width": null,
      "min_height": null,
      "min_width": null,
      "object_fit": null,
      "object_position": null,
      "order": null,
      "overflow": null,
      "overflow_x": null,
      "overflow_y": null,
      "padding": null,
      "right": null,
      "top": null,
      "visibility": null,
      "width": null
     }
    },
    "959cf8249579427e95fbf86a23189e63": {
     "model_module": "@jupyter-widgets/base",
     "model_module_version": "1.2.0",
     "model_name": "LayoutModel",
     "state": {
      "_model_module": "@jupyter-widgets/base",
      "_model_module_version": "1.2.0",
      "_model_name": "LayoutModel",
      "_view_count": null,
      "_view_module": "@jupyter-widgets/base",
      "_view_module_version": "1.2.0",
      "_view_name": "LayoutView",
      "align_content": null,
      "align_items": null,
      "align_self": null,
      "border": null,
      "bottom": null,
      "display": null,
      "flex": null,
      "flex_flow": null,
      "grid_area": null,
      "grid_auto_columns": null,
      "grid_auto_flow": null,
      "grid_auto_rows": null,
      "grid_column": null,
      "grid_gap": null,
      "grid_row": null,
      "grid_template_areas": null,
      "grid_template_columns": null,
      "grid_template_rows": null,
      "height": null,
      "justify_content": null,
      "justify_items": null,
      "left": null,
      "margin": null,
      "max_height": null,
      "max_width": null,
      "min_height": null,
      "min_width": null,
      "object_fit": null,
      "object_position": null,
      "order": null,
      "overflow": null,
      "overflow_x": null,
      "overflow_y": null,
      "padding": null,
      "right": null,
      "top": null,
      "visibility": null,
      "width": null
     }
    },
    "9870a2fcbf0b430a8f6ed9ce38c0901d": {
     "model_module": "@jupyter-widgets/controls",
     "model_module_version": "1.5.0",
     "model_name": "HBoxModel",
     "state": {
      "_dom_classes": [],
      "_model_module": "@jupyter-widgets/controls",
      "_model_module_version": "1.5.0",
      "_model_name": "HBoxModel",
      "_view_count": null,
      "_view_module": "@jupyter-widgets/controls",
      "_view_module_version": "1.5.0",
      "_view_name": "HBoxView",
      "box_style": "",
      "children": [
       "IPY_MODEL_0bb5257a528b43c7a0853caf7adf88f9",
       "IPY_MODEL_29bccb4b26ec495c8362b4111c6b96d1",
       "IPY_MODEL_0462260db2ef4ddfa72439b9be7232f3"
      ],
      "layout": "IPY_MODEL_6fa5374b9a8b43cf86f5c7b189fa1560"
     }
    },
    "9cec965eba8547da900c07cdef414aa6": {
     "model_module": "@jupyter-widgets/controls",
     "model_module_version": "1.5.0",
     "model_name": "DescriptionStyleModel",
     "state": {
      "_model_module": "@jupyter-widgets/controls",
      "_model_module_version": "1.5.0",
      "_model_name": "DescriptionStyleModel",
      "_view_count": null,
      "_view_module": "@jupyter-widgets/base",
      "_view_module_version": "1.2.0",
      "_view_name": "StyleView",
      "description_width": ""
     }
    },
    "a4ad95d1301d4820814f37740a3f587a": {
     "model_module": "@jupyter-widgets/controls",
     "model_module_version": "1.5.0",
     "model_name": "FloatProgressModel",
     "state": {
      "_dom_classes": [],
      "_model_module": "@jupyter-widgets/controls",
      "_model_module_version": "1.5.0",
      "_model_name": "FloatProgressModel",
      "_view_count": null,
      "_view_module": "@jupyter-widgets/controls",
      "_view_module_version": "1.5.0",
      "_view_name": "ProgressView",
      "bar_style": "success",
      "description": "",
      "description_tooltip": null,
      "layout": "IPY_MODEL_d65229238f764600921afd10ab5a3941",
      "max": 1709,
      "min": 0,
      "orientation": "horizontal",
      "style": "IPY_MODEL_09688b89a5f7441988ac4139fd0691c1",
      "value": 1709
     }
    },
    "ace27a0e7b1c466db30d6ae8b8d5d2f0": {
     "model_module": "@jupyter-widgets/controls",
     "model_module_version": "1.5.0",
     "model_name": "DescriptionStyleModel",
     "state": {
      "_model_module": "@jupyter-widgets/controls",
      "_model_module_version": "1.5.0",
      "_model_name": "DescriptionStyleModel",
      "_view_count": null,
      "_view_module": "@jupyter-widgets/base",
      "_view_module_version": "1.2.0",
      "_view_name": "StyleView",
      "description_width": ""
     }
    },
    "ae77775d82bc45c39ca4fa875ffc431e": {
     "model_module": "@jupyter-widgets/controls",
     "model_module_version": "1.5.0",
     "model_name": "DescriptionStyleModel",
     "state": {
      "_model_module": "@jupyter-widgets/controls",
      "_model_module_version": "1.5.0",
      "_model_name": "DescriptionStyleModel",
      "_view_count": null,
      "_view_module": "@jupyter-widgets/base",
      "_view_module_version": "1.2.0",
      "_view_name": "StyleView",
      "description_width": ""
     }
    },
    "bb5a60f88e4942d0bd216938327ebeb8": {
     "model_module": "@jupyter-widgets/controls",
     "model_module_version": "1.5.0",
     "model_name": "ProgressStyleModel",
     "state": {
      "_model_module": "@jupyter-widgets/controls",
      "_model_module_version": "1.5.0",
      "_model_name": "ProgressStyleModel",
      "_view_count": null,
      "_view_module": "@jupyter-widgets/base",
      "_view_module_version": "1.2.0",
      "_view_name": "StyleView",
      "bar_color": null,
      "description_width": ""
     }
    },
    "bc36f50ed08b4f13b49d77546b6ee167": {
     "model_module": "@jupyter-widgets/controls",
     "model_module_version": "1.5.0",
     "model_name": "HBoxModel",
     "state": {
      "_dom_classes": [],
      "_model_module": "@jupyter-widgets/controls",
      "_model_module_version": "1.5.0",
      "_model_name": "HBoxModel",
      "_view_count": null,
      "_view_module": "@jupyter-widgets/controls",
      "_view_module_version": "1.5.0",
      "_view_name": "HBoxView",
      "box_style": "",
      "children": [
       "IPY_MODEL_db73875f23f34aa6963df659a35233b5",
       "IPY_MODEL_91bf6494f5574108903b49d66a347844",
       "IPY_MODEL_6b311740f4264beeb3b82f783375261e"
      ],
      "layout": "IPY_MODEL_94e8d5f4f6f04dbf898ff6d23ba51b4c"
     }
    },
    "c14f4b25591343dd8eaaca3054c284dc": {
     "model_module": "@jupyter-widgets/base",
     "model_module_version": "1.2.0",
     "model_name": "LayoutModel",
     "state": {
      "_model_module": "@jupyter-widgets/base",
      "_model_module_version": "1.2.0",
      "_model_name": "LayoutModel",
      "_view_count": null,
      "_view_module": "@jupyter-widgets/base",
      "_view_module_version": "1.2.0",
      "_view_name": "LayoutView",
      "align_content": null,
      "align_items": null,
      "align_self": null,
      "border": null,
      "bottom": null,
      "display": null,
      "flex": null,
      "flex_flow": null,
      "grid_area": null,
      "grid_auto_columns": null,
      "grid_auto_flow": null,
      "grid_auto_rows": null,
      "grid_column": null,
      "grid_gap": null,
      "grid_row": null,
      "grid_template_areas": null,
      "grid_template_columns": null,
      "grid_template_rows": null,
      "height": null,
      "justify_content": null,
      "justify_items": null,
      "left": null,
      "margin": null,
      "max_height": null,
      "max_width": null,
      "min_height": null,
      "min_width": null,
      "object_fit": null,
      "object_position": null,
      "order": null,
      "overflow": null,
      "overflow_x": null,
      "overflow_y": null,
      "padding": null,
      "right": null,
      "top": null,
      "visibility": null,
      "width": null
     }
    },
    "c34b3cc7c1554ec7b337d1b44a50b23e": {
     "model_module": "@jupyter-widgets/controls",
     "model_module_version": "1.5.0",
     "model_name": "DescriptionStyleModel",
     "state": {
      "_model_module": "@jupyter-widgets/controls",
      "_model_module_version": "1.5.0",
      "_model_name": "DescriptionStyleModel",
      "_view_count": null,
      "_view_module": "@jupyter-widgets/base",
      "_view_module_version": "1.2.0",
      "_view_name": "StyleView",
      "description_width": ""
     }
    },
    "d3f0dcfeaebc490aa548599ce4116e73": {
     "model_module": "@jupyter-widgets/base",
     "model_module_version": "1.2.0",
     "model_name": "LayoutModel",
     "state": {
      "_model_module": "@jupyter-widgets/base",
      "_model_module_version": "1.2.0",
      "_model_name": "LayoutModel",
      "_view_count": null,
      "_view_module": "@jupyter-widgets/base",
      "_view_module_version": "1.2.0",
      "_view_name": "LayoutView",
      "align_content": null,
      "align_items": null,
      "align_self": null,
      "border": null,
      "bottom": null,
      "display": null,
      "flex": null,
      "flex_flow": null,
      "grid_area": null,
      "grid_auto_columns": null,
      "grid_auto_flow": null,
      "grid_auto_rows": null,
      "grid_column": null,
      "grid_gap": null,
      "grid_row": null,
      "grid_template_areas": null,
      "grid_template_columns": null,
      "grid_template_rows": null,
      "height": null,
      "justify_content": null,
      "justify_items": null,
      "left": null,
      "margin": null,
      "max_height": null,
      "max_width": null,
      "min_height": null,
      "min_width": null,
      "object_fit": null,
      "object_position": null,
      "order": null,
      "overflow": null,
      "overflow_x": null,
      "overflow_y": null,
      "padding": null,
      "right": null,
      "top": null,
      "visibility": null,
      "width": null
     }
    },
    "d65229238f764600921afd10ab5a3941": {
     "model_module": "@jupyter-widgets/base",
     "model_module_version": "1.2.0",
     "model_name": "LayoutModel",
     "state": {
      "_model_module": "@jupyter-widgets/base",
      "_model_module_version": "1.2.0",
      "_model_name": "LayoutModel",
      "_view_count": null,
      "_view_module": "@jupyter-widgets/base",
      "_view_module_version": "1.2.0",
      "_view_name": "LayoutView",
      "align_content": null,
      "align_items": null,
      "align_self": null,
      "border": null,
      "bottom": null,
      "display": null,
      "flex": null,
      "flex_flow": null,
      "grid_area": null,
      "grid_auto_columns": null,
      "grid_auto_flow": null,
      "grid_auto_rows": null,
      "grid_column": null,
      "grid_gap": null,
      "grid_row": null,
      "grid_template_areas": null,
      "grid_template_columns": null,
      "grid_template_rows": null,
      "height": null,
      "justify_content": null,
      "justify_items": null,
      "left": null,
      "margin": null,
      "max_height": null,
      "max_width": null,
      "min_height": null,
      "min_width": null,
      "object_fit": null,
      "object_position": null,
      "order": null,
      "overflow": null,
      "overflow_x": null,
      "overflow_y": null,
      "padding": null,
      "right": null,
      "top": null,
      "visibility": null,
      "width": null
     }
    },
    "db73875f23f34aa6963df659a35233b5": {
     "model_module": "@jupyter-widgets/controls",
     "model_module_version": "1.5.0",
     "model_name": "HTMLModel",
     "state": {
      "_dom_classes": [],
      "_model_module": "@jupyter-widgets/controls",
      "_model_module_version": "1.5.0",
      "_model_name": "HTMLModel",
      "_view_count": null,
      "_view_module": "@jupyter-widgets/controls",
      "_view_module_version": "1.5.0",
      "_view_name": "HTMLView",
      "description": "",
      "description_tooltip": null,
      "layout": "IPY_MODEL_c14f4b25591343dd8eaaca3054c284dc",
      "placeholder": "​",
      "style": "IPY_MODEL_86c40618860c4272b6dd6474dc0ca0cd",
      "value": "Inserting customers data (batches of size 200): 100%"
     }
    },
    "ff29a0730f5a4a9786079d924f9ef0dd": {
     "model_module": "@jupyter-widgets/controls",
     "model_module_version": "1.5.0",
     "model_name": "HBoxModel",
     "state": {
      "_dom_classes": [],
      "_model_module": "@jupyter-widgets/controls",
      "_model_module_version": "1.5.0",
      "_model_name": "HBoxModel",
      "_view_count": null,
      "_view_module": "@jupyter-widgets/controls",
      "_view_module_version": "1.5.0",
      "_view_name": "HBoxView",
      "box_style": "",
      "children": [
       "IPY_MODEL_6038333e1ce64b0ca074159f5c6c7025",
       "IPY_MODEL_a4ad95d1301d4820814f37740a3f587a",
       "IPY_MODEL_58635d61aac940d99c092dd25f3a8fff"
      ],
      "layout": "IPY_MODEL_365377a188114657aa24bf7a0a5a1d4f"
     }
    }
   }
  }
 },
 "nbformat": 4,
 "nbformat_minor": 4
}
