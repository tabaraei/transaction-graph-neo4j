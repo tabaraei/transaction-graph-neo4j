{
 "cells": [
  {
   "cell_type": "markdown",
   "metadata": {
    "id": "nirfanUgo2fA"
   },
   "source": [
    "This notebook introduces a transaction data simulator for generating legitimate and fraudulent transactions. It serves as a tool to evaluate fraud detection techniques effectively. Despite its simple design, the simulator replicates many real-world data challenges, including class imbalance, mixed features, complex relationships, and time-dependent fraud scenarios."
   ]
  },
  {
   "cell_type": "markdown",
   "metadata": {
    "id": "CtOntzaSuzTC"
   },
   "source": [
    "# Transaction Data Simulator"
   ]
  },
  {
   "cell_type": "markdown",
   "metadata": {
    "id": "S14sWU1wkAVN"
   },
   "source": [
    "This simulator serves as a tool to evaluate fraud detection techniques effectively. Despite its simple design, the simulator replicates many real-world data challenges, including class imbalance, mixed features, complex relationships, and time-dependent fraud scenarios. The simulation involves 6 main steps which we will cover in-depth in this section, as illustrated in the diagram below:\n",
    "\n",
    "![simulator](images/simulator.png)"
   ]
  },
  {
   "cell_type": "code",
   "execution_count": 27,
   "metadata": {
    "id": "W0oH5J1z7gf7"
   },
   "outputs": [],
   "source": [
    "import os\n",
    "import numpy as np\n",
    "import pandas as pd\n",
    "import datetime\n",
    "import time\n",
    "import random\n",
    "import matplotlib.pyplot as plt\n",
    "import seaborn as sns\n",
    "from neo4j import GraphDatabase\n",
    "from tqdm.notebook import tqdm\n",
    "import warnings\n",
    "\n",
    "%matplotlib inline\n",
    "pd.set_option('display.notebook_repr_html', True)\n",
    "pd.DataFrame._repr_latex_ = lambda self: \"\\n\".join([r'\\begin{center}', self.to_latex(), r'\\end{center}'])\n",
    "sns.set_style('darkgrid', {'axes.facecolor': '0.9'})\n",
    "warnings.filterwarnings('ignore')"
   ]
  },
  {
   "cell_type": "markdown",
   "metadata": {
    "id": "pkALJkvd71Dk"
   },
   "source": [
    "## Customer Profiles Generation"
   ]
  },
  {
   "cell_type": "markdown",
   "metadata": {
    "id": "7sEkYPNwpn76"
   },
   "source": [
    "Unique spending habits are simulated through customer attributes such as location, spending frequency, and spending amount, organized into `customer_profiles_table`. Each customer is characterized by:\n",
    "\n",
    "- `CUSTOMER_ID`: A unique identifier for the customer.\n",
    "- `(x_customer_id, y_customer_id)`: Real coordinates representing the customer's geographical location on a 100 * 100 grid.\n",
    "- `(mean_amount, std_amount)`: The mean and standard deviation of transaction amounts for the customer\n",
    "- `mean_nb_tx_per_day`: The average number of transactions per day for the customer"
   ]
  },
  {
   "cell_type": "code",
   "execution_count": 2,
   "metadata": {
    "id": "2sG2bVpJrVRs"
   },
   "outputs": [],
   "source": [
    "def generate_customer_profiles_table(n_customers, random_state=0):\n",
    "    '''\n",
    "    This function provides an implementation for generating a table of customer\n",
    "    profiles. It takes as input the number of customers for which to generate a\n",
    "    profile and a random state for reproducibility. It returns a DataFrame\n",
    "    containing the properties for each customer.\n",
    "    '''\n",
    "    np.random.seed(random_state)\n",
    "    customer_id_properties=[]\n",
    "\n",
    "    # Generate customer properties from random distributions\n",
    "    for customer_id in range(n_customers):\n",
    "        x_customer_id = np.random.uniform(0,100)\n",
    "        y_customer_id = np.random.uniform(0,100)\n",
    "        # Arbitrary (but sensible) values\n",
    "        mean_amount = np.random.uniform(5,100)\n",
    "        std_amount = mean_amount/2\n",
    "        mean_nb_tx_per_day = np.random.uniform(0,4)\n",
    "        customer_id_properties.append([customer_id,\n",
    "                                      x_customer_id, y_customer_id,\n",
    "                                      mean_amount, std_amount,\n",
    "                                      mean_nb_tx_per_day])\n",
    "\n",
    "    customer_profiles_table = pd.DataFrame(customer_id_properties, columns= [\n",
    "            'CUSTOMER_ID',\n",
    "            'x_customer_id', 'y_customer_id',\n",
    "            'mean_amount', 'std_amount',\n",
    "            'mean_nb_tx_per_day'])\n",
    "    return customer_profiles_table"
   ]
  },
  {
   "cell_type": "code",
   "execution_count": 3,
   "metadata": {
    "colab": {
     "base_uri": "https://localhost:8080/",
     "height": 0
    },
    "id": "k1k1se_nnvHg",
    "outputId": "1fb14a94-5cfe-412b-8521-f9f594a33b67"
   },
   "outputs": [
    {
     "data": {
      "text/html": [
       "<div>\n",
       "<style scoped>\n",
       "    .dataframe tbody tr th:only-of-type {\n",
       "        vertical-align: middle;\n",
       "    }\n",
       "\n",
       "    .dataframe tbody tr th {\n",
       "        vertical-align: top;\n",
       "    }\n",
       "\n",
       "    .dataframe thead th {\n",
       "        text-align: right;\n",
       "    }\n",
       "</style>\n",
       "<table border=\"1\" class=\"dataframe\">\n",
       "  <thead>\n",
       "    <tr style=\"text-align: right;\">\n",
       "      <th></th>\n",
       "      <th>CUSTOMER-ID</th>\n",
       "      <th>x-customer-id</th>\n",
       "      <th>y-customer-id</th>\n",
       "      <th>mean-amount</th>\n",
       "      <th>std-amount</th>\n",
       "      <th>mean-nb-tx-per-day</th>\n",
       "    </tr>\n",
       "  </thead>\n",
       "  <tbody>\n",
       "    <tr>\n",
       "      <th>0</th>\n",
       "      <td>0</td>\n",
       "      <td>54.881350</td>\n",
       "      <td>71.518937</td>\n",
       "      <td>62.262521</td>\n",
       "      <td>31.131260</td>\n",
       "      <td>2.179533</td>\n",
       "    </tr>\n",
       "    <tr>\n",
       "      <th>1</th>\n",
       "      <td>1</td>\n",
       "      <td>42.365480</td>\n",
       "      <td>64.589411</td>\n",
       "      <td>46.570785</td>\n",
       "      <td>23.285393</td>\n",
       "      <td>3.567092</td>\n",
       "    </tr>\n",
       "    <tr>\n",
       "      <th>2</th>\n",
       "      <td>2</td>\n",
       "      <td>96.366276</td>\n",
       "      <td>38.344152</td>\n",
       "      <td>80.213879</td>\n",
       "      <td>40.106939</td>\n",
       "      <td>2.115580</td>\n",
       "    </tr>\n",
       "    <tr>\n",
       "      <th>3</th>\n",
       "      <td>3</td>\n",
       "      <td>56.804456</td>\n",
       "      <td>92.559664</td>\n",
       "      <td>11.748426</td>\n",
       "      <td>5.874213</td>\n",
       "      <td>0.348517</td>\n",
       "    </tr>\n",
       "    <tr>\n",
       "      <th>4</th>\n",
       "      <td>4</td>\n",
       "      <td>2.021840</td>\n",
       "      <td>83.261985</td>\n",
       "      <td>78.924891</td>\n",
       "      <td>39.462446</td>\n",
       "      <td>3.480049</td>\n",
       "    </tr>\n",
       "  </tbody>\n",
       "</table>\n",
       "</div>"
      ],
      "text/latex": [
       "\\begin{center}\n",
       "\\begin{tabular}{lrrrrrr}\n",
       "\\toprule\n",
       " & CUSTOMER-ID & x-customer-id & y-customer-id & mean-amount & std-amount & mean-nb-tx-per-day \\\\\n",
       "\\midrule\n",
       "0 & 0 & 54.881350 & 71.518937 & 62.262521 & 31.131260 & 2.179533 \\\\\n",
       "1 & 1 & 42.365480 & 64.589411 & 46.570785 & 23.285393 & 3.567092 \\\\\n",
       "2 & 2 & 96.366276 & 38.344152 & 80.213879 & 40.106939 & 2.115580 \\\\\n",
       "3 & 3 & 56.804456 & 92.559664 & 11.748426 & 5.874213 & 0.348517 \\\\\n",
       "4 & 4 & 2.021840 & 83.261985 & 78.924891 & 39.462446 & 3.480049 \\\\\n",
       "\\bottomrule\n",
       "\\end{tabular}\n",
       "\n",
       "\\end{center}"
      ],
      "text/plain": [
       "   CUSTOMER-ID  x-customer-id  y-customer-id  mean-amount  std-amount  \\\n",
       "0            0      54.881350      71.518937    62.262521   31.131260   \n",
       "1            1      42.365480      64.589411    46.570785   23.285393   \n",
       "2            2      96.366276      38.344152    80.213879   40.106939   \n",
       "3            3      56.804456      92.559664    11.748426    5.874213   \n",
       "4            4       2.021840      83.261985    78.924891   39.462446   \n",
       "\n",
       "   mean-nb-tx-per-day  \n",
       "0            2.179533  \n",
       "1            3.567092  \n",
       "2            2.115580  \n",
       "3            0.348517  \n",
       "4            3.480049  "
      ]
     },
     "execution_count": 3,
     "metadata": {},
     "output_type": "execute_result"
    }
   ],
   "source": [
    "customer_profiles_table = generate_customer_profiles_table(n_customers=5)\n",
    "customer_profiles_table.rename(columns=lambda x: x.replace('_', '-'))"
   ]
  },
  {
   "cell_type": "markdown",
   "metadata": {
    "id": "5UZ_pWl_91iC"
   },
   "source": [
    "## Terminal Profiles Generation"
   ]
  },
  {
   "cell_type": "markdown",
   "metadata": {
    "id": "cyOrJZ9srMe6"
   },
   "source": [
    "Terminal characteristics represented in `terminal_profiles_table`, focus solely on geographical location. Each terminal will be defined by the following properties:\n",
    "\n",
    "- `TERMINAL_ID`: The terminal ID\n",
    "- `(x_terminal_id, y_terminal_id)`: A pair of real coordinates defining the geographical location of the terminal"
   ]
  },
  {
   "cell_type": "code",
   "execution_count": 4,
   "metadata": {
    "id": "57KXl4by93HB"
   },
   "outputs": [],
   "source": [
    "def generate_terminal_profiles_table(n_terminals, random_state=0):\n",
    "    '''\n",
    "    This function provides an implementation for generating a table of terminal\n",
    "    profiles. It takes as input the number of terminals for which to generate a\n",
    "    profile and a random state for reproducibility. It returns a DataFrame\n",
    "    containing the properties for each terminal.\n",
    "    '''\n",
    "\n",
    "    np.random.seed(random_state)\n",
    "    terminal_id_properties=[]\n",
    "    # Generate terminal properties from random distributions\n",
    "    for terminal_id in range(n_terminals):\n",
    "        x_terminal_id = np.random.uniform(0,100)\n",
    "        y_terminal_id = np.random.uniform(0,100)\n",
    "        terminal_id_properties.append([terminal_id,\n",
    "                                      x_terminal_id, y_terminal_id])\n",
    "\n",
    "    terminal_profiles_table = pd.DataFrame(terminal_id_properties, columns=\n",
    "        ['TERMINAL_ID', 'x_terminal_id', 'y_terminal_id'])\n",
    "    return terminal_profiles_table"
   ]
  },
  {
   "cell_type": "code",
   "execution_count": 5,
   "metadata": {
    "colab": {
     "base_uri": "https://localhost:8080/",
     "height": 0
    },
    "id": "8A4oLbkp-Ry7",
    "outputId": "0e4ce374-6512-45a9-b310-b02d9b8e1b45"
   },
   "outputs": [
    {
     "data": {
      "text/html": [
       "<div>\n",
       "<style scoped>\n",
       "    .dataframe tbody tr th:only-of-type {\n",
       "        vertical-align: middle;\n",
       "    }\n",
       "\n",
       "    .dataframe tbody tr th {\n",
       "        vertical-align: top;\n",
       "    }\n",
       "\n",
       "    .dataframe thead th {\n",
       "        text-align: right;\n",
       "    }\n",
       "</style>\n",
       "<table border=\"1\" class=\"dataframe\">\n",
       "  <thead>\n",
       "    <tr style=\"text-align: right;\">\n",
       "      <th></th>\n",
       "      <th>TERMINAL-ID</th>\n",
       "      <th>x-terminal-id</th>\n",
       "      <th>y-terminal-id</th>\n",
       "    </tr>\n",
       "  </thead>\n",
       "  <tbody>\n",
       "    <tr>\n",
       "      <th>0</th>\n",
       "      <td>0</td>\n",
       "      <td>54.881350</td>\n",
       "      <td>71.518937</td>\n",
       "    </tr>\n",
       "    <tr>\n",
       "      <th>1</th>\n",
       "      <td>1</td>\n",
       "      <td>60.276338</td>\n",
       "      <td>54.488318</td>\n",
       "    </tr>\n",
       "    <tr>\n",
       "      <th>2</th>\n",
       "      <td>2</td>\n",
       "      <td>42.365480</td>\n",
       "      <td>64.589411</td>\n",
       "    </tr>\n",
       "    <tr>\n",
       "      <th>3</th>\n",
       "      <td>3</td>\n",
       "      <td>43.758721</td>\n",
       "      <td>89.177300</td>\n",
       "    </tr>\n",
       "    <tr>\n",
       "      <th>4</th>\n",
       "      <td>4</td>\n",
       "      <td>96.366276</td>\n",
       "      <td>38.344152</td>\n",
       "    </tr>\n",
       "  </tbody>\n",
       "</table>\n",
       "</div>"
      ],
      "text/latex": [
       "\\begin{center}\n",
       "\\begin{tabular}{lrrr}\n",
       "\\toprule\n",
       " & TERMINAL-ID & x-terminal-id & y-terminal-id \\\\\n",
       "\\midrule\n",
       "0 & 0 & 54.881350 & 71.518937 \\\\\n",
       "1 & 1 & 60.276338 & 54.488318 \\\\\n",
       "2 & 2 & 42.365480 & 64.589411 \\\\\n",
       "3 & 3 & 43.758721 & 89.177300 \\\\\n",
       "4 & 4 & 96.366276 & 38.344152 \\\\\n",
       "\\bottomrule\n",
       "\\end{tabular}\n",
       "\n",
       "\\end{center}"
      ],
      "text/plain": [
       "   TERMINAL-ID  x-terminal-id  y-terminal-id\n",
       "0            0      54.881350      71.518937\n",
       "1            1      60.276338      54.488318\n",
       "2            2      42.365480      64.589411\n",
       "3            3      43.758721      89.177300\n",
       "4            4      96.366276      38.344152"
      ]
     },
     "execution_count": 5,
     "metadata": {},
     "output_type": "execute_result"
    }
   ],
   "source": [
    "terminal_profiles_table = generate_terminal_profiles_table(n_terminals=5)\n",
    "terminal_profiles_table.rename(columns=lambda x: x.replace('_', '-'))"
   ]
  },
  {
   "cell_type": "markdown",
   "metadata": {
    "id": "QUkbYpBr-nZJ"
   },
   "source": [
    "## Association of Customer Profiles to Terminals"
   ]
  },
  {
   "cell_type": "markdown",
   "metadata": {},
   "source": [
    "Customers are assumed to transact only at terminals within a certain radius `r` of their geographical location, reflected in the `available_terminals` feature added to each customer profile. Comparing the terminal locations stored in `terminal_profiles_table` and the customer locations in `customer_profiles_table`, we can compute the list of available terminals for a given customer at a given radius. The plot below demonstrates how the radius can affect the inclusion of surrounding terminals.\n",
    "\n",
    "![available_terminals](images/available_terminals.png)"
   ]
  },
  {
   "cell_type": "code",
   "execution_count": 6,
   "metadata": {
    "id": "21JDtE6I-xNa"
   },
   "outputs": [],
   "source": [
    "def get_list_terminals_within_radius(customer_profile, x_y_terminals, r):\n",
    "    '''\n",
    "    This function returns the list of terminals within a radius of r, given as\n",
    "    input a customer profile (any row in the customer profiles table), an array\n",
    "    containing the geographical location of all terminals, and the radius r.\n",
    "    '''\n",
    "    # Location (x,y) of customer as numpy array\n",
    "    x_y_customer = customer_profile[['x_customer_id','y_customer_id']].values.astype(float)\n",
    "\n",
    "    # Squared difference in coordinates between customer and terminal locations\n",
    "    squared_diff_x_y = np.square(x_y_customer - x_y_terminals)\n",
    "\n",
    "    # Sum along rows and compute suared root to get distance\n",
    "    dist_x_y = np.sqrt(np.sum(squared_diff_x_y, axis=1))\n",
    "\n",
    "    # Get the indices of terminals which are at a distance less than r\n",
    "    available_terminals = list(np.where(dist_x_y<r)[0])\n",
    "\n",
    "    # Return the list of terminal IDs\n",
    "    return available_terminals"
   ]
  },
  {
   "cell_type": "markdown",
   "metadata": {
    "id": "7bW-Yrdn4kaH"
   },
   "source": [
    "Calculating the available terminals for each customer can be performed using the pandas `apply` function. The results are stored as a new column named `available_terminals` in the customer profiles table."
   ]
  },
  {
   "cell_type": "code",
   "execution_count": 7,
   "metadata": {
    "colab": {
     "base_uri": "https://localhost:8080/",
     "height": 206
    },
    "id": "wAAOQgHCj7CK",
    "outputId": "a050ede1-2cb6-4c97-a48c-a6cbbf9d01c8"
   },
   "outputs": [
    {
     "data": {
      "text/html": [
       "<div>\n",
       "<style scoped>\n",
       "    .dataframe tbody tr th:only-of-type {\n",
       "        vertical-align: middle;\n",
       "    }\n",
       "\n",
       "    .dataframe tbody tr th {\n",
       "        vertical-align: top;\n",
       "    }\n",
       "\n",
       "    .dataframe thead th {\n",
       "        text-align: right;\n",
       "    }\n",
       "</style>\n",
       "<table border=\"1\" class=\"dataframe\">\n",
       "  <thead>\n",
       "    <tr style=\"text-align: right;\">\n",
       "      <th></th>\n",
       "      <th>CUSTOMER-ID</th>\n",
       "      <th>x-customer-id</th>\n",
       "      <th>y-customer-id</th>\n",
       "      <th>mean-amount</th>\n",
       "      <th>std-amount</th>\n",
       "      <th>mean-nb-tx-per-day</th>\n",
       "      <th>available-terminals</th>\n",
       "    </tr>\n",
       "  </thead>\n",
       "  <tbody>\n",
       "    <tr>\n",
       "      <th>0</th>\n",
       "      <td>0</td>\n",
       "      <td>54.881350</td>\n",
       "      <td>71.518937</td>\n",
       "      <td>62.262521</td>\n",
       "      <td>31.131260</td>\n",
       "      <td>2.179533</td>\n",
       "      <td>[0, 1, 2, 3]</td>\n",
       "    </tr>\n",
       "    <tr>\n",
       "      <th>1</th>\n",
       "      <td>1</td>\n",
       "      <td>42.365480</td>\n",
       "      <td>64.589411</td>\n",
       "      <td>46.570785</td>\n",
       "      <td>23.285393</td>\n",
       "      <td>3.567092</td>\n",
       "      <td>[0, 1, 2, 3]</td>\n",
       "    </tr>\n",
       "    <tr>\n",
       "      <th>2</th>\n",
       "      <td>2</td>\n",
       "      <td>96.366276</td>\n",
       "      <td>38.344152</td>\n",
       "      <td>80.213879</td>\n",
       "      <td>40.106939</td>\n",
       "      <td>2.115580</td>\n",
       "      <td>[1, 4]</td>\n",
       "    </tr>\n",
       "    <tr>\n",
       "      <th>3</th>\n",
       "      <td>3</td>\n",
       "      <td>56.804456</td>\n",
       "      <td>92.559664</td>\n",
       "      <td>11.748426</td>\n",
       "      <td>5.874213</td>\n",
       "      <td>0.348517</td>\n",
       "      <td>[0, 1, 2, 3]</td>\n",
       "    </tr>\n",
       "    <tr>\n",
       "      <th>4</th>\n",
       "      <td>4</td>\n",
       "      <td>2.021840</td>\n",
       "      <td>83.261985</td>\n",
       "      <td>78.924891</td>\n",
       "      <td>39.462446</td>\n",
       "      <td>3.480049</td>\n",
       "      <td>[2, 3]</td>\n",
       "    </tr>\n",
       "  </tbody>\n",
       "</table>\n",
       "</div>"
      ],
      "text/latex": [
       "\\begin{center}\n",
       "\\begin{tabular}{lrrrrrrl}\n",
       "\\toprule\n",
       " & CUSTOMER-ID & x-customer-id & y-customer-id & mean-amount & std-amount & mean-nb-tx-per-day & available-terminals \\\\\n",
       "\\midrule\n",
       "0 & 0 & 54.881350 & 71.518937 & 62.262521 & 31.131260 & 2.179533 & [0, 1, 2, 3] \\\\\n",
       "1 & 1 & 42.365480 & 64.589411 & 46.570785 & 23.285393 & 3.567092 & [0, 1, 2, 3] \\\\\n",
       "2 & 2 & 96.366276 & 38.344152 & 80.213879 & 40.106939 & 2.115580 & [1, 4] \\\\\n",
       "3 & 3 & 56.804456 & 92.559664 & 11.748426 & 5.874213 & 0.348517 & [0, 1, 2, 3] \\\\\n",
       "4 & 4 & 2.021840 & 83.261985 & 78.924891 & 39.462446 & 3.480049 & [2, 3] \\\\\n",
       "\\bottomrule\n",
       "\\end{tabular}\n",
       "\n",
       "\\end{center}"
      ],
      "text/plain": [
       "   CUSTOMER-ID  x-customer-id  y-customer-id  mean-amount  std-amount  \\\n",
       "0            0      54.881350      71.518937    62.262521   31.131260   \n",
       "1            1      42.365480      64.589411    46.570785   23.285393   \n",
       "2            2      96.366276      38.344152    80.213879   40.106939   \n",
       "3            3      56.804456      92.559664    11.748426    5.874213   \n",
       "4            4       2.021840      83.261985    78.924891   39.462446   \n",
       "\n",
       "   mean-nb-tx-per-day available-terminals  \n",
       "0            2.179533        [0, 1, 2, 3]  \n",
       "1            3.567092        [0, 1, 2, 3]  \n",
       "2            2.115580              [1, 4]  \n",
       "3            0.348517        [0, 1, 2, 3]  \n",
       "4            3.480049              [2, 3]  "
      ]
     },
     "execution_count": 7,
     "metadata": {},
     "output_type": "execute_result"
    }
   ],
   "source": [
    "# We first get the geographical locations of all terminals as a numpy array\n",
    "x_y_terminals = terminal_profiles_table[['x_terminal_id','y_terminal_id']].values.astype(float)\n",
    "\n",
    "# Now we compute the available terminals\n",
    "customer_profiles_table['available_terminals'] = \\\n",
    "    customer_profiles_table.apply(lambda x : \\\n",
    "        get_list_terminals_within_radius(x, x_y_terminals=x_y_terminals, r=50),\n",
    "        axis=1\n",
    "    )\n",
    "customer_profiles_table.rename(columns=lambda x: x.replace('_', '-'))"
   ]
  },
  {
   "cell_type": "markdown",
   "metadata": {
    "id": "9VFIvADFlYFE"
   },
   "source": [
    "## Generation of Transactions"
   ]
  },
  {
   "cell_type": "markdown",
   "metadata": {
    "id": "hpeq-SEpbTau"
   },
   "source": [
    "Transactions are generated based on customer attributes and terminal availability, resulting in a `transactions_df` table. We have now all the necessary information to generate the transactions, using the `generate_transactions_table` function below. This function will attempt to randomly populate the transaction data starting from a given date, until a certain number of days. Most of the values will be generated randomly, yet following a normal, uniform, or Poisson distribution.\n",
    "\n",
    "We can verify that the generated transactions comply with the customer profile properties:\n",
    "- `TERMINAL_ID`s correspond to those in the list of available terminals. However, not necessarily all these available terminals will be selected. As a result, the `available_terminals` is NOT equivalent to the actual terminals to which each customer is connected.\n",
    "- `TX_AMOUNT`s appear to align with the customer's amount parameters represented as `mean_amount` and `std_amount`.\n",
    "- The number of transactions per day varies based on the transaction frequency parameters of the customer, i.e. `mean_nb_tx_per_day`."
   ]
  },
  {
   "cell_type": "code",
   "execution_count": 8,
   "metadata": {
    "id": "Fw7e26VRlczV"
   },
   "outputs": [],
   "source": [
    "def generate_transactions_table(customer_profile, start_date = \"2018-04-01\", nb_days = 10):\n",
    "    '''\n",
    "    takes as input a customer profile, a starting date, and a number of days for\n",
    "    which to generate transactions. It will return a table of transactions\n",
    "    without considering the labels\n",
    "    '''\n",
    "    customer_transactions = []\n",
    "    random.seed(int(customer_profile.CUSTOMER_ID))\n",
    "    np.random.seed(int(customer_profile.CUSTOMER_ID))\n",
    "\n",
    "    # For all days\n",
    "    for day in range(nb_days):\n",
    "        # Random number of transactions for that day\n",
    "        nb_tx = np.random.poisson(customer_profile.mean_nb_tx_per_day)\n",
    "        # If nb_tx positive, let us generate transactions\n",
    "        if nb_tx>0:\n",
    "            for tx in range(nb_tx):\n",
    "                # Time of transaction: Around noon, std 20000 seconds. This choice aims at simulating the fact that\n",
    "                # most transactions occur during the day.\n",
    "                time_tx = int(np.random.normal(86400/2, 20000))\n",
    "\n",
    "                # If transaction time between 0 and 86400, let us keep it, otherwise, let us discard it\n",
    "                if (time_tx>0) and (time_tx<86400):\n",
    "                    # Amount is drawn from a normal distribution\n",
    "                    amount = np.random.normal(customer_profile.mean_amount, customer_profile.std_amount)\n",
    "                    # If amount negative, draw from a uniform distribution\n",
    "                    if amount<0:\n",
    "                        amount = np.random.uniform(0,customer_profile.mean_amount*2)\n",
    "\n",
    "                    amount=np.round(amount,decimals=2)\n",
    "                    if len(customer_profile.available_terminals)>0:\n",
    "                        terminal_id = random.choice(customer_profile.available_terminals)\n",
    "                        customer_transactions.append([time_tx+day*86400, day,\n",
    "                                                      customer_profile.CUSTOMER_ID,\n",
    "                                                      terminal_id, amount])\n",
    "\n",
    "    customer_transactions = pd.DataFrame(customer_transactions, columns=['TX_TIME_SECONDS', 'TX_TIME_DAYS', 'CUSTOMER_ID', 'TERMINAL_ID', 'TX_AMOUNT'])\n",
    "    if len(customer_transactions)>0:\n",
    "        customer_transactions['TX_DATETIME'] = pd.to_datetime(customer_transactions[\"TX_TIME_SECONDS\"], unit='s', origin=start_date)\n",
    "        customer_transactions=customer_transactions[['TX_DATETIME','CUSTOMER_ID', 'TERMINAL_ID', 'TX_AMOUNT','TX_TIME_SECONDS', 'TX_TIME_DAYS']]\n",
    "    return customer_transactions"
   ]
  },
  {
   "cell_type": "markdown",
   "metadata": {
    "id": "fqADLUVTnpL_"
   },
   "source": [
    "Now, let's generate transactions for all customers, which can be done straightforwardly using the pandas `groupby` and `apply` methods. This results in a set of 65 transactions, involving 5 customers, 5 terminals, and spanning across 5 days."
   ]
  },
  {
   "cell_type": "code",
   "execution_count": 9,
   "metadata": {
    "colab": {
     "base_uri": "https://localhost:8080/",
     "height": 423
    },
    "id": "LkI2kMmPqRw1",
    "outputId": "b4bdbfcd-8375-4802-9c08-5499a3611418"
   },
   "outputs": [
    {
     "data": {
      "text/html": [
       "<div>\n",
       "<style scoped>\n",
       "    .dataframe tbody tr th:only-of-type {\n",
       "        vertical-align: middle;\n",
       "    }\n",
       "\n",
       "    .dataframe tbody tr th {\n",
       "        vertical-align: top;\n",
       "    }\n",
       "\n",
       "    .dataframe thead th {\n",
       "        text-align: right;\n",
       "    }\n",
       "</style>\n",
       "<table border=\"1\" class=\"dataframe\">\n",
       "  <thead>\n",
       "    <tr style=\"text-align: right;\">\n",
       "      <th></th>\n",
       "      <th>TX-DATETIME</th>\n",
       "      <th>CUSTOMER-ID</th>\n",
       "      <th>TERMINAL-ID</th>\n",
       "      <th>TX-AMOUNT</th>\n",
       "      <th>TX-TIME-SECONDS</th>\n",
       "      <th>TX-TIME-DAYS</th>\n",
       "    </tr>\n",
       "  </thead>\n",
       "  <tbody>\n",
       "    <tr>\n",
       "      <th>0</th>\n",
       "      <td>2018-04-01 07:19:05</td>\n",
       "      <td>0</td>\n",
       "      <td>3</td>\n",
       "      <td>123.59</td>\n",
       "      <td>26345</td>\n",
       "      <td>0</td>\n",
       "    </tr>\n",
       "    <tr>\n",
       "      <th>1</th>\n",
       "      <td>2018-04-01 19:02:02</td>\n",
       "      <td>0</td>\n",
       "      <td>3</td>\n",
       "      <td>46.51</td>\n",
       "      <td>68522</td>\n",
       "      <td>0</td>\n",
       "    </tr>\n",
       "    <tr>\n",
       "      <th>2</th>\n",
       "      <td>2018-04-01 18:00:16</td>\n",
       "      <td>0</td>\n",
       "      <td>0</td>\n",
       "      <td>77.34</td>\n",
       "      <td>64816</td>\n",
       "      <td>0</td>\n",
       "    </tr>\n",
       "    <tr>\n",
       "      <th>3</th>\n",
       "      <td>2018-04-02 15:13:02</td>\n",
       "      <td>0</td>\n",
       "      <td>2</td>\n",
       "      <td>32.35</td>\n",
       "      <td>141182</td>\n",
       "      <td>1</td>\n",
       "    </tr>\n",
       "    <tr>\n",
       "      <th>4</th>\n",
       "      <td>2018-04-02 14:05:38</td>\n",
       "      <td>0</td>\n",
       "      <td>3</td>\n",
       "      <td>63.30</td>\n",
       "      <td>137138</td>\n",
       "      <td>1</td>\n",
       "    </tr>\n",
       "  </tbody>\n",
       "</table>\n",
       "</div>"
      ],
      "text/latex": [
       "\\begin{center}\n",
       "\\begin{tabular}{llrrrrr}\n",
       "\\toprule\n",
       " & TX-DATETIME & CUSTOMER-ID & TERMINAL-ID & TX-AMOUNT & TX-TIME-SECONDS & TX-TIME-DAYS \\\\\n",
       "\\midrule\n",
       "0 & 2018-04-01 07:19:05 & 0 & 3 & 123.590000 & 26345 & 0 \\\\\n",
       "1 & 2018-04-01 19:02:02 & 0 & 3 & 46.510000 & 68522 & 0 \\\\\n",
       "2 & 2018-04-01 18:00:16 & 0 & 0 & 77.340000 & 64816 & 0 \\\\\n",
       "3 & 2018-04-02 15:13:02 & 0 & 2 & 32.350000 & 141182 & 1 \\\\\n",
       "4 & 2018-04-02 14:05:38 & 0 & 3 & 63.300000 & 137138 & 1 \\\\\n",
       "\\bottomrule\n",
       "\\end{tabular}\n",
       "\n",
       "\\end{center}"
      ],
      "text/plain": [
       "          TX-DATETIME  CUSTOMER-ID  TERMINAL-ID  TX-AMOUNT  TX-TIME-SECONDS  \\\n",
       "0 2018-04-01 07:19:05            0            3     123.59            26345   \n",
       "1 2018-04-01 19:02:02            0            3      46.51            68522   \n",
       "2 2018-04-01 18:00:16            0            0      77.34            64816   \n",
       "3 2018-04-02 15:13:02            0            2      32.35           141182   \n",
       "4 2018-04-02 14:05:38            0            3      63.30           137138   \n",
       "\n",
       "   TX-TIME-DAYS  \n",
       "0             0  \n",
       "1             0  \n",
       "2             0  \n",
       "3             1  \n",
       "4             1  "
      ]
     },
     "execution_count": 9,
     "metadata": {},
     "output_type": "execute_result"
    }
   ],
   "source": [
    "transactions_df=customer_profiles_table.groupby('CUSTOMER_ID').apply(lambda x : generate_transactions_table(x.iloc[0], nb_days=5)).reset_index(drop=True)\n",
    "transactions_df.rename(columns=lambda x: x.replace('_', '-')).head()"
   ]
  },
  {
   "cell_type": "markdown",
   "metadata": {
    "id": "iL_1WoWCsaRd"
   },
   "source": [
    "## Generation of Fraud Scenarios"
   ]
  },
  {
   "cell_type": "markdown",
   "metadata": {
    "id": "iIB9_Ax1fPzD"
   },
   "source": [
    "In the final stage of the simulation, transactions are categorized as *legitimate* or *fraudulent* through the following scenarios:\n",
    "\n",
    "- **Scenario 1:** Any transaction exceeding $220 is flagged as fraudulent. This unrealistic scenario serves as a straightforward pattern for validating basic fraud detection methods.\n",
    "- **Scenario 2:** Each day, two terminals are randomly selected. Transactions made on these terminals in the subsequent 28 days are marked as fraudulent. This scenario simulates criminal exploitation of terminals, such as through phishing attacks.\n",
    "- **Scenario 3:** Every day, three customers are randomly chosen. Over the next 14 days, one-third of their transactions have their amounts multiplied by 5 and are labeled as fraudulent. This simulates card-not-present fraud, where leaked customer credentials lead to higher-value transactions by fraudsters. Detection of this scenario requires tracking customer spending habits and adapting to temporary compromises, similar to scenario 2.\n",
    "\n",
    "Notably, the initial month of the generated dataset has fewer fraudulent transactions due to scenario durations. The resulting dataset highlights class imbalance, mixes numerical and categorical features, and includes time-dependent fraud scenarios."
   ]
  },
  {
   "cell_type": "code",
   "execution_count": 10,
   "metadata": {
    "id": "Hgd6PMCfsetl"
   },
   "outputs": [],
   "source": [
    "def add_frauds(customer_profiles_table, terminal_profiles_table, transactions_df):\n",
    "\n",
    "    start_time=time.time()\n",
    "\n",
    "    # By default, all transactions are genuine\n",
    "    transactions_df['TX_FRAUD']=0\n",
    "    transactions_df['TX_FRAUD_SCENARIO']=0\n",
    "\n",
    "    # Scenario 1\n",
    "    transactions_df.loc[transactions_df.TX_AMOUNT>220, 'TX_FRAUD']=1\n",
    "    transactions_df.loc[transactions_df.TX_AMOUNT>220, 'TX_FRAUD_SCENARIO']=1\n",
    "    nb_frauds_scenario_1=transactions_df.TX_FRAUD.sum()\n",
    "    print(\"Number of frauds from scenario 1: \"+str(nb_frauds_scenario_1))\n",
    "\n",
    "    # Scenario 2\n",
    "    for day in range(transactions_df.TX_TIME_DAYS.max()):\n",
    "        compromised_terminals = terminal_profiles_table.TERMINAL_ID.sample(n=2, random_state=day)\n",
    "        compromised_transactions=transactions_df[(transactions_df.TX_TIME_DAYS>=day) &\n",
    "                                                    (transactions_df.TX_TIME_DAYS<day+28) &\n",
    "                                                    (transactions_df.TERMINAL_ID.isin(compromised_terminals))]\n",
    "        transactions_df.loc[compromised_transactions.index,'TX_FRAUD']=1\n",
    "        transactions_df.loc[compromised_transactions.index,'TX_FRAUD_SCENARIO']=2\n",
    "    nb_frauds_scenario_2=transactions_df.TX_FRAUD.sum()-nb_frauds_scenario_1\n",
    "    print(\"Number of frauds from scenario 2: \"+str(nb_frauds_scenario_2))\n",
    "\n",
    "    # Scenario 3\n",
    "    for day in range(transactions_df.TX_TIME_DAYS.max()):\n",
    "        compromised_customers = customer_profiles_table.CUSTOMER_ID.sample(n=3, random_state=day).values\n",
    "        compromised_transactions=transactions_df[(transactions_df.TX_TIME_DAYS>=day) &\n",
    "                                                    (transactions_df.TX_TIME_DAYS<day+14) &\n",
    "                                                    (transactions_df.CUSTOMER_ID.isin(compromised_customers))]\n",
    "        nb_compromised_transactions=len(compromised_transactions)\n",
    "        random.seed(day)\n",
    "        index_fauds = random.sample(list(compromised_transactions.index.values),k=int(nb_compromised_transactions/3))\n",
    "        transactions_df.loc[index_fauds,'TX_AMOUNT']=transactions_df.loc[index_fauds,'TX_AMOUNT']*5\n",
    "        transactions_df.loc[index_fauds,'TX_FRAUD']=1\n",
    "        transactions_df.loc[index_fauds,'TX_FRAUD_SCENARIO']=3\n",
    "\n",
    "    nb_frauds_scenario_3=transactions_df.TX_FRAUD.sum()-nb_frauds_scenario_2-nb_frauds_scenario_1\n",
    "    print(\"Number of frauds from scenario 3: \"+str(nb_frauds_scenario_3))\n",
    "    run_time = datetime.datetime.utcfromtimestamp(time.time()-start_time).strftime('%M:%S:%f')[:-4]\n",
    "    print(f\"Time to add fraudulent transactions: {run_time}\")\n",
    "    return transactions_df"
   ]
  },
  {
   "cell_type": "code",
   "execution_count": 11,
   "metadata": {
    "colab": {
     "base_uri": "https://localhost:8080/",
     "height": 345
    },
    "id": "9JJGXAXfsf7q",
    "outputId": "1fd3d3bb-a8a0-4447-a2a0-92e9104b8e89"
   },
   "outputs": [
    {
     "name": "stdout",
     "output_type": "stream",
     "text": [
      "Number of frauds from scenario 1: 0\n",
      "Number of frauds from scenario 2: 48\n",
      "Number of frauds from scenario 3: 7\n",
      "Time to add fraudulent transactions: 00:00:07\n",
      "Number of the fraudulent transactions: 55\n",
      "Number of the fraudulent transactions scenario 1: 0\n",
      "Number of the fraudulent transactions scenario 2: 26\n",
      "Number of the fraudulent transactions scenario 3: 29\n"
     ]
    },
    {
     "data": {
      "text/html": [
       "<div>\n",
       "<style scoped>\n",
       "    .dataframe tbody tr th:only-of-type {\n",
       "        vertical-align: middle;\n",
       "    }\n",
       "\n",
       "    .dataframe tbody tr th {\n",
       "        vertical-align: top;\n",
       "    }\n",
       "\n",
       "    .dataframe thead th {\n",
       "        text-align: right;\n",
       "    }\n",
       "</style>\n",
       "<table border=\"1\" class=\"dataframe\">\n",
       "  <thead>\n",
       "    <tr style=\"text-align: right;\">\n",
       "      <th></th>\n",
       "      <th>TX-DATETIME</th>\n",
       "      <th>CUSTOMER-ID</th>\n",
       "      <th>TERMINAL-ID</th>\n",
       "      <th>TX-AMOUNT</th>\n",
       "      <th>TX-TIME-SECONDS</th>\n",
       "      <th>TX-TIME-DAYS</th>\n",
       "      <th>TX-FRAUD</th>\n",
       "      <th>TX-FRAUD-SCENARIO</th>\n",
       "    </tr>\n",
       "  </thead>\n",
       "  <tbody>\n",
       "    <tr>\n",
       "      <th>0</th>\n",
       "      <td>2018-04-01 07:19:05</td>\n",
       "      <td>0</td>\n",
       "      <td>3</td>\n",
       "      <td>123.59</td>\n",
       "      <td>26345</td>\n",
       "      <td>0</td>\n",
       "      <td>0</td>\n",
       "      <td>0</td>\n",
       "    </tr>\n",
       "    <tr>\n",
       "      <th>1</th>\n",
       "      <td>2018-04-01 19:02:02</td>\n",
       "      <td>0</td>\n",
       "      <td>3</td>\n",
       "      <td>46.51</td>\n",
       "      <td>68522</td>\n",
       "      <td>0</td>\n",
       "      <td>0</td>\n",
       "      <td>0</td>\n",
       "    </tr>\n",
       "    <tr>\n",
       "      <th>2</th>\n",
       "      <td>2018-04-01 18:00:16</td>\n",
       "      <td>0</td>\n",
       "      <td>0</td>\n",
       "      <td>386.70</td>\n",
       "      <td>64816</td>\n",
       "      <td>0</td>\n",
       "      <td>1</td>\n",
       "      <td>3</td>\n",
       "    </tr>\n",
       "    <tr>\n",
       "      <th>3</th>\n",
       "      <td>2018-04-02 15:13:02</td>\n",
       "      <td>0</td>\n",
       "      <td>2</td>\n",
       "      <td>32.35</td>\n",
       "      <td>141182</td>\n",
       "      <td>1</td>\n",
       "      <td>1</td>\n",
       "      <td>2</td>\n",
       "    </tr>\n",
       "    <tr>\n",
       "      <th>4</th>\n",
       "      <td>2018-04-02 14:05:38</td>\n",
       "      <td>0</td>\n",
       "      <td>3</td>\n",
       "      <td>316.50</td>\n",
       "      <td>137138</td>\n",
       "      <td>1</td>\n",
       "      <td>1</td>\n",
       "      <td>3</td>\n",
       "    </tr>\n",
       "  </tbody>\n",
       "</table>\n",
       "</div>"
      ],
      "text/latex": [
       "\\begin{center}\n",
       "\\begin{tabular}{llrrrrrrr}\n",
       "\\toprule\n",
       " & TX-DATETIME & CUSTOMER-ID & TERMINAL-ID & TX-AMOUNT & TX-TIME-SECONDS & TX-TIME-DAYS & TX-FRAUD & TX-FRAUD-SCENARIO \\\\\n",
       "\\midrule\n",
       "0 & 2018-04-01 07:19:05 & 0 & 3 & 123.590000 & 26345 & 0 & 0 & 0 \\\\\n",
       "1 & 2018-04-01 19:02:02 & 0 & 3 & 46.510000 & 68522 & 0 & 0 & 0 \\\\\n",
       "2 & 2018-04-01 18:00:16 & 0 & 0 & 386.700000 & 64816 & 0 & 1 & 3 \\\\\n",
       "3 & 2018-04-02 15:13:02 & 0 & 2 & 32.350000 & 141182 & 1 & 1 & 2 \\\\\n",
       "4 & 2018-04-02 14:05:38 & 0 & 3 & 316.500000 & 137138 & 1 & 1 & 3 \\\\\n",
       "\\bottomrule\n",
       "\\end{tabular}\n",
       "\n",
       "\\end{center}"
      ],
      "text/plain": [
       "          TX-DATETIME  CUSTOMER-ID  TERMINAL-ID  TX-AMOUNT  TX-TIME-SECONDS  \\\n",
       "0 2018-04-01 07:19:05            0            3     123.59            26345   \n",
       "1 2018-04-01 19:02:02            0            3      46.51            68522   \n",
       "2 2018-04-01 18:00:16            0            0     386.70            64816   \n",
       "3 2018-04-02 15:13:02            0            2      32.35           141182   \n",
       "4 2018-04-02 14:05:38            0            3     316.50           137138   \n",
       "\n",
       "   TX-TIME-DAYS  TX-FRAUD  TX-FRAUD-SCENARIO  \n",
       "0             0         0                  0  \n",
       "1             0         0                  0  \n",
       "2             0         1                  3  \n",
       "3             1         1                  2  \n",
       "4             1         1                  3  "
      ]
     },
     "execution_count": 11,
     "metadata": {},
     "output_type": "execute_result"
    }
   ],
   "source": [
    "transactions_df = add_frauds(customer_profiles_table, terminal_profiles_table, transactions_df)\n",
    "print(f\"Number of the fraudulent transactions: {transactions_df.TX_FRAUD.sum()}\")\n",
    "for i in range(1,4):\n",
    "    n_fraud_scenario_i = len(transactions_df[transactions_df.TX_FRAUD_SCENARIO==i])\n",
    "    print(f\"Number of the fraudulent transactions scenario {i}: {n_fraud_scenario_i}\")\n",
    "transactions_df.rename(columns=lambda x: x.replace('_', '-')).head()"
   ]
  },
  {
   "cell_type": "markdown",
   "metadata": {},
   "source": [
    "## Creation of the Simulator Pipeline"
   ]
  },
  {
   "cell_type": "markdown",
   "metadata": {},
   "source": [
    "Having all the building blocks from the previous steps, we can aggregate all of them in a function that can singlehandedly generate the customer profiles, terminals, and the corresponding transactions for such customers. In addition, we also include the frauds at the last step of this function."
   ]
  },
  {
   "cell_type": "code",
   "execution_count": 12,
   "metadata": {},
   "outputs": [],
   "source": [
    "def generate_dataset(n_customers = 10000, n_terminals = 1000000, nb_days=90, start_date=\"2018-04-01\", r=5):\n",
    "    '''\n",
    "    Takes as inputs the number of desired customers, terminals and days, as well\n",
    "    as the starting date and the radius r. Returns the generated customer and\n",
    "    terminal profiles table, and the DataFrame of transactions.\n",
    "    '''\n",
    "    start_time=time.time()\n",
    "    customer_profiles_table = generate_customer_profiles_table(n_customers, random_state = 0)\n",
    "    run_time = datetime.datetime.utcfromtimestamp(time.time()-start_time).strftime('%M:%S:%f')[:-4]\n",
    "    print(f\"Time to generate customer profiles table: {run_time}\")\n",
    "\n",
    "    start_time=time.time()\n",
    "    terminal_profiles_table = generate_terminal_profiles_table(n_terminals, random_state = 1)\n",
    "    run_time = datetime.datetime.utcfromtimestamp(time.time()-start_time).strftime('%M:%S:%f')[:-4]\n",
    "    print(f\"Time to generate terminal profiles table: {run_time}\")\n",
    "\n",
    "    start_time=time.time()\n",
    "    x_y_terminals = terminal_profiles_table[['x_terminal_id','y_terminal_id']].values.astype(float)\n",
    "    customer_profiles_table['available_terminals'] = customer_profiles_table.apply(lambda x : get_list_terminals_within_radius(x, x_y_terminals=x_y_terminals, r=r), axis=1)\n",
    "    customer_profiles_table['nb_terminals']=customer_profiles_table.available_terminals.apply(len)\n",
    "    run_time = datetime.datetime.utcfromtimestamp(time.time()-start_time).strftime('%M:%S:%f')[:-4]\n",
    "    print(f\"Time to associate terminals to customers: {run_time}\")\n",
    "\n",
    "    start_time=time.time()\n",
    "    transactions_df=customer_profiles_table.groupby('CUSTOMER_ID').apply(lambda x : generate_transactions_table(x.iloc[0], nb_days=nb_days)).reset_index(drop=True)\n",
    "    run_time = datetime.datetime.utcfromtimestamp(time.time()-start_time).strftime('%M:%S:%f')[:-4]\n",
    "    print(f\"Time to generate transactions: {run_time}\")\n",
    "\n",
    "    # Sort transactions chronologically\n",
    "    transactions_df=transactions_df.sort_values('TX_DATETIME')\n",
    "    # Reset indices, starting from 0\n",
    "    transactions_df.reset_index(inplace=True,drop=True)\n",
    "    transactions_df.reset_index(inplace=True)\n",
    "    # TRANSACTION_ID are the dataframe indices, starting from 0\n",
    "    transactions_df.rename(columns = {'index':'TRANSACTION_ID'}, inplace = True)\n",
    "\n",
    "    # Adding the fraud data\n",
    "    transactions_df = add_frauds(customer_profiles_table, terminal_profiles_table, transactions_df)\n",
    "    return (customer_profiles_table, terminal_profiles_table, transactions_df)"
   ]
  },
  {
   "cell_type": "markdown",
   "metadata": {
    "id": "eJtt3VUpuVh4"
   },
   "source": [
    "# Transaction Graph"
   ]
  },
  {
   "cell_type": "markdown",
   "metadata": {},
   "source": [
    "## Generation of the transactions graph"
   ]
  },
  {
   "cell_type": "markdown",
   "metadata": {
    "id": "syFyUehDvnEX"
   },
   "source": [
    "Using the building blocks of the transaction data simulator, we will proceed with inserting the data to our Neo4j databases. The objective of this project is to first create 3 different databases of sizes 50Mb, 100Mb, and 200Mb, respectively. The following steps are taken sequentially to achieve this:\n",
    "\n",
    "- In the first step, we have to create a database in the Neo4j Desktop application, let's name it `TransactionGraph`. We set `user = \"neo4j\", password=\"12345678\"` as the required authentications.\n",
    "- We run the `TransactionGraph` on the default bold URI `bolt://localhost:7687`.\n",
    "- We attempt to create three different databases, namely `TG50`, `TG100`, and `TG200`, respectively. The naming convention denotes the desired size of data to be stored in each of the databases.\n",
    "- Using the Python cells below, we will insert the generated dataset for each of the databases separately, and automatically insert into the database. We will store the execution times to report later as well. It is important to mention that to achieve the mentioned goals on a local server containing the Neo4j Desctop application, we have to run the script locally (not on platforms like Google Colab)."
   ]
  },
  {
   "cell_type": "code",
   "execution_count": 13,
   "metadata": {},
   "outputs": [],
   "source": [
    "class Database:\n",
    "    def __init__(self):\n",
    "        self.batch_size = 200\n",
    "        self.auth = {\n",
    "            \"uri\": \"bolt://localhost:7687\",\n",
    "            \"user\": \"neo4j\",\n",
    "            \"password\": \"12345678\"\n",
    "        }\n",
    "        self.driver = GraphDatabase.driver(\n",
    "            self.auth['uri'],\n",
    "            auth=(self.auth['user'], self.auth['password'])\n",
    "        )\n",
    "        self.set_create_queries()\n",
    "        self.create_execution_times = dict()\n",
    "\n",
    "    def set_create_queries(self):\n",
    "        '''\n",
    "        For ease of use, we store all the \"create\" queries for adding new nodes/edges\n",
    "        in the class, which are easily accessible when needed\n",
    "        '''\n",
    "        \n",
    "        self.create_customer_query = \"\"\"\n",
    "            UNWIND $data AS customer\n",
    "            CREATE (c:Customer {\n",
    "                customer_id: customer['CUSTOMER_ID'],\n",
    "                x_customer_id: customer['x_customer_id'],\n",
    "                y_customer_id: customer['y_customer_id'],\n",
    "                mean_amount: customer['mean_amount'],\n",
    "                std_amount: customer['std_amount'],\n",
    "                mean_nb_tx_per_day: customer['mean_nb_tx_per_day'],\n",
    "                available_terminals: customer['available_terminals'],\n",
    "                nb_terminals: customer['nb_terminals']\n",
    "            })\n",
    "        \"\"\"\n",
    "        \n",
    "        self.create_terminal_query = \"\"\"\n",
    "            UNWIND $data AS terminal\n",
    "            CREATE (t:Terminal {\n",
    "                terminal_id: terminal['TERMINAL_ID'],\n",
    "                x_terminal_id: terminal['x_terminal_id'],\n",
    "                y_terminal_id: terminal['y_terminal_id']\n",
    "            })\n",
    "        \"\"\"\n",
    "        \n",
    "        self.create_transaction_query = \"\"\"\n",
    "            UNWIND $data AS transaction\n",
    "            MATCH (c:Customer {customer_id: transaction['CUSTOMER_ID']})\n",
    "            MATCH (t:Terminal {terminal_id: transaction['TERMINAL_ID']})\n",
    "            CREATE (c)-[:TRANSACTION {\n",
    "                transaction_id: transaction['TRANSACTION_ID'],\n",
    "                customer_id: transaction['CUSTOMER_ID'],\n",
    "                terminal_id: transaction['TERMINAL_ID'],\n",
    "                tx_datetime: transaction['TX_DATETIME'],\n",
    "                tx_amount: transaction['TX_AMOUNT'],\n",
    "                tx_time_seconds: transaction['TX_TIME_SECONDS'],\n",
    "                tx_time_days: transaction['TX_TIME_DAYS'],\n",
    "                tx_fraud: transaction['TX_FRAUD'],\n",
    "                tx_fraud_scenario: transaction['TX_FRAUD_SCENARIO']\n",
    "            }]->(t)\n",
    "        \"\"\"\n",
    "        \n",
    "    def print_data_size(self, customer_profiles_table, terminal_profiles_table, transactions_df):\n",
    "        '''\n",
    "        It is difficult to estimate the exact size of the database before storing it,\n",
    "        hence we use `memory_usage` of DataFrames to estimate an approximate value\n",
    "        '''\n",
    "        # Computing the total storage size of data\n",
    "        dataframes = [customer_profiles_table, terminal_profiles_table, transactions_df]\n",
    "        total_memory_mb = sum(df.memory_usage(deep=True).sum() for df in dataframes) / (1024 * 1024)\n",
    "        print(f\"Total storage size of data: {total_memory_mb:.2f} MB\")\n",
    "\n",
    "    def transform_data(self, customer_profiles_table, terminal_profiles_table, transactions_df):\n",
    "        '''\n",
    "        In order to insert the data into Neo4j database using Python connector, we need\n",
    "        to transform the DataFrame objects into lists of JSONs. Next, to prevent the \n",
    "        session breaks and enhance the data insertion into the graph, we transform the\n",
    "        obtained list into batches of JSONs\n",
    "        '''\n",
    "        \n",
    "        # Convert DataFrames to lists of dictionaries\n",
    "        customers_data = customer_profiles_table.to_dict(orient='records')\n",
    "        terminals_data = terminal_profiles_table.to_dict(orient='records')\n",
    "        transactions_data = transactions_df.to_dict(orient='records')\n",
    "    \n",
    "        # Create batches of data for efficient insertion\n",
    "        batch_creator = lambda data: \\\n",
    "            [data[i:i + self.batch_size] for i in range(0, len(data), self.batch_size)]\n",
    "        customers_batch = batch_creator(customers_data)\n",
    "        terminals_batch = batch_creator(terminals_data)\n",
    "        transactions_batch = batch_creator(transactions_data)\n",
    "        return customers_batch, terminals_batch, transactions_batch\n",
    "\n",
    "    def batch_insert(self, session, query, data_batch, data_type):\n",
    "        '''\n",
    "        This function runs a single \"create\" query on Neo4j and displays a progress bar\n",
    "        showing the amount of time taken to insert the data\n",
    "        '''\n",
    "        progressBar = tqdm(data_batch)\n",
    "        for i, batch in enumerate(progressBar):\n",
    "            progressBar.set_description(f'Inserting {data_type} data (batches of size {self.batch_size})')\n",
    "            session.run(query, data=batch)\n",
    "\n",
    "    def batch_insert_into_db(self, database, customers_batch, terminals_batch, transactions_batch):\n",
    "        '''\n",
    "        This function utilizes the `batch_insert` function to run the create queries\n",
    "        on the suggested database within Neo4j, and insert the data as a graph\n",
    "        '''\n",
    "        with self.driver.session(database=database) as session:\n",
    "            t_start = time.time()\n",
    "            self.batch_insert(session, self.create_customer_query, customers_batch, data_type='customers')\n",
    "            self.batch_insert(session, self.create_terminal_query, terminals_batch, data_type='terminals')\n",
    "            self.batch_insert(session, self.create_transaction_query, transactions_batch, data_type='transactions')\n",
    "            t_end = time.time()\n",
    "            self.create_execution_times[database] = t_start - t_start\n",
    "    \n",
    "    def __del__(self):\n",
    "        self.driver.close()\n",
    "\n",
    "db = Database()"
   ]
  },
  {
   "cell_type": "code",
   "execution_count": 14,
   "metadata": {
    "id": "SbASinEklFet"
   },
   "outputs": [],
   "source": [
    "def create_transaction_graph(customer_profiles_table, terminal_profiles_table, transactions_df, database):\n",
    "    # Inserting the data into Neo4j Graph\n",
    "    db.print_data_size(customer_profiles_table, terminal_profiles_table, transactions_df)\n",
    "    customers_batch, terminals_batch, transactions_batch = db.transform_data(\n",
    "        customer_profiles_table,\n",
    "        terminal_profiles_table,\n",
    "        transactions_df\n",
    "    )\n",
    "    db.batch_insert_into_db(database, customers_batch, terminals_batch, transactions_batch)"
   ]
  },
  {
   "cell_type": "markdown",
   "metadata": {
    "id": "R49sNgz0kD3b"
   },
   "source": [
    "## Transaction Graph (50Mb)"
   ]
  },
  {
   "cell_type": "code",
   "execution_count": 15,
   "metadata": {
    "id": "DdeY2YYC0C_9"
   },
   "outputs": [
    {
     "name": "stdout",
     "output_type": "stream",
     "text": [
      "Time to generate customer profiles table: 00:00:00\n",
      "Time to generate terminal profiles table: 00:00:00\n",
      "Time to associate terminals to customers: 00:00:01\n",
      "Time to generate transactions: 00:00:34\n",
      "Number of frauds from scenario 1: 0\n",
      "Number of frauds from scenario 2: 574\n",
      "Number of frauds from scenario 3: 76\n",
      "Time to add fraudulent transactions: 00:00:89\n"
     ]
    }
   ],
   "source": [
    "# Generate the dataset using the simulator\n",
    "(customer_profiles_table, terminal_profiles_table, transactions_df) = generate_dataset(\n",
    "    n_customers=8,\n",
    "    n_terminals=16,\n",
    "    nb_days=185,\n",
    "    start_date=\"2023-08-01\",\n",
    "    r=5\n",
    ")"
   ]
  },
  {
   "cell_type": "code",
   "execution_count": 16,
   "metadata": {},
   "outputs": [
    {
     "name": "stdout",
     "output_type": "stream",
     "text": [
      "Total storage size of data: 0.12 MB\n"
     ]
    },
    {
     "data": {
      "application/vnd.jupyter.widget-view+json": {
       "model_id": "73756e5ba40445379923399d1831dea3",
       "version_major": 2,
       "version_minor": 0
      },
      "text/plain": [
       "  0%|          | 0/1 [00:00<?, ?it/s]"
      ]
     },
     "metadata": {},
     "output_type": "display_data"
    },
    {
     "data": {
      "application/vnd.jupyter.widget-view+json": {
       "model_id": "fc56e80dc2574f8da4ecfe9c2af13185",
       "version_major": 2,
       "version_minor": 0
      },
      "text/plain": [
       "  0%|          | 0/1 [00:00<?, ?it/s]"
      ]
     },
     "metadata": {},
     "output_type": "display_data"
    },
    {
     "data": {
      "application/vnd.jupyter.widget-view+json": {
       "model_id": "8ee673c7d60146fdaa96a2e1b5b27514",
       "version_major": 2,
       "version_minor": 0
      },
      "text/plain": [
       "  0%|          | 0/4 [00:00<?, ?it/s]"
      ]
     },
     "metadata": {},
     "output_type": "display_data"
    }
   ],
   "source": [
    "# Inserting the generated data in the Neo4j database named \"TG50\"\n",
    "create_transaction_graph(customer_profiles_table, terminal_profiles_table, transactions_df, database='TG50')"
   ]
  },
  {
   "cell_type": "code",
   "execution_count": 17,
   "metadata": {},
   "outputs": [],
   "source": [
    "# %%capture\n",
    "\n",
    "# distribution_amount_times_fig, ax = plt.subplots(1, 2, figsize=(18,4))\n",
    "# amount_val = transactions_df[transactions_df.TX_TIME_DAYS<10]['TX_AMOUNT'].sample(n=10000).values\n",
    "# time_val = transactions_df[transactions_df.TX_TIME_DAYS<10]['TX_TIME_SECONDS'].sample(n=10000).values\n",
    "\n",
    "# sns.distplot(amount_val, ax=ax[0], color='r', hist = True, kde = False)\n",
    "# ax[0].set_title('Distribution of transaction amounts', fontsize=14)\n",
    "# ax[0].set_xlim([min(amount_val), max(amount_val)])\n",
    "# ax[0].set(xlabel = \"Amount\", ylabel=\"Number of transactions\")\n",
    "\n",
    "# # We divide the time variables by 86400 to transform seconds to days in the plot\n",
    "# sns.distplot(time_val/86400, ax=ax[1], color='b', bins = 100, hist = True, kde = False)\n",
    "# ax[1].set_title('Distribution of transaction times', fontsize=14)\n",
    "# ax[1].set_xlim([min(time_val/86400), max(time_val/86400)])\n",
    "# ax[1].set_xticks(range(10))\n",
    "# ax[1].set(xlabel = \"Time (days)\", ylabel=\"Number of transactions\")"
   ]
  },
  {
   "cell_type": "code",
   "execution_count": 18,
   "metadata": {},
   "outputs": [],
   "source": [
    "# distribution_amount_times_fig"
   ]
  },
  {
   "cell_type": "code",
   "execution_count": null,
   "metadata": {},
   "outputs": [],
   "source": []
  },
  {
   "cell_type": "code",
   "execution_count": 19,
   "metadata": {},
   "outputs": [],
   "source": [
    "# def get_stats(transactions_df):\n",
    "#     #Number of transactions per day\n",
    "#     nb_tx_per_day=transactions_df.groupby(['TX_TIME_DAYS'])['CUSTOMER_ID'].count()\n",
    "#     #Number of fraudulent transactions per day\n",
    "#     nb_fraud_per_day=transactions_df.groupby(['TX_TIME_DAYS'])['TX_FRAUD'].sum()\n",
    "#     #Number of fraudulent cards per day\n",
    "#     nb_fraudcard_per_day=transactions_df[transactions_df['TX_FRAUD']>0].groupby(['TX_TIME_DAYS']).CUSTOMER_ID.nunique()\n",
    "\n",
    "#     return (nb_tx_per_day,nb_fraud_per_day,nb_fraudcard_per_day)\n",
    "\n",
    "# (nb_tx_per_day,nb_fraud_per_day,nb_fraudcard_per_day)=get_stats(transactions_df)\n",
    "\n",
    "# n_days=len(nb_tx_per_day)\n",
    "# tx_stats=pd.DataFrame({\"value\":pd.concat([nb_tx_per_day/50,nb_fraud_per_day,nb_fraudcard_per_day])})\n",
    "# tx_stats['stat_type']=[\"nb_tx_per_day\"]*n_days+[\"nb_fraud_per_day\"]*n_days+[\"nb_fraudcard_per_day\"]*n_days\n",
    "# tx_stats=tx_stats.reset_index()"
   ]
  },
  {
   "cell_type": "code",
   "execution_count": 20,
   "metadata": {},
   "outputs": [],
   "source": [
    "# %%capture\n",
    "\n",
    "# sns.set(style='darkgrid')\n",
    "# sns.set(font_scale=1.4)\n",
    "\n",
    "# fraud_and_transactions_stats_fig = plt.gcf()\n",
    "# fraud_and_transactions_stats_fig.set_size_inches(15, 8)\n",
    "# sns_plot = sns.lineplot(x=\"TX_TIME_DAYS\", y=\"value\", data=tx_stats, hue=\"stat_type\", hue_order=[\"nb_tx_per_day\",\"nb_fraud_per_day\",\"nb_fraudcard_per_day\"], legend=False)\n",
    "# sns_plot.set_title('Total transactions, and number of fraudulent transactions \\n and number of compromised cards per day', fontsize=20)\n",
    "# sns_plot.set(xlabel = \"Number of days since beginning of data generation\", ylabel=\"Number\")\n",
    "# sns_plot.set_ylim([0,300])\n",
    "# labels_legend = [\"# transactions per day (/50)\", \"# fraudulent txs per day\", \"# fraudulent cards per day\"]\n",
    "# sns_plot.legend(loc='upper left', labels=labels_legend,bbox_to_anchor=(1.05, 1), fontsize=15)"
   ]
  },
  {
   "cell_type": "code",
   "execution_count": 21,
   "metadata": {},
   "outputs": [],
   "source": [
    "# fraud_and_transactions_stats_fig"
   ]
  },
  {
   "cell_type": "code",
   "execution_count": null,
   "metadata": {},
   "outputs": [],
   "source": []
  },
  {
   "cell_type": "markdown",
   "metadata": {
    "id": "l5XNElHWktBs"
   },
   "source": [
    "## Transaction Graph (100Mb)"
   ]
  },
  {
   "cell_type": "code",
   "execution_count": 22,
   "metadata": {
    "colab": {
     "base_uri": "https://localhost:8080/"
    },
    "id": "3M5ixynugSRL",
    "outputId": "4d722667-0ec2-430a-adc3-52f6841f2125"
   },
   "outputs": [
    {
     "name": "stdout",
     "output_type": "stream",
     "text": [
      "Time to generate customer profiles table: 00:00:00\n",
      "Time to generate terminal profiles table: 00:00:00\n",
      "Time to associate terminals to customers: 00:00:02\n",
      "Time to generate transactions: 00:00:45\n",
      "Number of frauds from scenario 1: 0\n",
      "Number of frauds from scenario 2: 1212\n",
      "Number of frauds from scenario 3: 204\n",
      "Time to add fraudulent transactions: 00:01:20\n"
     ]
    }
   ],
   "source": [
    "# Generate the dataset using the simulator\n",
    "(customer_profiles_table, terminal_profiles_table, transactions_df) = generate_dataset(\n",
    "    n_customers=16,\n",
    "    n_terminals=32,\n",
    "    nb_days=185,\n",
    "    start_date=\"2023-08-01\",\n",
    "    r=5\n",
    ")"
   ]
  },
  {
   "cell_type": "code",
   "execution_count": 23,
   "metadata": {},
   "outputs": [
    {
     "name": "stdout",
     "output_type": "stream",
     "text": [
      "Total storage size of data: 0.28 MB\n"
     ]
    },
    {
     "data": {
      "application/vnd.jupyter.widget-view+json": {
       "model_id": "3b7e93f07e614f3e84ea6ff8b2f5b73e",
       "version_major": 2,
       "version_minor": 0
      },
      "text/plain": [
       "  0%|          | 0/1 [00:00<?, ?it/s]"
      ]
     },
     "metadata": {},
     "output_type": "display_data"
    },
    {
     "data": {
      "application/vnd.jupyter.widget-view+json": {
       "model_id": "6c3577d0ce2842ac9e53d531fed341ab",
       "version_major": 2,
       "version_minor": 0
      },
      "text/plain": [
       "  0%|          | 0/1 [00:00<?, ?it/s]"
      ]
     },
     "metadata": {},
     "output_type": "display_data"
    },
    {
     "data": {
      "application/vnd.jupyter.widget-view+json": {
       "model_id": "8eee592084ed461dbbe823daa8cc2111",
       "version_major": 2,
       "version_minor": 0
      },
      "text/plain": [
       "  0%|          | 0/9 [00:00<?, ?it/s]"
      ]
     },
     "metadata": {},
     "output_type": "display_data"
    }
   ],
   "source": [
    "# Inserting the generated data in the Neo4j database named \"TG50\"\n",
    "create_transaction_graph(customer_profiles_table, terminal_profiles_table, transactions_df, database='TG100')"
   ]
  },
  {
   "cell_type": "markdown",
   "metadata": {
    "id": "oqSZAXlBkxRQ"
   },
   "source": [
    "## Transaction Graph (200Mb)"
   ]
  },
  {
   "cell_type": "code",
   "execution_count": 24,
   "metadata": {},
   "outputs": [
    {
     "name": "stdout",
     "output_type": "stream",
     "text": [
      "Time to generate customer profiles table: 00:00:00\n",
      "Time to generate terminal profiles table: 00:00:00\n",
      "Time to associate terminals to customers: 00:00:03\n",
      "Time to generate transactions: 00:00:65\n",
      "Number of frauds from scenario 1: 0\n",
      "Number of frauds from scenario 2: 1584\n",
      "Number of frauds from scenario 3: 630\n",
      "Time to add fraudulent transactions: 00:01:11\n"
     ]
    }
   ],
   "source": [
    "# Generate the dataset using the simulator\n",
    "(customer_profiles_table, terminal_profiles_table, transactions_df) = generate_dataset(\n",
    "    n_customers=32,\n",
    "    n_terminals=64,\n",
    "    nb_days=185,\n",
    "    start_date=\"2023-08-01\",\n",
    "    r=5\n",
    ")"
   ]
  },
  {
   "cell_type": "code",
   "execution_count": 25,
   "metadata": {
    "id": "UkDAOIvtg9o4"
   },
   "outputs": [
    {
     "name": "stdout",
     "output_type": "stream",
     "text": [
      "Total storage size of data: 0.63 MB\n"
     ]
    },
    {
     "data": {
      "application/vnd.jupyter.widget-view+json": {
       "model_id": "340a29d328e2435e9ee57c93e26df1dd",
       "version_major": 2,
       "version_minor": 0
      },
      "text/plain": [
       "  0%|          | 0/1 [00:00<?, ?it/s]"
      ]
     },
     "metadata": {},
     "output_type": "display_data"
    },
    {
     "data": {
      "application/vnd.jupyter.widget-view+json": {
       "model_id": "e4ceac7de73e4e298cd9be4efd8db50e",
       "version_major": 2,
       "version_minor": 0
      },
      "text/plain": [
       "  0%|          | 0/1 [00:00<?, ?it/s]"
      ]
     },
     "metadata": {},
     "output_type": "display_data"
    },
    {
     "data": {
      "application/vnd.jupyter.widget-view+json": {
       "model_id": "b97c25732b67498cb4cf0917e74b0838",
       "version_major": 2,
       "version_minor": 0
      },
      "text/plain": [
       "  0%|          | 0/18 [00:00<?, ?it/s]"
      ]
     },
     "metadata": {},
     "output_type": "display_data"
    }
   ],
   "source": [
    "# Inserting the generated data in the Neo4j database named \"TG50\"\n",
    "create_transaction_graph(customer_profiles_table, terminal_profiles_table, transactions_df, database='TG200')"
   ]
  },
  {
   "cell_type": "code",
   "execution_count": 26,
   "metadata": {},
   "outputs": [
    {
     "data": {
      "text/plain": [
       "[Text(0.5, 0, 'Graph Database Name'), Text(0, 0.5, 'Time (s)')]"
      ]
     },
     "execution_count": 26,
     "metadata": {},
     "output_type": "execute_result"
    },
    {
     "data": {
      "image/png": "[encoded data removed]",
      "text/plain": [
       "<Figure size 800x400 with 1 Axes>"
      ]
     },
     "metadata": {},
     "output_type": "display_data"
    }
   ],
   "source": [
    "fig, ax = plt.subplots(figsize=(8, 4))\n",
    "sns.barplot(x=db.create_execution_times.keys(), y=db.create_execution_times.values(), ax=ax)\n",
    "ax.set_title('Execution Times for Different Graph Generations', fontsize=14)\n",
    "ax.set(xlabel='Graph Database Name', ylabel='Time (s)')"
   ]
  },
  {
   "cell_type": "markdown",
   "metadata": {},
   "source": [
    "### Constraints\n",
    "- The `available_terminals` property of a `CUSTOMER` does not necessarily reflect the `TERMINAL` nodes to which the customer is connected. This property only demonstrates the terminals located in the specified radius of the customer (in a 100 by 100 grid), and are accessible by the customer. Then, to create the graph, these terminals are randomly selected, hence they might not reflect all the connected edges. In addition, since this property holds a list, it might explode when the number of terminals in the radius increases. The property does not add any value to our analysis, so we can discard it from the domain."
   ]
  }
 ],
 "metadata": {
  "colab": {
   "collapsed_sections": [
    "pkALJkvd71Dk",
    "5UZ_pWl_91iC",
    "QUkbYpBr-nZJ",
    "9VFIvADFlYFE",
    "cly2S6HSdkZH",
    "iL_1WoWCsaRd"
   ],
   "provenance": []
  },
  "kernelspec": {
   "display_name": "Python 3 (ipykernel)",
   "language": "python",
   "name": "python3"
  },
  "language_info": {
   "codemirror_mode": {
    "name": "ipython",
    "version": 3
   },
   "file_extension": ".py",
   "mimetype": "text/x-python",
   "name": "python",
   "nbconvert_exporter": "python",
   "pygments_lexer": "ipython3",
   "version": "3.9.13"
  },
  "widgets": {
   "application/vnd.jupyter.widget-state+json": {
    "0462260db2ef4ddfa72439b9be7232f3": {
     "model_module": "@jupyter-widgets/controls",
     "model_module_version": "1.5.0",
     "model_name": "HTMLModel",
     "state": {
      "_dom_classes": [],
      "_model_module": "@jupyter-widgets/controls",
      "_model_module_version": "1.5.0",
      "_model_name": "HTMLModel",
      "_view_count": null,
      "_view_module": "@jupyter-widgets/controls",
      "_view_module_version": "1.5.0",
      "_view_name": "HTMLView",
      "description": "",
      "description_tooltip": null,
      "layout": "IPY_MODEL_57389c49c1cc427ba20f8e3825740b5b",
      "placeholder": "​",
      "style": "IPY_MODEL_9cec965eba8547da900c07cdef414aa6",
      "value": " 10/10 [00:01&lt;00:00,  8.74it/s]"
     }
    },
    "09688b89a5f7441988ac4139fd0691c1": {
     "model_module": "@jupyter-widgets/controls",
     "model_module_version": "1.5.0",
     "model_name": "ProgressStyleModel",
     "state": {
      "_model_module": "@jupyter-widgets/controls",
      "_model_module_version": "1.5.0",
      "_model_name": "ProgressStyleModel",
      "_view_count": null,
      "_view_module": "@jupyter-widgets/base",
      "_view_module_version": "1.2.0",
      "_view_name": "StyleView",
      "bar_color": null,
      "description_width": ""
     }
    },
    "0bb5257a528b43c7a0853caf7adf88f9": {
     "model_module": "@jupyter-widgets/controls",
     "model_module_version": "1.5.0",
     "model_name": "HTMLModel",
     "state": {
      "_dom_classes": [],
      "_model_module": "@jupyter-widgets/controls",
      "_model_module_version": "1.5.0",
      "_model_name": "HTMLModel",
      "_view_count": null,
      "_view_module": "@jupyter-widgets/controls",
      "_view_module_version": "1.5.0",
      "_view_name": "HTMLView",
      "description": "",
      "description_tooltip": null,
      "layout": "IPY_MODEL_2169e2cc79da4139b0a741d29c31e7de",
      "placeholder": "​",
      "style": "IPY_MODEL_ae77775d82bc45c39ca4fa875ffc431e",
      "value": "Inserting terminals data (batches of size 200): 100%"
     }
    },
    "1dbf63c5457e4fadad34f5476f00bf7c": {
     "model_module": "@jupyter-widgets/controls",
     "model_module_version": "1.5.0",
     "model_name": "ProgressStyleModel",
     "state": {
      "_model_module": "@jupyter-widgets/controls",
      "_model_module_version": "1.5.0",
      "_model_name": "ProgressStyleModel",
      "_view_count": null,
      "_view_module": "@jupyter-widgets/base",
      "_view_module_version": "1.2.0",
      "_view_name": "StyleView",
      "bar_color": null,
      "description_width": ""
     }
    },
    "2169e2cc79da4139b0a741d29c31e7de": {
     "model_module": "@jupyter-widgets/base",
     "model_module_version": "1.2.0",
     "model_name": "LayoutModel",
     "state": {
      "_model_module": "@jupyter-widgets/base",
      "_model_module_version": "1.2.0",
      "_model_name": "LayoutModel",
      "_view_count": null,
      "_view_module": "@jupyter-widgets/base",
      "_view_module_version": "1.2.0",
      "_view_name": "LayoutView",
      "align_content": null,
      "align_items": null,
      "align_self": null,
      "border": null,
      "bottom": null,
      "display": null,
      "flex": null,
      "flex_flow": null,
      "grid_area": null,
      "grid_auto_columns": null,
      "grid_auto_flow": null,
      "grid_auto_rows": null,
      "grid_column": null,
      "grid_gap": null,
      "grid_row": null,
      "grid_template_areas": null,
      "grid_template_columns": null,
      "grid_template_rows": null,
      "height": null,
      "justify_content": null,
      "justify_items": null,
      "left": null,
      "margin": null,
      "max_height": null,
      "max_width": null,
      "min_height": null,
      "min_width": null,
      "object_fit": null,
      "object_position": null,
      "order": null,
      "overflow": null,
      "overflow_x": null,
      "overflow_y": null,
      "padding": null,
      "right": null,
      "top": null,
      "visibility": null,
      "width": null
     }
    },
    "29bccb4b26ec495c8362b4111c6b96d1": {
     "model_module": "@jupyter-widgets/controls",
     "model_module_version": "1.5.0",
     "model_name": "FloatProgressModel",
     "state": {
      "_dom_classes": [],
      "_model_module": "@jupyter-widgets/controls",
      "_model_module_version": "1.5.0",
      "_model_name": "FloatProgressModel",
      "_view_count": null,
      "_view_module": "@jupyter-widgets/controls",
      "_view_module_version": "1.5.0",
      "_view_name": "ProgressView",
      "bar_style": "success",
      "description": "",
      "description_tooltip": null,
      "layout": "IPY_MODEL_d3f0dcfeaebc490aa548599ce4116e73",
      "max": 10,
      "min": 0,
      "orientation": "horizontal",
      "style": "IPY_MODEL_1dbf63c5457e4fadad34f5476f00bf7c",
      "value": 10
     }
    },
    "365377a188114657aa24bf7a0a5a1d4f": {
     "model_module": "@jupyter-widgets/base",
     "model_module_version": "1.2.0",
     "model_name": "LayoutModel",
     "state": {
      "_model_module": "@jupyter-widgets/base",
      "_model_module_version": "1.2.0",
      "_model_name": "LayoutModel",
      "_view_count": null,
      "_view_module": "@jupyter-widgets/base",
      "_view_module_version": "1.2.0",
      "_view_name": "LayoutView",
      "align_content": null,
      "align_items": null,
      "align_self": null,
      "border": null,
      "bottom": null,
      "display": null,
      "flex": null,
      "flex_flow": null,
      "grid_area": null,
      "grid_auto_columns": null,
      "grid_auto_flow": null,
      "grid_auto_rows": null,
      "grid_column": null,
      "grid_gap": null,
      "grid_row": null,
      "grid_template_areas": null,
      "grid_template_columns": null,
      "grid_template_rows": null,
      "height": null,
      "justify_content": null,
      "justify_items": null,
      "left": null,
      "margin": null,
      "max_height": null,
      "max_width": null,
      "min_height": null,
      "min_width": null,
      "object_fit": null,
      "object_position": null,
      "order": null,
      "overflow": null,
      "overflow_x": null,
      "overflow_y": null,
      "padding": null,
      "right": null,
      "top": null,
      "visibility": null,
      "width": null
     }
    },
    "4173cb1b62ff4d6d882bb919be3b4fe6": {
     "model_module": "@jupyter-widgets/base",
     "model_module_version": "1.2.0",
     "model_name": "LayoutModel",
     "state": {
      "_model_module": "@jupyter-widgets/base",
      "_model_module_version": "1.2.0",
      "_model_name": "LayoutModel",
      "_view_count": null,
      "_view_module": "@jupyter-widgets/base",
      "_view_module_version": "1.2.0",
      "_view_name": "LayoutView",
      "align_content": null,
      "align_items": null,
      "align_self": null,
      "border": null,
      "bottom": null,
      "display": null,
      "flex": null,
      "flex_flow": null,
      "grid_area": null,
      "grid_auto_columns": null,
      "grid_auto_flow": null,
      "grid_auto_rows": null,
      "grid_column": null,
      "grid_gap": null,
      "grid_row": null,
      "grid_template_areas": null,
      "grid_template_columns": null,
      "grid_template_rows": null,
      "height": null,
      "justify_content": null,
      "justify_items": null,
      "left": null,
      "margin": null,
      "max_height": null,
      "max_width": null,
      "min_height": null,
      "min_width": null,
      "object_fit": null,
      "object_position": null,
      "order": null,
      "overflow": null,
      "overflow_x": null,
      "overflow_y": null,
      "padding": null,
      "right": null,
      "top": null,
      "visibility": null,
      "width": null
     }
    },
    "509899dae161407ab2f39bf0fdec6920": {
     "model_module": "@jupyter-widgets/base",
     "model_module_version": "1.2.0",
     "model_name": "LayoutModel",
     "state": {
      "_model_module": "@jupyter-widgets/base",
      "_model_module_version": "1.2.0",
      "_model_name": "LayoutModel",
      "_view_count": null,
      "_view_module": "@jupyter-widgets/base",
      "_view_module_version": "1.2.0",
      "_view_name": "LayoutView",
      "align_content": null,
      "align_items": null,
      "align_self": null,
      "border": null,
      "bottom": null,
      "display": null,
      "flex": null,
      "flex_flow": null,
      "grid_area": null,
      "grid_auto_columns": null,
      "grid_auto_flow": null,
      "grid_auto_rows": null,
      "grid_column": null,
      "grid_gap": null,
      "grid_row": null,
      "grid_template_areas": null,
      "grid_template_columns": null,
      "grid_template_rows": null,
      "height": null,
      "justify_content": null,
      "justify_items": null,
      "left": null,
      "margin": null,
      "max_height": null,
      "max_width": null,
      "min_height": null,
      "min_width": null,
      "object_fit": null,
      "object_position": null,
      "order": null,
      "overflow": null,
      "overflow_x": null,
      "overflow_y": null,
      "padding": null,
      "right": null,
      "top": null,
      "visibility": null,
      "width": null
     }
    },
    "57389c49c1cc427ba20f8e3825740b5b": {
     "model_module": "@jupyter-widgets/base",
     "model_module_version": "1.2.0",
     "model_name": "LayoutModel",
     "state": {
      "_model_module": "@jupyter-widgets/base",
      "_model_module_version": "1.2.0",
      "_model_name": "LayoutModel",
      "_view_count": null,
      "_view_module": "@jupyter-widgets/base",
      "_view_module_version": "1.2.0",
      "_view_name": "LayoutView",
      "align_content": null,
      "align_items": null,
      "align_self": null,
      "border": null,
      "bottom": null,
      "display": null,
      "flex": null,
      "flex_flow": null,
      "grid_area": null,
      "grid_auto_columns": null,
      "grid_auto_flow": null,
      "grid_auto_rows": null,
      "grid_column": null,
      "grid_gap": null,
      "grid_row": null,
      "grid_template_areas": null,
      "grid_template_columns": null,
      "grid_template_rows": null,
      "height": null,
      "justify_content": null,
      "justify_items": null,
      "left": null,
      "margin": null,
      "max_height": null,
      "max_width": null,
      "min_height": null,
      "min_width": null,
      "object_fit": null,
      "object_position": null,
      "order": null,
      "overflow": null,
      "overflow_x": null,
      "overflow_y": null,
      "padding": null,
      "right": null,
      "top": null,
      "visibility": null,
      "width": null
     }
    },
    "58635d61aac940d99c092dd25f3a8fff": {
     "model_module": "@jupyter-widgets/controls",
     "model_module_version": "1.5.0",
     "model_name": "HTMLModel",
     "state": {
      "_dom_classes": [],
      "_model_module": "@jupyter-widgets/controls",
      "_model_module_version": "1.5.0",
      "_model_name": "HTMLModel",
      "_view_count": null,
      "_view_module": "@jupyter-widgets/controls",
      "_view_module_version": "1.5.0",
      "_view_name": "HTMLView",
      "description": "",
      "description_tooltip": null,
      "layout": "IPY_MODEL_4173cb1b62ff4d6d882bb919be3b4fe6",
      "placeholder": "​",
      "style": "IPY_MODEL_c34b3cc7c1554ec7b337d1b44a50b23e",
      "value": " 1709/1709 [12:00&lt;00:00,  2.26it/s]"
     }
    },
    "6038333e1ce64b0ca074159f5c6c7025": {
     "model_module": "@jupyter-widgets/controls",
     "model_module_version": "1.5.0",
     "model_name": "HTMLModel",
     "state": {
      "_dom_classes": [],
      "_model_module": "@jupyter-widgets/controls",
      "_model_module_version": "1.5.0",
      "_model_name": "HTMLModel",
      "_view_count": null,
      "_view_module": "@jupyter-widgets/controls",
      "_view_module_version": "1.5.0",
      "_view_name": "HTMLView",
      "description": "",
      "description_tooltip": null,
      "layout": "IPY_MODEL_509899dae161407ab2f39bf0fdec6920",
      "placeholder": "​",
      "style": "IPY_MODEL_ace27a0e7b1c466db30d6ae8b8d5d2f0",
      "value": "Inserting transactions data (batches of size 200): 100%"
     }
    },
    "619c4a3140af4efdb424359fc8150688": {
     "model_module": "@jupyter-widgets/controls",
     "model_module_version": "1.5.0",
     "model_name": "DescriptionStyleModel",
     "state": {
      "_model_module": "@jupyter-widgets/controls",
      "_model_module_version": "1.5.0",
      "_model_name": "DescriptionStyleModel",
      "_view_count": null,
      "_view_module": "@jupyter-widgets/base",
      "_view_module_version": "1.2.0",
      "_view_name": "StyleView",
      "description_width": ""
     }
    },
    "6b311740f4264beeb3b82f783375261e": {
     "model_module": "@jupyter-widgets/controls",
     "model_module_version": "1.5.0",
     "model_name": "HTMLModel",
     "state": {
      "_dom_classes": [],
      "_model_module": "@jupyter-widgets/controls",
      "_model_module_version": "1.5.0",
      "_model_name": "HTMLModel",
      "_view_count": null,
      "_view_module": "@jupyter-widgets/controls",
      "_view_module_version": "1.5.0",
      "_view_name": "HTMLView",
      "description": "",
      "description_tooltip": null,
      "layout": "IPY_MODEL_8ecbcb1e9cdd405aa279a3e1103d9b17",
      "placeholder": "​",
      "style": "IPY_MODEL_619c4a3140af4efdb424359fc8150688",
      "value": " 5/5 [00:02&lt;00:00,  2.81it/s]"
     }
    },
    "6fa5374b9a8b43cf86f5c7b189fa1560": {
     "model_module": "@jupyter-widgets/base",
     "model_module_version": "1.2.0",
     "model_name": "LayoutModel",
     "state": {
      "_model_module": "@jupyter-widgets/base",
      "_model_module_version": "1.2.0",
      "_model_name": "LayoutModel",
      "_view_count": null,
      "_view_module": "@jupyter-widgets/base",
      "_view_module_version": "1.2.0",
      "_view_name": "LayoutView",
      "align_content": null,
      "align_items": null,
      "align_self": null,
      "border": null,
      "bottom": null,
      "display": null,
      "flex": null,
      "flex_flow": null,
      "grid_area": null,
      "grid_auto_columns": null,
      "grid_auto_flow": null,
      "grid_auto_rows": null,
      "grid_column": null,
      "grid_gap": null,
      "grid_row": null,
      "grid_template_areas": null,
      "grid_template_columns": null,
      "grid_template_rows": null,
      "height": null,
      "justify_content": null,
      "justify_items": null,
      "left": null,
      "margin": null,
      "max_height": null,
      "max_width": null,
      "min_height": null,
      "min_width": null,
      "object_fit": null,
      "object_position": null,
      "order": null,
      "overflow": null,
      "overflow_x": null,
      "overflow_y": null,
      "padding": null,
      "right": null,
      "top": null,
      "visibility": null,
      "width": null
     }
    },
    "86c40618860c4272b6dd6474dc0ca0cd": {
     "model_module": "@jupyter-widgets/controls",
     "model_module_version": "1.5.0",
     "model_name": "DescriptionStyleModel",
     "state": {
      "_model_module": "@jupyter-widgets/controls",
      "_model_module_version": "1.5.0",
      "_model_name": "DescriptionStyleModel",
      "_view_count": null,
      "_view_module": "@jupyter-widgets/base",
      "_view_module_version": "1.2.0",
      "_view_name": "StyleView",
      "description_width": ""
     }
    },
    "8ecbcb1e9cdd405aa279a3e1103d9b17": {
     "model_module": "@jupyter-widgets/base",
     "model_module_version": "1.2.0",
     "model_name": "LayoutModel",
     "state": {
      "_model_module": "@jupyter-widgets/base",
      "_model_module_version": "1.2.0",
      "_model_name": "LayoutModel",
      "_view_count": null,
      "_view_module": "@jupyter-widgets/base",
      "_view_module_version": "1.2.0",
      "_view_name": "LayoutView",
      "align_content": null,
      "align_items": null,
      "align_self": null,
      "border": null,
      "bottom": null,
      "display": null,
      "flex": null,
      "flex_flow": null,
      "grid_area": null,
      "grid_auto_columns": null,
      "grid_auto_flow": null,
      "grid_auto_rows": null,
      "grid_column": null,
      "grid_gap": null,
      "grid_row": null,
      "grid_template_areas": null,
      "grid_template_columns": null,
      "grid_template_rows": null,
      "height": null,
      "justify_content": null,
      "justify_items": null,
      "left": null,
      "margin": null,
      "max_height": null,
      "max_width": null,
      "min_height": null,
      "min_width": null,
      "object_fit": null,
      "object_position": null,
      "order": null,
      "overflow": null,
      "overflow_x": null,
      "overflow_y": null,
      "padding": null,
      "right": null,
      "top": null,
      "visibility": null,
      "width": null
     }
    },
    "91bf6494f5574108903b49d66a347844": {
     "model_module": "@jupyter-widgets/controls",
     "model_module_version": "1.5.0",
     "model_name": "FloatProgressModel",
     "state": {
      "_dom_classes": [],
      "_model_module": "@jupyter-widgets/controls",
      "_model_module_version": "1.5.0",
      "_model_name": "FloatProgressModel",
      "_view_count": null,
      "_view_module": "@jupyter-widgets/controls",
      "_view_module_version": "1.5.0",
      "_view_name": "ProgressView",
      "bar_style": "success",
      "description": "",
      "description_tooltip": null,
      "layout": "IPY_MODEL_959cf8249579427e95fbf86a23189e63",
      "max": 5,
      "min": 0,
      "orientation": "horizontal",
      "style": "IPY_MODEL_bb5a60f88e4942d0bd216938327ebeb8",
      "value": 5
     }
    },
    "94e8d5f4f6f04dbf898ff6d23ba51b4c": {
     "model_module": "@jupyter-widgets/base",
     "model_module_version": "1.2.0",
     "model_name": "LayoutModel",
     "state": {
      "_model_module": "@jupyter-widgets/base",
      "_model_module_version": "1.2.0",
      "_model_name": "LayoutModel",
      "_view_count": null,
      "_view_module": "@jupyter-widgets/base",
      "_view_module_version": "1.2.0",
      "_view_name": "LayoutView",
      "align_content": null,
      "align_items": null,
      "align_self": null,
      "border": null,
      "bottom": null,
      "display": null,
      "flex": null,
      "flex_flow": null,
      "grid_area": null,
      "grid_auto_columns": null,
      "grid_auto_flow": null,
      "grid_auto_rows": null,
      "grid_column": null,
      "grid_gap": null,
      "grid_row": null,
      "grid_template_areas": null,
      "grid_template_columns": null,
      "grid_template_rows": null,
      "height": null,
      "justify_content": null,
      "justify_items": null,
      "left": null,
      "margin": null,
      "max_height": null,
      "max_width": null,
      "min_height": null,
      "min_width": null,
      "object_fit": null,
      "object_position": null,
      "order": null,
      "overflow": null,
      "overflow_x": null,
      "overflow_y": null,
      "padding": null,
      "right": null,
      "top": null,
      "visibility": null,
      "width": null
     }
    },
    "959cf8249579427e95fbf86a23189e63": {
     "model_module": "@jupyter-widgets/base",
     "model_module_version": "1.2.0",
     "model_name": "LayoutModel",
     "state": {
      "_model_module": "@jupyter-widgets/base",
      "_model_module_version": "1.2.0",
      "_model_name": "LayoutModel",
      "_view_count": null,
      "_view_module": "@jupyter-widgets/base",
      "_view_module_version": "1.2.0",
      "_view_name": "LayoutView",
      "align_content": null,
      "align_items": null,
      "align_self": null,
      "border": null,
      "bottom": null,
      "display": null,
      "flex": null,
      "flex_flow": null,
      "grid_area": null,
      "grid_auto_columns": null,
      "grid_auto_flow": null,
      "grid_auto_rows": null,
      "grid_column": null,
      "grid_gap": null,
      "grid_row": null,
      "grid_template_areas": null,
      "grid_template_columns": null,
      "grid_template_rows": null,
      "height": null,
      "justify_content": null,
      "justify_items": null,
      "left": null,
      "margin": null,
      "max_height": null,
      "max_width": null,
      "min_height": null,
      "min_width": null,
      "object_fit": null,
      "object_position": null,
      "order": null,
      "overflow": null,
      "overflow_x": null,
      "overflow_y": null,
      "padding": null,
      "right": null,
      "top": null,
      "visibility": null,
      "width": null
     }
    },
    "9870a2fcbf0b430a8f6ed9ce38c0901d": {
     "model_module": "@jupyter-widgets/controls",
     "model_module_version": "1.5.0",
     "model_name": "HBoxModel",
     "state": {
      "_dom_classes": [],
      "_model_module": "@jupyter-widgets/controls",
      "_model_module_version": "1.5.0",
      "_model_name": "HBoxModel",
      "_view_count": null,
      "_view_module": "@jupyter-widgets/controls",
      "_view_module_version": "1.5.0",
      "_view_name": "HBoxView",
      "box_style": "",
      "children": [
       "IPY_MODEL_0bb5257a528b43c7a0853caf7adf88f9",
       "IPY_MODEL_29bccb4b26ec495c8362b4111c6b96d1",
       "IPY_MODEL_0462260db2ef4ddfa72439b9be7232f3"
      ],
      "layout": "IPY_MODEL_6fa5374b9a8b43cf86f5c7b189fa1560"
     }
    },
    "9cec965eba8547da900c07cdef414aa6": {
     "model_module": "@jupyter-widgets/controls",
     "model_module_version": "1.5.0",
     "model_name": "DescriptionStyleModel",
     "state": {
      "_model_module": "@jupyter-widgets/controls",
      "_model_module_version": "1.5.0",
      "_model_name": "DescriptionStyleModel",
      "_view_count": null,
      "_view_module": "@jupyter-widgets/base",
      "_view_module_version": "1.2.0",
      "_view_name": "StyleView",
      "description_width": ""
     }
    },
    "a4ad95d1301d4820814f37740a3f587a": {
     "model_module": "@jupyter-widgets/controls",
     "model_module_version": "1.5.0",
     "model_name": "FloatProgressModel",
     "state": {
      "_dom_classes": [],
      "_model_module": "@jupyter-widgets/controls",
      "_model_module_version": "1.5.0",
      "_model_name": "FloatProgressModel",
      "_view_count": null,
      "_view_module": "@jupyter-widgets/controls",
      "_view_module_version": "1.5.0",
      "_view_name": "ProgressView",
      "bar_style": "success",
      "description": "",
      "description_tooltip": null,
      "layout": "IPY_MODEL_d65229238f764600921afd10ab5a3941",
      "max": 1709,
      "min": 0,
      "orientation": "horizontal",
      "style": "IPY_MODEL_09688b89a5f7441988ac4139fd0691c1",
      "value": 1709
     }
    },
    "ace27a0e7b1c466db30d6ae8b8d5d2f0": {
     "model_module": "@jupyter-widgets/controls",
     "model_module_version": "1.5.0",
     "model_name": "DescriptionStyleModel",
     "state": {
      "_model_module": "@jupyter-widgets/controls",
      "_model_module_version": "1.5.0",
      "_model_name": "DescriptionStyleModel",
      "_view_count": null,
      "_view_module": "@jupyter-widgets/base",
      "_view_module_version": "1.2.0",
      "_view_name": "StyleView",
      "description_width": ""
     }
    },
    "ae77775d82bc45c39ca4fa875ffc431e": {
     "model_module": "@jupyter-widgets/controls",
     "model_module_version": "1.5.0",
     "model_name": "DescriptionStyleModel",
     "state": {
      "_model_module": "@jupyter-widgets/controls",
      "_model_module_version": "1.5.0",
      "_model_name": "DescriptionStyleModel",
      "_view_count": null,
      "_view_module": "@jupyter-widgets/base",
      "_view_module_version": "1.2.0",
      "_view_name": "StyleView",
      "description_width": ""
     }
    },
    "bb5a60f88e4942d0bd216938327ebeb8": {
     "model_module": "@jupyter-widgets/controls",
     "model_module_version": "1.5.0",
     "model_name": "ProgressStyleModel",
     "state": {
      "_model_module": "@jupyter-widgets/controls",
      "_model_module_version": "1.5.0",
      "_model_name": "ProgressStyleModel",
      "_view_count": null,
      "_view_module": "@jupyter-widgets/base",
      "_view_module_version": "1.2.0",
      "_view_name": "StyleView",
      "bar_color": null,
      "description_width": ""
     }
    },
    "bc36f50ed08b4f13b49d77546b6ee167": {
     "model_module": "@jupyter-widgets/controls",
     "model_module_version": "1.5.0",
     "model_name": "HBoxModel",
     "state": {
      "_dom_classes": [],
      "_model_module": "@jupyter-widgets/controls",
      "_model_module_version": "1.5.0",
      "_model_name": "HBoxModel",
      "_view_count": null,
      "_view_module": "@jupyter-widgets/controls",
      "_view_module_version": "1.5.0",
      "_view_name": "HBoxView",
      "box_style": "",
      "children": [
       "IPY_MODEL_db73875f23f34aa6963df659a35233b5",
       "IPY_MODEL_91bf6494f5574108903b49d66a347844",
       "IPY_MODEL_6b311740f4264beeb3b82f783375261e"
      ],
      "layout": "IPY_MODEL_94e8d5f4f6f04dbf898ff6d23ba51b4c"
     }
    },
    "c14f4b25591343dd8eaaca3054c284dc": {
     "model_module": "@jupyter-widgets/base",
     "model_module_version": "1.2.0",
     "model_name": "LayoutModel",
     "state": {
      "_model_module": "@jupyter-widgets/base",
      "_model_module_version": "1.2.0",
      "_model_name": "LayoutModel",
      "_view_count": null,
      "_view_module": "@jupyter-widgets/base",
      "_view_module_version": "1.2.0",
      "_view_name": "LayoutView",
      "align_content": null,
      "align_items": null,
      "align_self": null,
      "border": null,
      "bottom": null,
      "display": null,
      "flex": null,
      "flex_flow": null,
      "grid_area": null,
      "grid_auto_columns": null,
      "grid_auto_flow": null,
      "grid_auto_rows": null,
      "grid_column": null,
      "grid_gap": null,
      "grid_row": null,
      "grid_template_areas": null,
      "grid_template_columns": null,
      "grid_template_rows": null,
      "height": null,
      "justify_content": null,
      "justify_items": null,
      "left": null,
      "margin": null,
      "max_height": null,
      "max_width": null,
      "min_height": null,
      "min_width": null,
      "object_fit": null,
      "object_position": null,
      "order": null,
      "overflow": null,
      "overflow_x": null,
      "overflow_y": null,
      "padding": null,
      "right": null,
      "top": null,
      "visibility": null,
      "width": null
     }
    },
    "c34b3cc7c1554ec7b337d1b44a50b23e": {
     "model_module": "@jupyter-widgets/controls",
     "model_module_version": "1.5.0",
     "model_name": "DescriptionStyleModel",
     "state": {
      "_model_module": "@jupyter-widgets/controls",
      "_model_module_version": "1.5.0",
      "_model_name": "DescriptionStyleModel",
      "_view_count": null,
      "_view_module": "@jupyter-widgets/base",
      "_view_module_version": "1.2.0",
      "_view_name": "StyleView",
      "description_width": ""
     }
    },
    "d3f0dcfeaebc490aa548599ce4116e73": {
     "model_module": "@jupyter-widgets/base",
     "model_module_version": "1.2.0",
     "model_name": "LayoutModel",
     "state": {
      "_model_module": "@jupyter-widgets/base",
      "_model_module_version": "1.2.0",
      "_model_name": "LayoutModel",
      "_view_count": null,
      "_view_module": "@jupyter-widgets/base",
      "_view_module_version": "1.2.0",
      "_view_name": "LayoutView",
      "align_content": null,
      "align_items": null,
      "align_self": null,
      "border": null,
      "bottom": null,
      "display": null,
      "flex": null,
      "flex_flow": null,
      "grid_area": null,
      "grid_auto_columns": null,
      "grid_auto_flow": null,
      "grid_auto_rows": null,
      "grid_column": null,
      "grid_gap": null,
      "grid_row": null,
      "grid_template_areas": null,
      "grid_template_columns": null,
      "grid_template_rows": null,
      "height": null,
      "justify_content": null,
      "justify_items": null,
      "left": null,
      "margin": null,
      "max_height": null,
      "max_width": null,
      "min_height": null,
      "min_width": null,
      "object_fit": null,
      "object_position": null,
      "order": null,
      "overflow": null,
      "overflow_x": null,
      "overflow_y": null,
      "padding": null,
      "right": null,
      "top": null,
      "visibility": null,
      "width": null
     }
    },
    "d65229238f764600921afd10ab5a3941": {
     "model_module": "@jupyter-widgets/base",
     "model_module_version": "1.2.0",
     "model_name": "LayoutModel",
     "state": {
      "_model_module": "@jupyter-widgets/base",
      "_model_module_version": "1.2.0",
      "_model_name": "LayoutModel",
      "_view_count": null,
      "_view_module": "@jupyter-widgets/base",
      "_view_module_version": "1.2.0",
      "_view_name": "LayoutView",
      "align_content": null,
      "align_items": null,
      "align_self": null,
      "border": null,
      "bottom": null,
      "display": null,
      "flex": null,
      "flex_flow": null,
      "grid_area": null,
      "grid_auto_columns": null,
      "grid_auto_flow": null,
      "grid_auto_rows": null,
      "grid_column": null,
      "grid_gap": null,
      "grid_row": null,
      "grid_template_areas": null,
      "grid_template_columns": null,
      "grid_template_rows": null,
      "height": null,
      "justify_content": null,
      "justify_items": null,
      "left": null,
      "margin": null,
      "max_height": null,
      "max_width": null,
      "min_height": null,
      "min_width": null,
      "object_fit": null,
      "object_position": null,
      "order": null,
      "overflow": null,
      "overflow_x": null,
      "overflow_y": null,
      "padding": null,
      "right": null,
      "top": null,
      "visibility": null,
      "width": null
     }
    },
    "db73875f23f34aa6963df659a35233b5": {
     "model_module": "@jupyter-widgets/controls",
     "model_module_version": "1.5.0",
     "model_name": "HTMLModel",
     "state": {
      "_dom_classes": [],
      "_model_module": "@jupyter-widgets/controls",
      "_model_module_version": "1.5.0",
      "_model_name": "HTMLModel",
      "_view_count": null,
      "_view_module": "@jupyter-widgets/controls",
      "_view_module_version": "1.5.0",
      "_view_name": "HTMLView",
      "description": "",
      "description_tooltip": null,
      "layout": "IPY_MODEL_c14f4b25591343dd8eaaca3054c284dc",
      "placeholder": "​",
      "style": "IPY_MODEL_86c40618860c4272b6dd6474dc0ca0cd",
      "value": "Inserting customers data (batches of size 200): 100%"
     }
    },
    "ff29a0730f5a4a9786079d924f9ef0dd": {
     "model_module": "@jupyter-widgets/controls",
     "model_module_version": "1.5.0",
     "model_name": "HBoxModel",
     "state": {
      "_dom_classes": [],
      "_model_module": "@jupyter-widgets/controls",
      "_model_module_version": "1.5.0",
      "_model_name": "HBoxModel",
      "_view_count": null,
      "_view_module": "@jupyter-widgets/controls",
      "_view_module_version": "1.5.0",
      "_view_name": "HBoxView",
      "box_style": "",
      "children": [
       "IPY_MODEL_6038333e1ce64b0ca074159f5c6c7025",
       "IPY_MODEL_a4ad95d1301d4820814f37740a3f587a",
       "IPY_MODEL_58635d61aac940d99c092dd25f3a8fff"
      ],
      "layout": "IPY_MODEL_365377a188114657aa24bf7a0a5a1d4f"
     }
    }
   }
  }
 },
 "nbformat": 4,
 "nbformat_minor": 4
}
